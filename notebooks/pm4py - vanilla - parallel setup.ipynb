{
 "cells": [
  {
   "cell_type": "code",
   "execution_count": 1,
   "id": "d5a8a552",
   "metadata": {},
   "outputs": [],
   "source": [
    "# Miners\n",
    "from pm4py import serialize, deserialize\n",
    "from pm4py import discover_dfg as dfg_discovery\n",
    "\n",
    "from pm4py.algo.discovery.alpha import algorithm as alpha_miner\n",
    "from pm4py.algo.discovery.heuristics import algorithm as heuristics_miner\n",
    "from pm4py.algo.discovery.inductive import algorithm as inductive_miner\n",
    "\n",
    "\n",
    "# Evaluators\n",
    "import pandas as pd\n",
    "import re\n",
    "import pm4py\n",
    "import sys\n",
    "import dask\n",
    "from dask.distributed import Client, LocalCluster\n",
    "from pm4py.discovery import DFG\n",
    "from pm4py import discover_dfg_typed\n",
    "\n",
    "from pm4py.algo.evaluation.simplicity import algorithm as simplicity #simplicity\n",
    "from pm4py.algo.evaluation.replay_fitness import algorithm as fitness_alignment #fitness\n",
    "from pm4py.algo.evaluation.generalization import algorithm as generalization #generalization"
   ]
  },
  {
   "cell_type": "code",
   "execution_count": 2,
   "id": "b1d827f1",
   "metadata": {},
   "outputs": [
    {
     "name": "stderr",
     "output_type": "stream",
     "text": [
      "2023-04-04 14:31:02,652 - distributed.diskutils - INFO - Found stale lock file and directory '/tmp/dask-worker-space/worker-w9guvi_g', purging\n",
      "2023-04-04 14:31:02,653 - distributed.diskutils - INFO - Found stale lock file and directory '/tmp/dask-worker-space/worker-kgwcq_u7', purging\n",
      "2023-04-04 14:31:02,653 - distributed.diskutils - INFO - Found stale lock file and directory '/tmp/dask-worker-space/worker-0ai8y9dn', purging\n",
      "2023-04-04 14:31:02,653 - distributed.diskutils - INFO - Found stale lock file and directory '/tmp/dask-worker-space/worker-8e99p644', purging\n",
      "2023-04-04 14:31:02,653 - distributed.diskutils - INFO - Found stale lock file and directory '/tmp/dask-worker-space/worker-77hc6cm8', purging\n"
     ]
    }
   ],
   "source": [
    "cluster = LocalCluster(n_workers=1, threads_per_worker=1, memory_limit=None)"
   ]
  },
  {
   "cell_type": "code",
   "execution_count": 3,
   "id": "997b11cf",
   "metadata": {},
   "outputs": [
    {
     "data": {
      "text/html": [
       "<div>\n",
       "    <div style=\"width: 24px; height: 24px; background-color: #e1e1e1; border: 3px solid #9D9D9D; border-radius: 5px; position: absolute;\"> </div>\n",
       "    <div style=\"margin-left: 48px;\">\n",
       "        <h3 style=\"margin-bottom: 0px;\">Client</h3>\n",
       "        <p style=\"color: #9D9D9D; margin-bottom: 0px;\">Client-537e820e-d2f5-11ed-8c4b-a9c4fbb95f6f</p>\n",
       "        <table style=\"width: 100%; text-align: left;\">\n",
       "\n",
       "        <tr>\n",
       "        \n",
       "            <td style=\"text-align: left;\"><strong>Connection method:</strong> Cluster object</td>\n",
       "            <td style=\"text-align: left;\"><strong>Cluster type:</strong> distributed.LocalCluster</td>\n",
       "        \n",
       "        </tr>\n",
       "\n",
       "        \n",
       "            <tr>\n",
       "                <td style=\"text-align: left;\">\n",
       "                    <strong>Dashboard: </strong> <a href=\"http://127.0.0.1:8787/status\" target=\"_blank\">http://127.0.0.1:8787/status</a>\n",
       "                </td>\n",
       "                <td style=\"text-align: left;\"></td>\n",
       "            </tr>\n",
       "        \n",
       "\n",
       "        </table>\n",
       "\n",
       "        \n",
       "            <details>\n",
       "            <summary style=\"margin-bottom: 20px;\"><h3 style=\"display: inline;\">Cluster Info</h3></summary>\n",
       "            <div class=\"jp-RenderedHTMLCommon jp-RenderedHTML jp-mod-trusted jp-OutputArea-output\">\n",
       "    <div style=\"width: 24px; height: 24px; background-color: #e1e1e1; border: 3px solid #9D9D9D; border-radius: 5px; position: absolute;\">\n",
       "    </div>\n",
       "    <div style=\"margin-left: 48px;\">\n",
       "        <h3 style=\"margin-bottom: 0px; margin-top: 0px;\">LocalCluster</h3>\n",
       "        <p style=\"color: #9D9D9D; margin-bottom: 0px;\">b31c4932</p>\n",
       "        <table style=\"width: 100%; text-align: left;\">\n",
       "            <tr>\n",
       "                <td style=\"text-align: left;\">\n",
       "                    <strong>Dashboard:</strong> <a href=\"http://127.0.0.1:8787/status\" target=\"_blank\">http://127.0.0.1:8787/status</a>\n",
       "                </td>\n",
       "                <td style=\"text-align: left;\">\n",
       "                    <strong>Workers:</strong> 1\n",
       "                </td>\n",
       "            </tr>\n",
       "            <tr>\n",
       "                <td style=\"text-align: left;\">\n",
       "                    <strong>Total threads:</strong> 1\n",
       "                </td>\n",
       "                <td style=\"text-align: left;\">\n",
       "                    <strong>Total memory:</strong> 0 B\n",
       "                </td>\n",
       "            </tr>\n",
       "            \n",
       "            <tr>\n",
       "    <td style=\"text-align: left;\"><strong>Status:</strong> running</td>\n",
       "    <td style=\"text-align: left;\"><strong>Using processes:</strong> True</td>\n",
       "</tr>\n",
       "\n",
       "            \n",
       "        </table>\n",
       "\n",
       "        <details>\n",
       "            <summary style=\"margin-bottom: 20px;\">\n",
       "                <h3 style=\"display: inline;\">Scheduler Info</h3>\n",
       "            </summary>\n",
       "\n",
       "            <div style=\"\">\n",
       "    <div>\n",
       "        <div style=\"width: 24px; height: 24px; background-color: #FFF7E5; border: 3px solid #FF6132; border-radius: 5px; position: absolute;\"> </div>\n",
       "        <div style=\"margin-left: 48px;\">\n",
       "            <h3 style=\"margin-bottom: 0px;\">Scheduler</h3>\n",
       "            <p style=\"color: #9D9D9D; margin-bottom: 0px;\">Scheduler-0cb654a5-9e15-41ef-8b88-bb304736b55c</p>\n",
       "            <table style=\"width: 100%; text-align: left;\">\n",
       "                <tr>\n",
       "                    <td style=\"text-align: left;\">\n",
       "                        <strong>Comm:</strong> tcp://127.0.0.1:35045\n",
       "                    </td>\n",
       "                    <td style=\"text-align: left;\">\n",
       "                        <strong>Workers:</strong> 1\n",
       "                    </td>\n",
       "                </tr>\n",
       "                <tr>\n",
       "                    <td style=\"text-align: left;\">\n",
       "                        <strong>Dashboard:</strong> <a href=\"http://127.0.0.1:8787/status\" target=\"_blank\">http://127.0.0.1:8787/status</a>\n",
       "                    </td>\n",
       "                    <td style=\"text-align: left;\">\n",
       "                        <strong>Total threads:</strong> 1\n",
       "                    </td>\n",
       "                </tr>\n",
       "                <tr>\n",
       "                    <td style=\"text-align: left;\">\n",
       "                        <strong>Started:</strong> Just now\n",
       "                    </td>\n",
       "                    <td style=\"text-align: left;\">\n",
       "                        <strong>Total memory:</strong> 0 B\n",
       "                    </td>\n",
       "                </tr>\n",
       "            </table>\n",
       "        </div>\n",
       "    </div>\n",
       "\n",
       "    <details style=\"margin-left: 48px;\">\n",
       "        <summary style=\"margin-bottom: 20px;\">\n",
       "            <h3 style=\"display: inline;\">Workers</h3>\n",
       "        </summary>\n",
       "\n",
       "        \n",
       "        <div style=\"margin-bottom: 20px;\">\n",
       "            <div style=\"width: 24px; height: 24px; background-color: #DBF5FF; border: 3px solid #4CC9FF; border-radius: 5px; position: absolute;\"> </div>\n",
       "            <div style=\"margin-left: 48px;\">\n",
       "            <details>\n",
       "                <summary>\n",
       "                    <h4 style=\"margin-bottom: 0px; display: inline;\">Worker: 0</h4>\n",
       "                </summary>\n",
       "                <table style=\"width: 100%; text-align: left;\">\n",
       "                    <tr>\n",
       "                        <td style=\"text-align: left;\">\n",
       "                            <strong>Comm: </strong> tcp://127.0.0.1:43377\n",
       "                        </td>\n",
       "                        <td style=\"text-align: left;\">\n",
       "                            <strong>Total threads: </strong> 1\n",
       "                        </td>\n",
       "                    </tr>\n",
       "                    <tr>\n",
       "                        <td style=\"text-align: left;\">\n",
       "                            <strong>Dashboard: </strong> <a href=\"http://127.0.0.1:42995/status\" target=\"_blank\">http://127.0.0.1:42995/status</a>\n",
       "                        </td>\n",
       "                        <td style=\"text-align: left;\">\n",
       "                            <strong>Memory: </strong> 0 B\n",
       "                        </td>\n",
       "                    </tr>\n",
       "                    <tr>\n",
       "                        <td style=\"text-align: left;\">\n",
       "                            <strong>Nanny: </strong> tcp://127.0.0.1:34339\n",
       "                        </td>\n",
       "                        <td style=\"text-align: left;\"></td>\n",
       "                    </tr>\n",
       "                    <tr>\n",
       "                        <td colspan=\"2\" style=\"text-align: left;\">\n",
       "                            <strong>Local directory: </strong> /tmp/dask-worker-space/worker-t5_7yaso\n",
       "                        </td>\n",
       "                    </tr>\n",
       "\n",
       "                    \n",
       "\n",
       "                    \n",
       "\n",
       "                </table>\n",
       "            </details>\n",
       "            </div>\n",
       "        </div>\n",
       "        \n",
       "\n",
       "    </details>\n",
       "</div>\n",
       "\n",
       "        </details>\n",
       "    </div>\n",
       "</div>\n",
       "            </details>\n",
       "        \n",
       "\n",
       "    </div>\n",
       "</div>"
      ],
      "text/plain": [
       "<Client: 'tcp://127.0.0.1:35045' processes=1 threads=1>"
      ]
     },
     "execution_count": 3,
     "metadata": {},
     "output_type": "execute_result"
    }
   ],
   "source": [
    "client = Client(cluster)\n",
    "client"
   ]
  },
  {
   "cell_type": "code",
   "execution_count": 4,
   "id": "eb5aeffe",
   "metadata": {},
   "outputs": [
    {
     "data": {
      "text/plain": [
       "<distributed.deploy.adaptive.Adaptive at 0xffff920a3700>"
      ]
     },
     "execution_count": 4,
     "metadata": {},
     "output_type": "execute_result"
    }
   ],
   "source": [
    "cluster.adapt(minimum=1, maximum=8)"
   ]
  },
  {
   "cell_type": "code",
   "execution_count": 5,
   "id": "38abc621",
   "metadata": {},
   "outputs": [],
   "source": [
    "sys.setrecursionlimit(3000)"
   ]
  },
  {
   "cell_type": "code",
   "execution_count": 6,
   "id": "24d5ee9d",
   "metadata": {},
   "outputs": [],
   "source": [
    "import timeit\n",
    "\n",
    "def useExecutionTime(func):\n",
    "    def wrapper(*args, **kwargs):\n",
    "        start_time = timeit.default_timer()\n",
    "        result = func(*args, **kwargs)\n",
    "        end_time = timeit.default_timer()\n",
    "        execution_time = end_time - start_time\n",
    "        return {'result': result, 'execution_time': execution_time}\n",
    "    return wrapper"
   ]
  },
  {
   "cell_type": "code",
   "execution_count": 7,
   "id": "5db7a78e",
   "metadata": {},
   "outputs": [],
   "source": [
    "@useExecutionTime\n",
    "def getMinerResult(dfg, miner, threshold = 0.5):\n",
    "    result = {}\n",
    "    if miner == 'heuristic_miner':\n",
    "        net, im, fm = heuristics_miner.apply_dfg(dfg['dfg'], parameters={heuristics_miner.Variants.CLASSIC.value.Parameters.DEPENDENCY_THRESH: threshold})\n",
    "    elif miner == 'inductive_miner':\n",
    "        net, im, fm = pm4py.discover_petri_net_inductive(dfg['dfgObj'])\n",
    "    elif miner == 'alpha_miner':\n",
    "        net, im, fm = alpha_miner.apply_dfg(dfg['dfg'])\n",
    "    \n",
    "    result[miner] = serialize(net, im, fm)\n",
    "    \n",
    "    return result\n",
    "    \n",
    "def setMiners(dfg):\n",
    "    lazyList = []\n",
    "    miners = [\n",
    "        'heuristic_miner',\n",
    "        'inductive_miner',\n",
    "#         'alpha_miner'\n",
    "    ]\n",
    "    for miner in miners:\n",
    "        task = dask.delayed(getMinerResult)(dfg, miner)\n",
    "        lazyList.append(task)\n",
    "    \n",
    "    return lazyList"
   ]
  },
  {
   "cell_type": "code",
   "execution_count": 8,
   "id": "34471003",
   "metadata": {},
   "outputs": [],
   "source": [
    "@useExecutionTime\n",
    "def getMetrics(log, miner, metric, net, im, fm):\n",
    "    try:\n",
    "        result = {\n",
    "            miner: {\n",
    "                metric: 0\n",
    "            }\n",
    "        }\n",
    "        if metric == 'fitness':\n",
    "            result[miner][metric] = fitness_alignment.apply(log, net, im, fm)['log_fitness']\n",
    "        elif metric == 'simplicity':\n",
    "            result[miner][metric] = simplicity.apply(net)\n",
    "        elif metric == 'precision':\n",
    "            result[miner][metric] = pm4py.precision_alignments(log, net, im, fm)\n",
    "        elif metric == 'generalization':\n",
    "            result[miner][metric] = generalization.apply(log, net, im, fm)\n",
    "\n",
    "        return result\n",
    "    except Exception as e:\n",
    "        return {miner: {metric: {\"error\": e}}}\n",
    "\n",
    "def setMetrics(log, miners):\n",
    "    sys.setrecursionlimit(30000)\n",
    "    results = []\n",
    "    metrics = [\n",
    "        'fitness',\n",
    "        'simplicity',\n",
    "#         'precision',\n",
    "        'generalization'\n",
    "    ]\n",
    "    \n",
    "    for metric in metrics:\n",
    "        for miner in miners:\n",
    "            algorithm = list(miner['result'].keys())[0]\n",
    "            net, im, fm = deserialize(miner['result'][algorithm])\n",
    "            task = dask.delayed(getMetrics)(log, algorithm, metric, net, im, fm)\n",
    "            results.append(task)\n",
    "    \n",
    "    return results"
   ]
  },
  {
   "cell_type": "code",
   "execution_count": 9,
   "id": "90686152",
   "metadata": {},
   "outputs": [
    {
     "name": "stderr",
     "output_type": "stream",
     "text": [
      "/tmp/ipykernel_3147/2269998115.py:2: DtypeWarning: Columns (29) have mixed types. Specify dtype option on import or set low_memory=False.\n",
      "  dataframe = pd.concat((pd.read_csv(filename) for filename in data_files))\n",
      "/tmp/ipykernel_3147/2269998115.py:2: DtypeWarning: Columns (27) have mixed types. Specify dtype option on import or set low_memory=False.\n",
      "  dataframe = pd.concat((pd.read_csv(filename) for filename in data_files))\n",
      "/tmp/ipykernel_3147/2269998115.py:2: DtypeWarning: Columns (27) have mixed types. Specify dtype option on import or set low_memory=False.\n",
      "  dataframe = pd.concat((pd.read_csv(filename) for filename in data_files))\n",
      "/tmp/ipykernel_3147/2269998115.py:2: DtypeWarning: Columns (28) have mixed types. Specify dtype option on import or set low_memory=False.\n",
      "  dataframe = pd.concat((pd.read_csv(filename) for filename in data_files))\n",
      "/tmp/ipykernel_3147/2269998115.py:2: DtypeWarning: Columns (28,29) have mixed types. Specify dtype option on import or set low_memory=False.\n",
      "  dataframe = pd.concat((pd.read_csv(filename) for filename in data_files))\n"
     ]
    }
   ],
   "source": [
    "data_files = ['BPIC15_1.csv', 'BPIC15_2.csv', 'BPIC15_3.csv', 'BPIC15_4.csv', 'BPIC15_5.csv']\n",
    "dataframe = pd.concat((pd.read_csv(filename) for filename in data_files))\n",
    "fileName = '-'.join(data_files)"
   ]
  },
  {
   "cell_type": "code",
   "execution_count": 10,
   "id": "f232f2c8",
   "metadata": {},
   "outputs": [],
   "source": [
    "# fileName = 'BPIC15_5'"
   ]
  },
  {
   "cell_type": "code",
   "execution_count": 11,
   "id": "15531860",
   "metadata": {},
   "outputs": [],
   "source": [
    "# dataframe = pd.read_csv('{}.csv'.format(fileName), dtype={'dateStop': 'string'})"
   ]
  },
  {
   "cell_type": "code",
   "execution_count": 12,
   "id": "39657993",
   "metadata": {},
   "outputs": [],
   "source": [
    "# dataframe = dataframe.rename(columns={\"Incident ID\": \"case:concept:name\", \"IncidentActivity_Type\": \"concept:name\", \"DateStamp\": \"time:timestamp\"})"
   ]
  },
  {
   "cell_type": "code",
   "execution_count": 13,
   "id": "385bee36",
   "metadata": {},
   "outputs": [],
   "source": [
    "# dataframe = dataframe.rename(columns={\"CustomerID\": \"case:concept:name\", \"SessionID\": \"concept:name\", \"TIMESTAMP\": \"time:timestamp\"})"
   ]
  },
  {
   "cell_type": "code",
   "execution_count": 14,
   "id": "5d3a4bf2",
   "metadata": {},
   "outputs": [],
   "source": [
    "# BPI_2019\n",
    "# dataframe = dataframe.rename(columns={\"case concept:name\": \"case:concept:name\", \"event concept:name\": \"concept:name\", \"event time:timestamp\": \"time:timestamp\"})"
   ]
  },
  {
   "cell_type": "code",
   "execution_count": 15,
   "id": "37735590",
   "metadata": {},
   "outputs": [],
   "source": [
    "dataframe['time:timestamp'] = pd.to_datetime(dataframe['time:timestamp'], utc=True)\n",
    "dataframe['concept:name'] = dataframe['concept:name'].astype(str)\n",
    "dataframe['case:concept:name'] = dataframe['case:concept:name'].astype(str)"
   ]
  },
  {
   "cell_type": "code",
   "execution_count": 16,
   "id": "9e8386ba",
   "metadata": {},
   "outputs": [],
   "source": [
    "start_time = timeit.default_timer()\n",
    "dfg, start_activities, end_activities = dfg_discovery(dataframe)\n",
    "end_time = timeit.default_timer()\n",
    "dfgDiscoveryExecutionTime = end_time - start_time"
   ]
  },
  {
   "cell_type": "code",
   "execution_count": 17,
   "id": "9b0b63f0",
   "metadata": {},
   "outputs": [],
   "source": [
    "dfgObj = DFG(dfg, start_activities=start_activities, end_activities=end_activities)"
   ]
  },
  {
   "cell_type": "code",
   "execution_count": 18,
   "id": "f06af5fa",
   "metadata": {},
   "outputs": [],
   "source": [
    "minersResults = setMiners({\"dfgObj\": dfgObj, \"dfg\": dfg})"
   ]
  },
  {
   "cell_type": "code",
   "execution_count": 19,
   "id": "e0c5bc84",
   "metadata": {},
   "outputs": [],
   "source": [
    "minersResults = dask.compute(*minersResults)"
   ]
  },
  {
   "cell_type": "code",
   "execution_count": 20,
   "id": "508f5977",
   "metadata": {},
   "outputs": [],
   "source": [
    "scattered_data = client.scatter(dataframe)"
   ]
  },
  {
   "cell_type": "code",
   "execution_count": 21,
   "id": "012b6699",
   "metadata": {},
   "outputs": [],
   "source": [
    "metricsResults = setMetrics(scattered_data, minersResults)"
   ]
  },
  {
   "cell_type": "code",
   "execution_count": 22,
   "id": "f61af1a0",
   "metadata": {},
   "outputs": [
    {
     "name": "stderr",
     "output_type": "stream",
     "text": [
      "replaying log with TBR, completed variants :: 100%|██████████| 5539/5539 [01:32<00:00, 60.17it/s] \n",
      "aligning log, completed variants :: 100%|██████████| 5539/5539 [1:06:05<00:00,  1.40it/s] 1.24it/s]\n",
      "replaying log with TBR, completed variants :: 100%|██████████| 5539/5539 [1:16:13<00:00,  1.21it/s]\n",
      "replaying log with TBR, completed variants :: 100%|██████████| 5539/5539 [1:17:11<00:00,  1.20it/s]\n"
     ]
    }
   ],
   "source": [
    "metricsResults = dask.compute(*metricsResults)"
   ]
  },
  {
   "cell_type": "code",
   "execution_count": 23,
   "id": "d4bbb157",
   "metadata": {},
   "outputs": [],
   "source": [
    "def getStatisticalDataFrames(metricsResults, minersResults):\n",
    "\n",
    "    resultsPerMiner = {}\n",
    "    metricsExecutionTimePerMiner = {}\n",
    "    minerExecutionTime = {}\n",
    "\n",
    "    for result in metricsResults:\n",
    "        miner = list(result['result'].keys())[0]\n",
    "        execution_time = result['execution_time']\n",
    "        metricKey = list(result['result'][miner].keys())[0]\n",
    "        metricValue = result['result'][miner][metricKey]\n",
    "\n",
    "        resultsPerMiner.setdefault(miner, {})\n",
    "        resultsPerMiner[miner].setdefault(metricKey, None)\n",
    "\n",
    "        metricsExecutionTimePerMiner.setdefault(miner, {})\n",
    "        metricsExecutionTimePerMiner[miner].setdefault(metricKey, None)\n",
    "\n",
    "        if resultsPerMiner[miner][metricKey] == None:\n",
    "            resultsPerMiner[miner][metricKey] = metricValue\n",
    "\n",
    "        if metricsExecutionTimePerMiner[miner][metricKey] == None:\n",
    "            metricsExecutionTimePerMiner[miner][metricKey] = execution_time\n",
    "            \n",
    "    for result in minersResults:\n",
    "        miner = list(result['result'].keys())[0]\n",
    "        execution_time = result['execution_time']\n",
    "        minerExecutionTime.setdefault(miner, execution_time)\n",
    "        minerExecutionTime[miner] = execution_time\n",
    "            \n",
    "    resultsPerMiner['data_set'] = fileName\n",
    "    metricsExecutionTimePerMiner['data_set'] = fileName\n",
    "    minerExecutionTime['data_set'] = fileName\n",
    "            \n",
    "    return [\n",
    "        pd.DataFrame(resultsPerMiner),\n",
    "        pd.DataFrame(metricsExecutionTimePerMiner),\n",
    "        pd.DataFrame(minerExecutionTime, index=['execution_time'])\n",
    "    ]"
   ]
  },
  {
   "cell_type": "code",
   "execution_count": 24,
   "id": "8b901e0d",
   "metadata": {},
   "outputs": [],
   "source": [
    "results, execution_times, miner_execution_time = getStatisticalDataFrames(metricsResults, minersResults)"
   ]
  },
  {
   "cell_type": "code",
   "execution_count": 25,
   "id": "a61cd7f1",
   "metadata": {},
   "outputs": [],
   "source": [
    "# results"
   ]
  },
  {
   "cell_type": "code",
   "execution_count": 26,
   "id": "0a8fc47c",
   "metadata": {},
   "outputs": [],
   "source": [
    "# execution_times"
   ]
  },
  {
   "cell_type": "code",
   "execution_count": 27,
   "id": "c74c9076",
   "metadata": {},
   "outputs": [],
   "source": [
    "execution_times.to_csv('./results/2 - parallel setup/{}_metrics_execution_times.csv'.format(fileName))"
   ]
  },
  {
   "cell_type": "code",
   "execution_count": 28,
   "id": "310be608",
   "metadata": {},
   "outputs": [],
   "source": [
    "results.to_csv('./results/2 - parallel setup/{}_results.csv'.format(fileName))"
   ]
  },
  {
   "cell_type": "code",
   "execution_count": 29,
   "id": "01b9a824",
   "metadata": {},
   "outputs": [],
   "source": [
    "miner_execution_time.to_csv('./results/2 - parallel setup/{}_miner_execution_time.csv'.format(fileName))"
   ]
  },
  {
   "cell_type": "code",
   "execution_count": 30,
   "id": "46655d08",
   "metadata": {},
   "outputs": [
    {
     "data": {
      "text/plain": [
       "'BPIC15_1.csv-BPIC15_2.csv-BPIC15_3.csv-BPIC15_4.csv-BPIC15_5.csv'"
      ]
     },
     "execution_count": 30,
     "metadata": {},
     "output_type": "execute_result"
    }
   ],
   "source": [
    "fileName"
   ]
  }
 ],
 "metadata": {
  "kernelspec": {
   "display_name": "Python 3 (ipykernel)",
   "language": "python",
   "name": "python3"
  },
  "language_info": {
   "codemirror_mode": {
    "name": "ipython",
    "version": 3
   },
   "file_extension": ".py",
   "mimetype": "text/x-python",
   "name": "python",
   "nbconvert_exporter": "python",
   "pygments_lexer": "ipython3",
   "version": "3.9.13"
  }
 },
 "nbformat": 4,
 "nbformat_minor": 5
}
