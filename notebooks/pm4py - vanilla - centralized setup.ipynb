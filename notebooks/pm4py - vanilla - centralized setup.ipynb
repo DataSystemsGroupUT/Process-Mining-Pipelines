{
 "cells": [
  {
   "cell_type": "code",
   "execution_count": 1,
   "id": "d5a8a552",
   "metadata": {},
   "outputs": [],
   "source": [
    "# Miners\n",
    "from pm4py import serialize, deserialize\n",
    "from pm4py import discover_dfg as dfg_discovery\n",
    "\n",
    "from pm4py.algo.discovery.alpha import algorithm as alpha_miner\n",
    "from pm4py.algo.discovery.heuristics import algorithm as heuristics_miner\n",
    "from pm4py.algo.discovery.inductive import algorithm as inductive_miner\n",
    "\n",
    "\n",
    "# Evaluators\n",
    "import pandas as pd\n",
    "import re\n",
    "import pm4py\n",
    "import sys\n",
    "import dask\n",
    "from pm4py.discovery import DFG\n",
    "from pm4py import discover_dfg_typed\n",
    "\n",
    "from pm4py.algo.evaluation.simplicity import algorithm as simplicity #simplicity\n",
    "from pm4py.algo.evaluation.replay_fitness import algorithm as fitness_alignment #fitness\n",
    "from pm4py.algo.evaluation.generalization import algorithm as generalization #generalization"
   ]
  },
  {
   "cell_type": "code",
   "execution_count": 2,
   "id": "add15a34",
   "metadata": {},
   "outputs": [],
   "source": [
    "import time\n",
    "import atexit\n",
    "\n",
    "start_time = time.time()\n",
    "\n",
    "# Register a function to be called before the kernel dies\n",
    "@atexit.register\n",
    "def log_execution_time():\n",
    "    end_time = time.time()\n",
    "    execution_time = end_time - start_time\n",
    "    file1 = open('myfile.txt', 'w')\n",
    "    L = [\"kernel died after {} seconds\".format(execution_time)]\n",
    "    file1.writelines(L)\n",
    "\n",
    "    # Closing file\n",
    "    file1.close()\n",
    "    print(f\"Execution time: {execution_time} seconds\")"
   ]
  },
  {
   "cell_type": "code",
   "execution_count": 3,
   "id": "24d5ee9d",
   "metadata": {},
   "outputs": [],
   "source": [
    "import timeit\n",
    "\n",
    "def useExecutionTime(func):\n",
    "    def wrapper(*args, **kwargs):\n",
    "        start_time = timeit.default_timer()\n",
    "        result = func(*args, **kwargs)\n",
    "        end_time = timeit.default_timer()\n",
    "        execution_time = end_time - start_time\n",
    "        return {'result': result, 'execution_time': execution_time}\n",
    "    return wrapper"
   ]
  },
  {
   "cell_type": "code",
   "execution_count": 4,
   "id": "5db7a78e",
   "metadata": {},
   "outputs": [],
   "source": [
    "@useExecutionTime\n",
    "def getMinerResult(dfg, miner, threshold = 0.5):\n",
    "    result = {}\n",
    "    if miner == 'heuristic_miner':\n",
    "        net, im, fm = heuristics_miner.apply_dfg(dfg['dfg'], parameters={heuristics_miner.Variants.CLASSIC.value.Parameters.DEPENDENCY_THRESH: threshold})\n",
    "    elif miner == 'inductive_miner':\n",
    "        net, im, fm = pm4py.discover_petri_net_inductive(dfg['dfgObj'])\n",
    "    elif miner == 'alpha_miner':\n",
    "        net, im, fm = alpha_miner.apply_dfg(dfg['dfg'])\n",
    "    \n",
    "    result[miner] = serialize(net, im, fm)\n",
    "    \n",
    "    return result\n",
    "    \n",
    "def setMiners(dfg):\n",
    "    lazyList = []\n",
    "    miners = [\n",
    "        'heuristic_miner',\n",
    "        'inductive_miner',\n",
    "        'alpha_miner'\n",
    "    ]\n",
    "    for miner in miners:\n",
    "        task = getMinerResult(dfg, miner)\n",
    "        lazyList.append(task)\n",
    "    \n",
    "    return lazyList"
   ]
  },
  {
   "cell_type": "code",
   "execution_count": 5,
   "id": "34471003",
   "metadata": {},
   "outputs": [],
   "source": [
    "@useExecutionTime\n",
    "def getMetrics(log, miner, metric, net, im, fm):\n",
    "    sys.setrecursionlimit(3000)\n",
    "    try:\n",
    "        result = {\n",
    "            miner: {\n",
    "                metric: 0\n",
    "            }\n",
    "        }\n",
    "        if metric == 'fitness':\n",
    "            result[miner][metric] = fitness_alignment.apply(log, net, im, fm)['log_fitness']\n",
    "        elif metric == 'simplicity':\n",
    "            result[miner][metric] = simplicity.apply(net)\n",
    "        elif metric == 'precision':\n",
    "            result[miner][metric] = pm4py.precision_alignments(log, net, im, fm)\n",
    "        elif metric == 'generalization':\n",
    "            result[miner][metric] = generalization.apply(log, net, im, fm)\n",
    "\n",
    "        return result\n",
    "    except Exception as e:\n",
    "        return {miner: {metric: {\"error\": e}}}\n",
    "\n",
    "def setMetrics(log, miners):\n",
    "    results = []\n",
    "    metrics = [\n",
    "        'fitness',\n",
    "        'simplicity',\n",
    "        'precision',\n",
    "        'generalization'\n",
    "    ]\n",
    "    \n",
    "    for metric in metrics:\n",
    "        for miner in miners:\n",
    "            algorithm = list(miner['result'].keys())[0]\n",
    "            net, im, fm = deserialize(miner['result'][algorithm])\n",
    "            task = getMetrics(log, algorithm, metric, net, im, fm)\n",
    "            results.append(task)\n",
    "    \n",
    "    return results"
   ]
  },
  {
   "cell_type": "code",
   "execution_count": 6,
   "id": "80bb3ec3",
   "metadata": {},
   "outputs": [],
   "source": [
    "# data_files = ['BPIC15_1.csv', 'BPIC15_2.csv', 'BPIC15_3.csv', 'BPIC15_4.csv', 'BPIC15_5.csv']\n",
    "# dataframe = pd.concat((pd.read_csv(filename) for filename in data_files))"
   ]
  },
  {
   "cell_type": "code",
   "execution_count": 7,
   "id": "172bf7cc",
   "metadata": {},
   "outputs": [],
   "source": [
    "# fileName = '-'.join(data_files)"
   ]
  },
  {
   "cell_type": "code",
   "execution_count": 8,
   "id": "f232f2c8",
   "metadata": {},
   "outputs": [],
   "source": [
    "fileName = 'BPI_2014_Detail Incident Activity'"
   ]
  },
  {
   "cell_type": "code",
   "execution_count": 9,
   "id": "15531860",
   "metadata": {},
   "outputs": [],
   "source": [
    "dataframe = pd.read_csv('{}.csv'.format(fileName), encoding=\"ISO-8859-1\", sep=';')"
   ]
  },
  {
   "cell_type": "code",
   "execution_count": 10,
   "id": "99014a71",
   "metadata": {},
   "outputs": [],
   "source": [
    "dataframe = dataframe.rename(columns={\"Incident ID\": \"case:concept:name\", \"IncidentActivity_Type\": \"concept:name\", \"DateStamp\": \"time:timestamp\"})"
   ]
  },
  {
   "cell_type": "code",
   "execution_count": 11,
   "id": "37735590",
   "metadata": {},
   "outputs": [],
   "source": [
    "dataframe['time:timestamp'] = pd.to_datetime(dataframe['time:timestamp'], utc=True)\n",
    "dataframe['concept:name'] = dataframe['concept:name'].astype(str)\n",
    "dataframe['case:concept:name'] = dataframe['case:concept:name'].astype(str)"
   ]
  },
  {
   "cell_type": "code",
   "execution_count": 12,
   "id": "9e8386ba",
   "metadata": {},
   "outputs": [],
   "source": [
    "start_time = timeit.default_timer()\n",
    "dfg, start_activities, end_activities = dfg_discovery(dataframe)\n",
    "end_time = timeit.default_timer()\n",
    "dfgDiscoveryExecutionTime = end_time - start_time"
   ]
  },
  {
   "cell_type": "code",
   "execution_count": 13,
   "id": "9b0b63f0",
   "metadata": {},
   "outputs": [],
   "source": [
    "dfgObj = DFG(dfg, start_activities=start_activities, end_activities=end_activities)"
   ]
  },
  {
   "cell_type": "code",
   "execution_count": 14,
   "id": "f06af5fa",
   "metadata": {},
   "outputs": [],
   "source": [
    "minersResults = setMiners({\"dfgObj\": dfgObj, \"dfg\": dfg})"
   ]
  },
  {
   "cell_type": "code",
   "execution_count": null,
   "id": "012b6699",
   "metadata": {},
   "outputs": [
    {
     "data": {
      "application/vnd.jupyter.widget-view+json": {
       "model_id": "ef3700782f2d41dab1c7cb752311bd0d",
       "version_major": 2,
       "version_minor": 0
      },
      "text/plain": [
       "replaying log with TBR, completed variants ::   0%|          | 0/31725 [00:00<?, ?it/s]"
      ]
     },
     "metadata": {},
     "output_type": "display_data"
    },
    {
     "data": {
      "application/vnd.jupyter.widget-view+json": {
       "model_id": "a61e0f37e03843fcabd570506116abd1",
       "version_major": 2,
       "version_minor": 0
      },
      "text/plain": [
       "aligning log, completed variants ::   0%|          | 0/31725 [00:00<?, ?it/s]"
      ]
     },
     "metadata": {},
     "output_type": "display_data"
    },
    {
     "data": {
      "application/vnd.jupyter.widget-view+json": {
       "model_id": "d66ce530c51542f4890d453056e3a968",
       "version_major": 2,
       "version_minor": 0
      },
      "text/plain": [
       "replaying log with TBR, completed variants ::   0%|          | 0/31725 [00:00<?, ?it/s]"
      ]
     },
     "metadata": {},
     "output_type": "display_data"
    },
    {
     "data": {
      "application/vnd.jupyter.widget-view+json": {
       "model_id": "0ce76d367b9b4bd299077fba111e52bf",
       "version_major": 2,
       "version_minor": 0
      },
      "text/plain": [
       "computing precision with alignments, completed variants ::   0%|          | 0/248024 [00:00<?, ?it/s]"
      ]
     },
     "metadata": {},
     "output_type": "display_data"
    }
   ],
   "source": [
    "metricsResults = setMetrics(dataframe, minersResults)"
   ]
  },
  {
   "cell_type": "code",
   "execution_count": null,
   "id": "d4bbb157",
   "metadata": {},
   "outputs": [],
   "source": [
    "def getStatisticalDataFrames(metricsResults, minersResults):\n",
    "\n",
    "    resultsPerMiner = {}\n",
    "    metricsExecutionTimePerMiner = {}\n",
    "    minerExecutionTime = {}\n",
    "\n",
    "    for result in metricsResults:\n",
    "        miner = list(result['result'].keys())[0]\n",
    "        execution_time = result['execution_time']\n",
    "        metricKey = list(result['result'][miner].keys())[0]\n",
    "        metricValue = result['result'][miner][metricKey]\n",
    "\n",
    "        resultsPerMiner.setdefault(miner, {})\n",
    "        resultsPerMiner[miner].setdefault(metricKey, None)\n",
    "\n",
    "        metricsExecutionTimePerMiner.setdefault(miner, {})\n",
    "        metricsExecutionTimePerMiner[miner].setdefault(metricKey, None)\n",
    "\n",
    "        if resultsPerMiner[miner][metricKey] == None:\n",
    "            resultsPerMiner[miner][metricKey] = metricValue\n",
    "\n",
    "        if metricsExecutionTimePerMiner[miner][metricKey] == None:\n",
    "            metricsExecutionTimePerMiner[miner][metricKey] = execution_time\n",
    "            \n",
    "    for result in minersResults:\n",
    "        miner = list(result['result'].keys())[0]\n",
    "        execution_time = result['execution_time']\n",
    "        minerExecutionTime.setdefault(miner, execution_time)\n",
    "        minerExecutionTime[miner] = execution_time\n",
    "            \n",
    "    resultsPerMiner['data_set'] = fileName\n",
    "    metricsExecutionTimePerMiner['data_set'] = fileName\n",
    "    minerExecutionTime['data_set'] = fileName\n",
    "            \n",
    "    return [\n",
    "        pd.DataFrame(resultsPerMiner),\n",
    "        pd.DataFrame(metricsExecutionTimePerMiner),\n",
    "        pd.DataFrame(minerExecutionTime, index=['execution_time'])\n",
    "    ]"
   ]
  },
  {
   "cell_type": "code",
   "execution_count": null,
   "id": "8b901e0d",
   "metadata": {},
   "outputs": [],
   "source": [
    "results, execution_times, miner_execution_time = getStatisticalDataFrames(metricsResults, minersResults)"
   ]
  },
  {
   "cell_type": "code",
   "execution_count": null,
   "id": "a61cd7f1",
   "metadata": {},
   "outputs": [],
   "source": [
    "results"
   ]
  },
  {
   "cell_type": "code",
   "execution_count": null,
   "id": "0a8fc47c",
   "metadata": {},
   "outputs": [],
   "source": [
    "execution_times"
   ]
  },
  {
   "cell_type": "code",
   "execution_count": null,
   "id": "bef5b8b1",
   "metadata": {},
   "outputs": [],
   "source": [
    "miner_execution_time"
   ]
  },
  {
   "cell_type": "code",
   "execution_count": null,
   "id": "516dbc6b",
   "metadata": {},
   "outputs": [],
   "source": [
    "# execution_times.to_csv('./results/1 - centralized setup/{}_metrics_execution_times.csv'.format(fileName))"
   ]
  },
  {
   "cell_type": "code",
   "execution_count": null,
   "id": "706487ec",
   "metadata": {},
   "outputs": [],
   "source": [
    "# results.to_csv('./results/1 - centralized setup/{}_results.csv'.format(fileName))"
   ]
  },
  {
   "cell_type": "code",
   "execution_count": null,
   "id": "6ab68eba",
   "metadata": {},
   "outputs": [],
   "source": [
    "# miner_execution_time.to_csv('./results/1 - centralized setup/{}_miner_execution_time.csv'.format(fileName))"
   ]
  },
  {
   "cell_type": "code",
   "execution_count": null,
   "id": "24ebc4ce",
   "metadata": {},
   "outputs": [],
   "source": []
  }
 ],
 "metadata": {
  "kernelspec": {
   "display_name": "Python 3 (ipykernel)",
   "language": "python",
   "name": "python3"
  },
  "language_info": {
   "codemirror_mode": {
    "name": "ipython",
    "version": 3
   },
   "file_extension": ".py",
   "mimetype": "text/x-python",
   "name": "python",
   "nbconvert_exporter": "python",
   "pygments_lexer": "ipython3",
   "version": "3.9.13"
  }
 },
 "nbformat": 4,
 "nbformat_minor": 5
}
