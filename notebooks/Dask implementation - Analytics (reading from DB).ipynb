{
 "cells": [
  {
   "cell_type": "code",
   "execution_count": 1,
   "id": "b0df7238",
   "metadata": {},
   "outputs": [],
   "source": [
    "import dask.dataframe as dd\n",
    "from dask.dataframe import from_pandas\n",
    "from dask.dataframe.utils import make_meta\n",
    "from neo4j import GraphDatabase\n",
    "from neo4j.exceptions import ClientError\n",
    "from dask.distributed import Client, LocalCluster, get_worker\n",
    "import dask\n",
    "\n",
    "import os\n",
    "import time\n",
    "from tqdm import tqdm\n",
    "import pandas as pd\n",
    "import re\n",
    "import gc\n",
    "import numpy as np\n",
    "import dill\n",
    "\n",
    "# Miners\n",
    "from pm4py import serialize, deserialize\n",
    "from pm4py import discover_dfg as dfg_discovery\n",
    "from pm4py.discovery import DFG\n",
    "\n",
    "from pm4py.algo.discovery.alpha import algorithm as alpha_miner\n",
    "from pm4py.algo.discovery.heuristics import algorithm as heuristics_miner\n",
    "from pm4py import discover_petri_net_inductive as inductive_miner\n",
    "\n",
    "\n",
    "# Evaluators\n",
    "from contribution import fitness_alignment, generalization, precision_alignment\n",
    "from pm4py.algo.evaluation.simplicity import algorithm as simplicity_evaluator #simplicity"
   ]
  },
  {
   "cell_type": "code",
   "execution_count": 2,
   "id": "3cf08aa0",
   "metadata": {},
   "outputs": [
    {
     "data": {
      "text/plain": [
       "<dask.config.set at 0xffff846013d0>"
      ]
     },
     "execution_count": 2,
     "metadata": {},
     "output_type": "execute_result"
    }
   ],
   "source": [
    "dask.config.set({'distributed.scheduler.active-memory-manager.start': True})"
   ]
  },
  {
   "cell_type": "code",
   "execution_count": 3,
   "id": "15189d9f",
   "metadata": {},
   "outputs": [],
   "source": [
    "import sys"
   ]
  },
  {
   "cell_type": "code",
   "execution_count": 4,
   "id": "158c668c",
   "metadata": {},
   "outputs": [],
   "source": [
    "import ctypes\n",
    "\n",
    "def trim_memory() -> int:\n",
    "    libc = ctypes.CDLL(\"libc.so.6\")\n",
    "    return libc.malloc_trim(0)"
   ]
  },
  {
   "cell_type": "code",
   "execution_count": 5,
   "id": "6dc779c0",
   "metadata": {},
   "outputs": [],
   "source": [
    "class graph_driver():\n",
    "    def __init__(self, uri_scheme='bolt', host='localhost', port='7687', username='neo4j', password='123456'):\n",
    "        self.uri_scheme = uri_scheme\n",
    "        self.host = host\n",
    "        self.port = port\n",
    "        \n",
    "        self.username = username\n",
    "        self.password = password\n",
    "        \n",
    "        self.connection_uri = \"{uri_scheme}://{host}:{port}\".format(uri_scheme=self.uri_scheme, host=self.host, port=self.port)\n",
    "        self.auth = (self.username, self.password)\n",
    "        self.driver = GraphDatabase.driver(self.connection_uri, auth=self.auth)\n",
    "        \n",
    "    def __del__(self):\n",
    "        self._close_driver()\n",
    "    \n",
    "    def _close_driver(self):\n",
    "        if self.driver:\n",
    "            self.driver.close()\n",
    "    \n",
    "    def run_single_query(self, query):\n",
    "        res = None\n",
    "        with self.driver.session() as session:\n",
    "            raw_res = session.run(query)\n",
    "            res = self.format_raw_res(raw_res)\n",
    "        return res\n",
    "    \n",
    "    def run_bulk_query(self, query_list):\n",
    "        results = []\n",
    "        with self.driver.session() as session:\n",
    "            for query in tqdm(query_list):\n",
    "                raw_res = session.run(query)\n",
    "                res = self.format_raw_res(raw_res)\n",
    "                results.append({'query':query, 'result':res})\n",
    "        return results\n",
    "    \n",
    "    def reset_graph(self, db=None):\n",
    "        return self.run_single_query(\"MATCH (n) DETACH DELETE n\")\n",
    "    \n",
    "    def test_connection(self):\n",
    "        return self.run_single_query(\"MATCH (n) RETURN COUNT(n) as nodes\")\n",
    "    \n",
    "    @staticmethod\n",
    "    def format_raw_res(raw_res):\n",
    "        res = []\n",
    "        for r in raw_res:\n",
    "            res.append(r)\n",
    "        return res"
   ]
  },
  {
   "cell_type": "code",
   "execution_count": 6,
   "id": "10ede6ef",
   "metadata": {},
   "outputs": [],
   "source": [
    "def useExecutionTime(func):\n",
    "    \n",
    "    def compute(*args, **kwargs):\n",
    "        begin = time.time()\n",
    "        \n",
    "        result = func(*args, **kwargs)\n",
    "        \n",
    "        end = time.time()\n",
    "        \n",
    "        return {\"result\": result, \"execution_time\": end - begin}\n",
    " \n",
    "    return compute\n",
    "\n",
    "@useExecutionTime\n",
    "def getComputeTime(*args, **kwargs):\n",
    "    return dask.compute(*args, **kwargs)"
   ]
  },
  {
   "cell_type": "code",
   "execution_count": 7,
   "id": "bdd1a31c",
   "metadata": {},
   "outputs": [
    {
     "name": "stderr",
     "output_type": "stream",
     "text": [
      "2023-03-16 22:18:48,200 - distributed.diskutils - INFO - Found stale lock file and directory '/tmp/dask-worker-space/worker-u8xb7f4w', purging\n"
     ]
    }
   ],
   "source": [
    "cluster = LocalCluster(n_workers=1, threads_per_worker=1, memory_limit=None)"
   ]
  },
  {
   "cell_type": "code",
   "execution_count": 8,
   "id": "54b9bc7c",
   "metadata": {},
   "outputs": [
    {
     "data": {
      "text/html": [
       "<div>\n",
       "    <div style=\"width: 24px; height: 24px; background-color: #e1e1e1; border: 3px solid #9D9D9D; border-radius: 5px; position: absolute;\"> </div>\n",
       "    <div style=\"margin-left: 48px;\">\n",
       "        <h3 style=\"margin-bottom: 0px;\">Client</h3>\n",
       "        <p style=\"color: #9D9D9D; margin-bottom: 0px;\">Client-860ce8e5-c448-11ed-8f30-7b9871608076</p>\n",
       "        <table style=\"width: 100%; text-align: left;\">\n",
       "\n",
       "        <tr>\n",
       "        \n",
       "            <td style=\"text-align: left;\"><strong>Connection method:</strong> Cluster object</td>\n",
       "            <td style=\"text-align: left;\"><strong>Cluster type:</strong> distributed.LocalCluster</td>\n",
       "        \n",
       "        </tr>\n",
       "\n",
       "        \n",
       "            <tr>\n",
       "                <td style=\"text-align: left;\">\n",
       "                    <strong>Dashboard: </strong> <a href=\"http://127.0.0.1:8787/status\" target=\"_blank\">http://127.0.0.1:8787/status</a>\n",
       "                </td>\n",
       "                <td style=\"text-align: left;\"></td>\n",
       "            </tr>\n",
       "        \n",
       "\n",
       "        </table>\n",
       "\n",
       "        \n",
       "            <details>\n",
       "            <summary style=\"margin-bottom: 20px;\"><h3 style=\"display: inline;\">Cluster Info</h3></summary>\n",
       "            <div class=\"jp-RenderedHTMLCommon jp-RenderedHTML jp-mod-trusted jp-OutputArea-output\">\n",
       "    <div style=\"width: 24px; height: 24px; background-color: #e1e1e1; border: 3px solid #9D9D9D; border-radius: 5px; position: absolute;\">\n",
       "    </div>\n",
       "    <div style=\"margin-left: 48px;\">\n",
       "        <h3 style=\"margin-bottom: 0px; margin-top: 0px;\">LocalCluster</h3>\n",
       "        <p style=\"color: #9D9D9D; margin-bottom: 0px;\">c12201d1</p>\n",
       "        <table style=\"width: 100%; text-align: left;\">\n",
       "            <tr>\n",
       "                <td style=\"text-align: left;\">\n",
       "                    <strong>Dashboard:</strong> <a href=\"http://127.0.0.1:8787/status\" target=\"_blank\">http://127.0.0.1:8787/status</a>\n",
       "                </td>\n",
       "                <td style=\"text-align: left;\">\n",
       "                    <strong>Workers:</strong> 1\n",
       "                </td>\n",
       "            </tr>\n",
       "            <tr>\n",
       "                <td style=\"text-align: left;\">\n",
       "                    <strong>Total threads:</strong> 1\n",
       "                </td>\n",
       "                <td style=\"text-align: left;\">\n",
       "                    <strong>Total memory:</strong> 0 B\n",
       "                </td>\n",
       "            </tr>\n",
       "            \n",
       "            <tr>\n",
       "    <td style=\"text-align: left;\"><strong>Status:</strong> running</td>\n",
       "    <td style=\"text-align: left;\"><strong>Using processes:</strong> True</td>\n",
       "</tr>\n",
       "\n",
       "            \n",
       "        </table>\n",
       "\n",
       "        <details>\n",
       "            <summary style=\"margin-bottom: 20px;\">\n",
       "                <h3 style=\"display: inline;\">Scheduler Info</h3>\n",
       "            </summary>\n",
       "\n",
       "            <div style=\"\">\n",
       "    <div>\n",
       "        <div style=\"width: 24px; height: 24px; background-color: #FFF7E5; border: 3px solid #FF6132; border-radius: 5px; position: absolute;\"> </div>\n",
       "        <div style=\"margin-left: 48px;\">\n",
       "            <h3 style=\"margin-bottom: 0px;\">Scheduler</h3>\n",
       "            <p style=\"color: #9D9D9D; margin-bottom: 0px;\">Scheduler-c3b69afe-03fd-44b3-a5ea-e4484a11348e</p>\n",
       "            <table style=\"width: 100%; text-align: left;\">\n",
       "                <tr>\n",
       "                    <td style=\"text-align: left;\">\n",
       "                        <strong>Comm:</strong> tcp://127.0.0.1:42171\n",
       "                    </td>\n",
       "                    <td style=\"text-align: left;\">\n",
       "                        <strong>Workers:</strong> 1\n",
       "                    </td>\n",
       "                </tr>\n",
       "                <tr>\n",
       "                    <td style=\"text-align: left;\">\n",
       "                        <strong>Dashboard:</strong> <a href=\"http://127.0.0.1:8787/status\" target=\"_blank\">http://127.0.0.1:8787/status</a>\n",
       "                    </td>\n",
       "                    <td style=\"text-align: left;\">\n",
       "                        <strong>Total threads:</strong> 1\n",
       "                    </td>\n",
       "                </tr>\n",
       "                <tr>\n",
       "                    <td style=\"text-align: left;\">\n",
       "                        <strong>Started:</strong> Just now\n",
       "                    </td>\n",
       "                    <td style=\"text-align: left;\">\n",
       "                        <strong>Total memory:</strong> 0 B\n",
       "                    </td>\n",
       "                </tr>\n",
       "            </table>\n",
       "        </div>\n",
       "    </div>\n",
       "\n",
       "    <details style=\"margin-left: 48px;\">\n",
       "        <summary style=\"margin-bottom: 20px;\">\n",
       "            <h3 style=\"display: inline;\">Workers</h3>\n",
       "        </summary>\n",
       "\n",
       "        \n",
       "        <div style=\"margin-bottom: 20px;\">\n",
       "            <div style=\"width: 24px; height: 24px; background-color: #DBF5FF; border: 3px solid #4CC9FF; border-radius: 5px; position: absolute;\"> </div>\n",
       "            <div style=\"margin-left: 48px;\">\n",
       "            <details>\n",
       "                <summary>\n",
       "                    <h4 style=\"margin-bottom: 0px; display: inline;\">Worker: 0</h4>\n",
       "                </summary>\n",
       "                <table style=\"width: 100%; text-align: left;\">\n",
       "                    <tr>\n",
       "                        <td style=\"text-align: left;\">\n",
       "                            <strong>Comm: </strong> tcp://127.0.0.1:33833\n",
       "                        </td>\n",
       "                        <td style=\"text-align: left;\">\n",
       "                            <strong>Total threads: </strong> 1\n",
       "                        </td>\n",
       "                    </tr>\n",
       "                    <tr>\n",
       "                        <td style=\"text-align: left;\">\n",
       "                            <strong>Dashboard: </strong> <a href=\"http://127.0.0.1:44923/status\" target=\"_blank\">http://127.0.0.1:44923/status</a>\n",
       "                        </td>\n",
       "                        <td style=\"text-align: left;\">\n",
       "                            <strong>Memory: </strong> 0 B\n",
       "                        </td>\n",
       "                    </tr>\n",
       "                    <tr>\n",
       "                        <td style=\"text-align: left;\">\n",
       "                            <strong>Nanny: </strong> tcp://127.0.0.1:39171\n",
       "                        </td>\n",
       "                        <td style=\"text-align: left;\"></td>\n",
       "                    </tr>\n",
       "                    <tr>\n",
       "                        <td colspan=\"2\" style=\"text-align: left;\">\n",
       "                            <strong>Local directory: </strong> /tmp/dask-worker-space/worker-zwhl17kw\n",
       "                        </td>\n",
       "                    </tr>\n",
       "\n",
       "                    \n",
       "\n",
       "                    \n",
       "\n",
       "                </table>\n",
       "            </details>\n",
       "            </div>\n",
       "        </div>\n",
       "        \n",
       "\n",
       "    </details>\n",
       "</div>\n",
       "\n",
       "        </details>\n",
       "    </div>\n",
       "</div>\n",
       "            </details>\n",
       "        \n",
       "\n",
       "    </div>\n",
       "</div>"
      ],
      "text/plain": [
       "<Client: 'tcp://127.0.0.1:42171' processes=1 threads=1>"
      ]
     },
     "execution_count": 8,
     "metadata": {},
     "output_type": "execute_result"
    }
   ],
   "source": [
    "client = Client(cluster)\n",
    "client"
   ]
  },
  {
   "cell_type": "code",
   "execution_count": 9,
   "id": "af7e6d41",
   "metadata": {},
   "outputs": [
    {
     "data": {
      "text/plain": [
       "{'tcp://127.0.0.1:33833': {'status': 'OK'}}"
      ]
     },
     "execution_count": 9,
     "metadata": {},
     "output_type": "execute_result"
    }
   ],
   "source": [
    "def run_gc(dask_worker,**kwargs):\n",
    "    gc.collect()\n",
    "    return True\n",
    "\n",
    "# Register the GC function as a plugin\n",
    "client.register_worker_plugin(run_gc, \"my_gc_plugin\")\n",
    "client.register_worker_plugin(trim_memory, \"my_trim_plugin\")"
   ]
  },
  {
   "cell_type": "code",
   "execution_count": 10,
   "id": "0ba2b599",
   "metadata": {},
   "outputs": [
    {
     "data": {
      "text/plain": [
       "<distributed.deploy.adaptive.Adaptive at 0xffff6d3617c0>"
      ]
     },
     "execution_count": 10,
     "metadata": {},
     "output_type": "execute_result"
    }
   ],
   "source": [
    "cluster.adapt(minimum=1, maximum=8)"
   ]
  },
  {
   "cell_type": "code",
   "execution_count": 11,
   "id": "e0ae56e5",
   "metadata": {},
   "outputs": [],
   "source": [
    "columnTypes = {\n",
    "    'case:IDofConceptCase': 'string',\n",
    "    'case:Includes_subCases': 'string',\n",
    "    'case:Responsible_actor': 'string',\n",
    "    'case:caseProcedure': 'string',\n",
    "    'case:concept:name': 'int64',\n",
    "    'dueDate': 'string',\n",
    "    'case:termName': 'string',\n",
    "    'dateStop': 'string',\n",
    "    'case:endDate': 'object',\n",
    "    'case:endDatePlanned': 'object',\n",
    "    'case:parts': 'object'\n",
    "}\n",
    "\n",
    "# list of file paths to be loaded\n",
    "file_paths = ['BPIC15_1.csv']\n",
    "\n",
    "# load the first file as a Dask dataframe\n",
    "df = dd.read_csv(file_paths[0], dtype=columnTypes)\n",
    "\n",
    "# iterate over the remaining files\n",
    "for file_path in file_paths[1:]:\n",
    "    # usecols parameter to load only the columns that are present in both dataframes\n",
    "    df_temp = dd.read_csv(file_path)\n",
    "    # concatenate the dataframes along the rows\n",
    "    df = dd.concat([df, dd.read_csv(file_path, dtype=columnTypes)], interleave_partitions=True)\n",
    "\n",
    "# columnTypes = {\n",
    "#     'OfferID': 'string'\n",
    "# }\n",
    "\n",
    "# fileName = 'BPI Challenge 2017'\n",
    "# df = dd.read_csv('{fileName}.csv'.format(fileName=fileName), dtype=columnTypes)\n",
    "for column in df.columns:\n",
    "    if re.search(\"[Dd]ate.*|time.*\", column):\n",
    "        df[column] = dask.dataframe.to_datetime(df[column], utc=True)\n",
    "        \n",
    "# df['case:concept:name'] = df['case:concept:name'].replace(to_replace=\"Application_\", value='', regex=True)\n",
    "df['case:concept:name'] = df['case:concept:name'].astype({'case:concept:name': 'int64'})\n",
    "        \n",
    "df = df.repartition(npartitions=1)"
   ]
  },
  {
   "cell_type": "code",
   "execution_count": 12,
   "id": "470c35e9",
   "metadata": {},
   "outputs": [],
   "source": [
    "def transformToDFG(dfgResult):\n",
    "    result = {}\n",
    "    for record in dfgResult:\n",
    "        result[(record[\"parent\"], record[\"child\"])] = record[\"frequency\"]\n",
    "    \n",
    "    return result\n",
    "\n",
    "def transformToStartEndActivity(activities):\n",
    "    result = {}\n",
    "    for record in activities:\n",
    "        result[record['name']] = record[\"frequency\"]\n",
    "        \n",
    "    return result"
   ]
  },
  {
   "cell_type": "code",
   "execution_count": 13,
   "id": "08471450",
   "metadata": {},
   "outputs": [],
   "source": [
    "def getDFG():\n",
    "    queries = {\n",
    "        \"dfgQuery\": \"\"\"MATCH result=(p:Activity)-[r:PRODUCES]->(c:Activity) RETURN p.name as parent, c.name as child, r.frequency as frequency\"\"\",\n",
    "        \"startEndActivitiesQuery\": [\"MATCH (a:StartActivity) RETURN a.name as name , a.frequency as frequency\", \"MATCH (a:EndActivity) RETURN a.name as name , a.frequency as frequency\"],\n",
    "    }\n",
    "    \n",
    "    neo4jConnection = graph_driver(uri_scheme=\"neo4j\",host=\"neo4j\", password=\"123456\")\n",
    "    \n",
    "    dfgResult = neo4jConnection.run_single_query(queries['dfgQuery'])\n",
    "    startEndActivitiesResult = neo4jConnection.run_bulk_query(queries['startEndActivitiesQuery'])\n",
    "    return [transformToDFG(dfgResult), transformToStartEndActivity(startEndActivitiesResult[0][\"result\"]), transformToStartEndActivity(startEndActivitiesResult[1][\"result\"])]\n",
    "    "
   ]
  },
  {
   "cell_type": "code",
   "execution_count": 14,
   "id": "fa32b162",
   "metadata": {},
   "outputs": [],
   "source": [
    "indexed_df = df.set_index('case:concept:name', drop=False, sorted=True)\n",
    "indexed_df['case:concept:name'] = indexed_df['case:concept:name'].astype({'case:concept:name': 'string'})"
   ]
  },
  {
   "cell_type": "code",
   "execution_count": 15,
   "id": "acc70730",
   "metadata": {},
   "outputs": [],
   "source": [
    "indexed_df.index = indexed_df.index.rename('caseId')\n",
    "indexed_df = indexed_df.repartition(npartitions=4)"
   ]
  },
  {
   "cell_type": "code",
   "execution_count": 16,
   "id": "2c59ea71",
   "metadata": {},
   "outputs": [
    {
     "name": "stderr",
     "output_type": "stream",
     "text": [
      "100% 2/2 [00:00<00:00, 240.12it/s]\n"
     ]
    }
   ],
   "source": [
    "dfg, start, end = getDFG()\n",
    "dfgObj = DFG(dfg, start_activities=start, end_activities=end)"
   ]
  },
  {
   "cell_type": "code",
   "execution_count": 17,
   "id": "1c1d07c5",
   "metadata": {},
   "outputs": [],
   "source": [
    "@useExecutionTime\n",
    "def getMinerResult(dfg, miner, threshold = 0.5):\n",
    "    result = {}\n",
    "    if miner == 'heuristic_miner':\n",
    "        net, im, fm = heuristics_miner.apply_dfg(dfg['dfg'], parameters={heuristics_miner.Variants.CLASSIC.value.Parameters.DEPENDENCY_THRESH: threshold})\n",
    "    elif miner == 'inductive_miner':\n",
    "        net, im, fm = inductive_miner(dfg['dfgObj'])\n",
    "    elif miner == 'alpha_miner':\n",
    "        net, im, fm = alpha_miner.apply_dfg(dfg['dfg'])\n",
    "    \n",
    "    result[miner] = serialize(net, im, fm)\n",
    "    \n",
    "    return result\n",
    "    \n",
    "def setLazyMiners(dfg):\n",
    "    lazyList = []\n",
    "    miners = [\n",
    "#         'heuristic_miner',\n",
    "        'inductive_miner',\n",
    "#         'alpha_miner'\n",
    "    ]\n",
    "    for miner in miners:\n",
    "        task = dask.delayed(getMinerResult)(dfg, miner)\n",
    "        lazyList.append(task)\n",
    "    \n",
    "    return lazyList"
   ]
  },
  {
   "cell_type": "code",
   "execution_count": 18,
   "id": "163ef81d",
   "metadata": {},
   "outputs": [],
   "source": [
    "@useExecutionTime\n",
    "def getMetrics(log, miner, metric, net, im, fm):\n",
    "    sys.setrecursionlimit(3000)\n",
    "    try:\n",
    "        result = {\n",
    "            miner: {\n",
    "                metric: 0\n",
    "            }\n",
    "        }\n",
    "        if metric == 'fitness':\n",
    "            result[miner][metric] = fitness_alignment.apply(log, net, im, fm)\n",
    "        elif metric == 'simplicity':\n",
    "            result[miner][metric] = simplicity_evaluator.apply(net)\n",
    "        elif metric == 'precision':\n",
    "            result[miner][metric] = precision_alignment.apply(log, net, im, fm)\n",
    "        elif metric == 'generalization':\n",
    "            result[miner][metric] = generalization.apply(log, net, im, fm)\n",
    "\n",
    "        return result\n",
    "    except Exception as e:\n",
    "        return {miner: {metric: {\"error\": e}}}\n",
    "\n",
    "def setLazyMetrics(log, miners):\n",
    "    lazyList = []\n",
    "    metrics = [\n",
    "        'fitness',\n",
    "        'simplicity',\n",
    "        'precision',\n",
    "        'generalization'\n",
    "    ]\n",
    "    \n",
    "    for metric in metrics:\n",
    "        for miner in miners:\n",
    "            algorithm = list(miner['result'].keys())[0]\n",
    "            net, im, fm = deserialize(miner['result'][algorithm])\n",
    "            task = getMetrics(log, algorithm, metric, net, im, fm)\n",
    "            lazyList.append(task)\n",
    "    \n",
    "    return lazyList"
   ]
  },
  {
   "cell_type": "code",
   "execution_count": 19,
   "id": "26251e9a",
   "metadata": {},
   "outputs": [],
   "source": [
    "lazyMiners = setLazyMiners({\"dfgObj\": dfgObj, \"dfg\": dfg})"
   ]
  },
  {
   "cell_type": "code",
   "execution_count": 20,
   "id": "5f366c61",
   "metadata": {},
   "outputs": [],
   "source": [
    "lazyMinersResults = dask.compute(*lazyMiners)"
   ]
  },
  {
   "cell_type": "code",
   "execution_count": 21,
   "id": "90de9df3",
   "metadata": {},
   "outputs": [],
   "source": [
    "lazyMetrics = setLazyMetrics(indexed_df, lazyMinersResults)"
   ]
  },
  {
   "cell_type": "code",
   "execution_count": 22,
   "id": "0e332366",
   "metadata": {},
   "outputs": [],
   "source": [
    "@dask.delayed\n",
    "def aggregate(partitions):\n",
    "    result = {}\n",
    "    for partition in partitions:\n",
    "        for output in partition:\n",
    "            miner = list(output['result'].keys())[0]\n",
    "            metric = list(output['result'][miner].keys())[0]\n",
    "            e_time = output['execution_time']\n",
    "            \n",
    "            result.setdefault(miner, {})\n",
    "            result[miner].setdefault(metric, None)\n",
    "            \n",
    "            if result[miner][metric] == None:\n",
    "                result[miner][metric] = output['result'][miner][metric]\n",
    "            \n",
    "            \n",
    "            if metric and metric == 'fitness':\n",
    "                result[miner][metric] = fitness_alignment.aggregate(output['result'][miner][metric], result[miner][metric])        \n",
    "            elif metric and metric == 'precision':\n",
    "                result[miner][metric] = precision_alignment.aggregate(output['result'][miner][metric], result[miner][metric])\n",
    "            elif metric and metric == 'generalization':\n",
    "                result[miner][metric] = generalization.aggregate([output['result'][miner][metric], result[miner][metric]])\n",
    "            \n",
    "                \n",
    "    return result"
   ]
  },
  {
   "cell_type": "code",
   "execution_count": 23,
   "id": "285efa20",
   "metadata": {},
   "outputs": [],
   "source": [
    "from pm4py.objects import log as log_lib\n",
    "from pm4py.algo.evaluation.precision import utils as precision_utils\n",
    "from pm4py.objects.petri_net.utils import align_utils as utils, check_soundness\n",
    "from pm4py.statistics.start_activities.log.get import get_start_activities\n",
    "from pm4py.objects.petri_net.utils.align_utils import get_visible_transitions_eventually_enabled_by_marking\n",
    "from pm4py.util import exec_utils\n",
    "from typing import Optional, Dict, Any, Union, Tuple\n",
    "from pm4py.objects.log.obj import EventLog, EventStream\n",
    "from pm4py.objects.petri_net.obj import PetriNet, Marking\n",
    "import pandas as pd\n",
    "from pm4py.algo.evaluation.precision.variants.align_etconformance import align_fake_log_stop_marking, transform_markings_from_sync_to_original_net\n",
    "from enum import Enum\n",
    "from pm4py.util import constants"
   ]
  },
  {
   "cell_type": "code",
   "execution_count": 24,
   "id": "d8f27745",
   "metadata": {},
   "outputs": [],
   "source": [
    "# @dask.delayed\n",
    "def compute_metrics(aggregatedMetrics, minersResults):\n",
    "    results = {}\n",
    "    \n",
    "    getMinerResultByMiner = lambda results, miner: [value for value in lazyMinersResults if list(value['result'].keys())[0] == miner].pop()\n",
    "    \n",
    "    for miner, metrics in ar.items():\n",
    "        net, im, fm = deserialize(getMinerResultByMiner(minersResults, miner)['result'][miner])\n",
    "        for metricKey, metricValue in metrics.items():\n",
    "            results.setdefault(miner, {})\n",
    "            results[miner].setdefault(metricKey, None)\n",
    "            if metricKey and metricKey == 'fitness':\n",
    "                results[miner][metricKey] = dask.delayed(fitness_alignment.compute)(metricValue)\n",
    "            elif metricKey and metricKey == 'precision':\n",
    "                results[miner][metricKey] = dask.delayed(precision_alignment.compute)(**metricValue, net=net, im=im, fm=fm)\n",
    "            elif metricKey and metricKey == 'generalization':\n",
    "                results[miner][metricKey] = dask.delayed(generalization.compute)(**metricValue, net=net)\n",
    "            elif metricKey and metricKey == 'simplicity':\n",
    "                results[miner][metricKey] = dask.delayed(simplicity_evaluator.apply)(net)\n",
    "                \n",
    "    # loop over the delayed functions for each miner/metric\n",
    "    for miner, metrics in results.items():\n",
    "        for metricKey, metricValue in metrics.items():\n",
    "            results[miner][metricKey] = client.compute(results[miner][metricKey])\n",
    "        \n",
    "    return results"
   ]
  },
  {
   "cell_type": "code",
   "execution_count": 25,
   "id": "649993ef",
   "metadata": {},
   "outputs": [],
   "source": [
    "mapped_data = indexed_df.map_partitions(setLazyMetrics, lazyMinersResults)"
   ]
  },
  {
   "cell_type": "code",
   "execution_count": 26,
   "id": "f1ce10c9",
   "metadata": {},
   "outputs": [],
   "source": [
    "aggregated_results = aggregate(mapped_data)"
   ]
  },
  {
   "cell_type": "code",
   "execution_count": 27,
   "id": "33fe45d5",
   "metadata": {},
   "outputs": [],
   "source": [
    "# aggregated_results.visualize()"
   ]
  },
  {
   "cell_type": "code",
   "execution_count": 28,
   "id": "dcc71c97",
   "metadata": {},
   "outputs": [
    {
     "name": "stderr",
     "output_type": "stream",
     "text": [
      "aligning log, completed variants :: 100%|██████████| 158/158 [01:00<00:00,  2.61it/s]\n",
      "aligning log, completed variants ::  36%|███▌      | 219/611 [01:22<03:16,  2.00it/s]2023-03-16 22:20:54,831 - distributed.utils_perf - WARNING - full garbage collections took 10% CPU time recently (threshold: 10%)\n",
      "aligning log, completed variants ::  38%|███▊      | 232/611 [01:27<02:07,  2.98it/s]2023-03-16 22:20:59,404 - distributed.utils_perf - WARNING - full garbage collections took 12% CPU time recently (threshold: 10%)\n",
      "aligning log, completed variants ::  40%|████      | 246/611 [01:33<02:32,  2.40it/s] [00:24<01:28, 43.42it/s]2023-03-16 22:21:05,270 - distributed.utils_perf - WARNING - full garbage collections took 14% CPU time recently (threshold: 10%)\n",
      "aligning log, completed variants ::  43%|████▎     | 264/611 [01:39<02:07,  2.73it/s] [00:31<01:07, 52.54it/s]2023-03-16 22:21:11,956 - distributed.utils_perf - WARNING - full garbage collections took 15% CPU time recently (threshold: 10%)\n",
      "aligning log, completed variants ::  47%|████▋     | 285/611 [01:47<02:04,  2.63it/s] [00:39<00:58, 55.25it/s]2023-03-16 22:21:20,636 - distributed.utils_perf - WARNING - full garbage collections took 17% CPU time recently (threshold: 10%)\n",
      "aligning log, completed variants ::  51%|█████     | 313/611 [01:58<01:52,  2.66it/s]2023-03-16 22:21:30,981 - distributed.utils_perf - WARNING - full garbage collections took 19% CPU time recently (threshold: 10%)\n",
      "aligning log, completed variants ::  57%|█████▋    | 347/611 [02:11<01:32,  2.87it/s] [01:01<00:44, 51.76it/s]2023-03-16 22:21:44,217 - distributed.utils_perf - WARNING - full garbage collections took 21% CPU time recently (threshold: 10%)\n",
      "aligning log, completed variants ::  64%|██████▍   | 393/611 [02:29<01:26,  2.52it/s] [01:16<00:27, 60.97it/s]2023-03-16 22:22:01,531 - distributed.utils_perf - WARNING - full garbage collections took 23% CPU time recently (threshold: 10%)\n",
      "computing precision with alignments, completed variants ::  82%|████████▏ | 4006/4895 [02:02<00:16, 53.81it/s]2023-03-16 22:22:41,353 - distributed.utils_perf - WARNING - full garbage collections took 35% CPU time recently (threshold: 10%)\n",
      "computing precision with alignments, completed variants :: 100%|██████████| 4895/4895 [02:18<00:00, 35.28it/s]\n",
      "replaying log with TBR, completed variants :: 100%|██████████| 158/158 [00:01<00:00, 82.48it/s]\n",
      "aligning log, completed variants :: 100%|██████████| 611/611 [03:58<00:00,  2.56it/s]\n",
      "computing precision with alignments, completed variants ::   5%|▍         | 904/18731 [00:17<04:01, 73.80it/s]2023-03-16 22:23:51,204 - distributed.utils_perf - WARNING - full garbage collections took 10% CPU time recently (threshold: 10%)\n",
      "computing precision with alignments, completed variants ::   6%|▋         | 1188/18731 [00:22<04:22, 66.91it/s]2023-03-16 22:23:57,212 - distributed.utils_perf - WARNING - full garbage collections took 12% CPU time recently (threshold: 10%)\n",
      "computing precision with alignments, completed variants ::   8%|▊         | 1530/18731 [00:30<08:14, 34.78it/s]2023-03-16 22:24:05,582 - distributed.utils_perf - WARNING - full garbage collections took 15% CPU time recently (threshold: 10%)\n",
      "computing precision with alignments, completed variants ::  10%|█         | 1942/18731 [00:41<06:30, 42.95it/s]2023-03-16 22:24:17,257 - distributed.nanny - WARNING - Restarting worker\n",
      "aligning log, completed variants ::   2%|▏         | 3/158 [00:01<01:31,  1.70it/s]2023-03-16 22:24:21,723 - distributed.utils_perf - WARNING - full garbage collections took 22% CPU time recently (threshold: 10%)\n",
      "aligning log, completed variants ::  20%|██        | 32/158 [00:14<00:56,  2.23it/s]2023-03-16 22:24:34,016 - distributed.utils_perf - WARNING - full garbage collections took 23% CPU time recently (threshold: 10%)\n",
      "aligning log, completed variants ::  46%|████▌     | 73/158 [00:32<00:39,  2.13it/s]31 [01:13<05:59, 43.46it/s]2023-03-16 22:24:52,348 - distributed.utils_perf - WARNING - full garbage collections took 26% CPU time recently (threshold: 10%)\n",
      "aligning log, completed variants :: 100%|██████████| 158/158 [01:07<00:00,  2.34it/s]1 [01:34<03:08, 78.52it/s]  \n",
      "computing precision with alignments, completed variants ::  21%|██        | 3906/18731 [01:59<03:08, 78.52it/s]2023-03-16 22:25:32,647 - distributed.utils_perf - WARNING - full garbage collections took 37% CPU time recently (threshold: 10%)\n",
      "computing precision with alignments, completed variants ::  24%|██▍       | 4542/18731 [02:12<03:46, 62.53it/s]2023-03-16 22:25:44,781 - distributed.utils_perf - WARNING - full garbage collections took 10% CPU time recently (threshold: 10%)\n",
      "computing precision with alignments, completed variants ::  26%|██▌       | 4805/18731 [02:16<03:41, 62.89it/s]2023-03-16 22:25:49,272 - distributed.utils_perf - WARNING - full garbage collections took 11% CPU time recently (threshold: 10%)\n",
      "computing precision with alignments, completed variants ::  21%|██▏       | 1043/4895 [00:27<02:00, 31.86it/s]]2023-03-16 22:25:58,691 - distributed.utils_perf - WARNING - full garbage collections took 15% CPU time recently (threshold: 10%)\n",
      "computing precision with alignments, completed variants ::  27%|██▋       | 1310/4895 [00:37<01:24, 42.62it/s]2023-03-16 22:26:11,146 - distributed.utils_perf - WARNING - full garbage collections took 20% CPU time recently (threshold: 10%)\n",
      "computing precision with alignments, completed variants ::  26%|██▌       | 4899/18731 [02:57<03:14, 70.94it/s]2023-03-16 22:26:29,932 - distributed.utils_perf - WARNING - full garbage collections took 46% CPU time recently (threshold: 10%)\n",
      "computing precision with alignments, completed variants ::  34%|███▎      | 1641/4895 [01:03<01:24, 38.35it/s]2023-03-16 22:26:31,580 - distributed.utils_perf - WARNING - full garbage collections took 29% CPU time recently (threshold: 10%)\n",
      "computing precision with alignments, completed variants ::  39%|███▉      | 1909/4895 [01:09<01:04, 46.31it/s]2023-03-16 22:26:38,107 - distributed.nanny - WARNING - Restarting worker\n",
      "aligning log, completed variants ::   2%|▏         | 13/611 [00:05<03:22,  2.95it/s]2023-03-16 22:26:45,844 - distributed.utils_perf - WARNING - full garbage collections took 30% CPU time recently (threshold: 10%)\n",
      "aligning log, completed variants ::   8%|▊         | 48/611 [00:17<03:43,  2.52it/s]5 [01:27<00:46, 50.69it/s]2023-03-16 22:26:58,701 - distributed.utils_perf - WARNING - full garbage collections took 30% CPU time recently (threshold: 10%)\n",
      "aligning log, completed variants ::  15%|█▍        | 91/611 [00:36<03:52,  2.24it/s]2023-03-16 22:27:17,062 - distributed.utils_perf - WARNING - full garbage collections took 32% CPU time recently (threshold: 10%)\n",
      "computing precision with alignments, completed variants ::  81%|████████  | 3959/4895 [02:18<00:24, 38.31it/s]2023-03-16 22:27:47,091 - distributed.utils_perf - WARNING - full garbage collections took 36% CPU time recently (threshold: 10%)\n",
      "computing precision with alignments, completed variants :: 100%|██████████| 4895/4895 [02:35<00:00, 31.41it/s]\n",
      "replaying log with TBR, completed variants :: 100%|██████████| 158/158 [00:01<00:00, 84.41it/s]\n",
      "aligning log, completed variants :: 100%|██████████| 611/611 [03:55<00:00,  2.60it/s]\n",
      "computing precision with alignments, completed variants ::   5%|▍         | 920/18731 [00:17<03:37, 81.83it/s]2023-03-16 22:30:56,751 - distributed.utils_perf - WARNING - full garbage collections took 10% CPU time recently (threshold: 10%)\n",
      "computing precision with alignments, completed variants ::   6%|▋         | 1200/18731 [00:23<05:02, 57.93it/s]2023-03-16 22:31:02,756 - distributed.utils_perf - WARNING - full garbage collections took 12% CPU time recently (threshold: 10%)\n",
      "computing precision with alignments, completed variants ::   8%|▊         | 1542/18731 [00:30<08:42, 32.88it/s]2023-03-16 22:31:10,709 - distributed.utils_perf - WARNING - full garbage collections took 14% CPU time recently (threshold: 10%)\n",
      "computing precision with alignments, completed variants ::  10%|█         | 1962/18731 [00:41<06:32, 42.72it/s]2023-03-16 22:31:21,867 - distributed.nanny - WARNING - Restarting worker\n"
     ]
    },
    {
     "name": "stderr",
     "output_type": "stream",
     "text": [
      "aligning log, completed variants ::   1%|▏         | 2/158 [00:01<01:49,  1.43it/s]2023-03-16 22:31:26,103 - distributed.utils_perf - WARNING - full garbage collections took 21% CPU time recently (threshold: 10%)\n",
      "aligning log, completed variants ::  20%|██        | 32/158 [00:13<00:58,  2.17it/s]2023-03-16 22:31:38,436 - distributed.utils_perf - WARNING - full garbage collections took 22% CPU time recently (threshold: 10%)\n",
      "aligning log, completed variants ::  46%|████▌     | 72/158 [00:31<00:40,  2.11it/s]2023-03-16 22:31:55,975 - distributed.utils_perf - WARNING - full garbage collections took 24% CPU time recently (threshold: 10%)\n",
      "aligning log, completed variants :: 100%|██████████| 158/158 [01:08<00:00,  2.31it/s]1 [01:32<03:35, 68.51it/s]  \n",
      "computing precision with alignments, completed variants ::   3%|▎         | 152/4895 [00:04<02:08, 36.97it/s]2023-03-16 22:32:37,964 - distributed.utils_perf - WARNING - full garbage collections took 37% CPU time recently (threshold: 10%)\n",
      "computing precision with alignments, completed variants ::  24%|██▍       | 4563/18731 [02:11<03:10, 74.36it/s]2023-03-16 22:32:49,723 - distributed.utils_perf - WARNING - full garbage collections took 10% CPU time recently (threshold: 10%)\n",
      "computing precision with alignments, completed variants ::  26%|██▌       | 4819/18731 [02:16<04:02, 57.46it/s]2023-03-16 22:32:53,978 - distributed.utils_perf - WARNING - full garbage collections took 11% CPU time recently (threshold: 10%)\n",
      "computing precision with alignments, completed variants ::  21%|██        | 1017/4895 [00:25<01:53, 34.16it/s]]2023-03-16 22:33:02,623 - distributed.utils_perf - WARNING - full garbage collections took 15% CPU time recently (threshold: 10%)\n",
      "computing precision with alignments, completed variants ::  26%|██▌       | 1281/4895 [00:36<01:23, 43.11it/s]2023-03-16 22:33:13,933 - distributed.utils_perf - WARNING - full garbage collections took 19% CPU time recently (threshold: 10%)\n",
      "computing precision with alignments, completed variants ::  26%|██▋       | 4938/18731 [03:09<03:21, 68.35it/s]2023-03-16 22:33:47,779 - distributed.utils_perf - WARNING - full garbage collections took 47% CPU time recently (threshold: 10%)\n",
      "computing precision with alignments, completed variants ::  33%|███▎      | 1605/4895 [01:15<01:09, 47.27it/s]2023-03-16 22:33:49,044 - distributed.utils_perf - WARNING - full garbage collections took 31% CPU time recently (threshold: 10%)\n",
      "computing precision with alignments, completed variants ::  38%|███▊      | 1846/4895 [01:22<01:36, 31.66it/s]2023-03-16 22:33:56,285 - distributed.nanny - WARNING - Restarting worker\n",
      "aligning log, completed variants ::   2%|▏         | 13/611 [00:05<03:20,  2.99it/s]2023-03-16 22:34:03,671 - distributed.utils_perf - WARNING - full garbage collections took 32% CPU time recently (threshold: 10%)\n",
      "computing precision with alignments, completed variants ::  51%|█████     | 2503/4895 [02:19<00:48, 48.88it/s]2023-03-16 22:34:53,591 - distributed.utils_perf - WARNING - full garbage collections took 32% CPU time recently (threshold: 10%)\n",
      "aligning log, completed variants ::  14%|█▍        | 85/611 [01:10<03:30,  2.50it/s]5 [02:31<00:32, 54.38it/s]  2023-03-16 22:35:09,937 - distributed.utils_perf - WARNING - full garbage collections took 32% CPU time recently (threshold: 10%)\n",
      "aligning log, completed variants ::  22%|██▏       | 136/611 [13:30<03:46,  2.10it/s]2023-03-16 22:47:29,552 - distributed.utils_perf - WARNING - full garbage collections took 33% CPU time recently (threshold: 10%)\n",
      "computing precision with alignments, completed variants ::  99%|█████████▊| 4825/4895 [33:09<00:00, 78.90it/s]2023-03-16 23:05:43,190 - distributed.utils_perf - WARNING - full garbage collections took 41% CPU time recently (threshold: 10%)\n",
      "computing precision with alignments, completed variants :: 100%|██████████| 4895/4895 [33:10<00:00,  2.46it/s]\n",
      "replaying log with TBR, completed variants :: 100%|██████████| 158/158 [00:01<00:00, 88.06it/s]\n",
      "aligning log, completed variants :: 100%|██████████| 611/611 [3:53:50<00:00, 22.96s/it]     \n",
      "computing precision with alignments, completed variants ::   5%|▍         | 915/18731 [17:36<03:33, 83.55it/s]    2023-03-17 02:45:28,541 - distributed.utils_perf - WARNING - full garbage collections took 10% CPU time recently (threshold: 10%)\n",
      "computing precision with alignments, completed variants ::   6%|▋         | 1197/18731 [17:42<04:53, 59.72it/s]2023-03-17 02:45:34,447 - distributed.utils_perf - WARNING - full garbage collections took 12% CPU time recently (threshold: 10%)\n",
      "computing precision with alignments, completed variants ::   8%|▊         | 1537/18731 [17:49<07:46, 36.82it/s]2023-03-17 02:45:42,251 - distributed.utils_perf - WARNING - full garbage collections took 14% CPU time recently (threshold: 10%)\n",
      "computing precision with alignments, completed variants ::  10%|█         | 1951/18731 [18:00<06:44, 41.48it/s]2023-03-17 02:45:54,826 - distributed.nanny - WARNING - Restarting worker\n",
      "aligning log, completed variants ::   1%|▏         | 2/158 [00:01<01:33,  1.67it/s]2023-03-17 02:45:58,524 - distributed.utils_perf - WARNING - full garbage collections took 21% CPU time recently (threshold: 10%)\n",
      "aligning log, completed variants ::  20%|█▉        | 31/158 [00:13<00:54,  2.33it/s]2023-03-17 02:46:10,731 - distributed.utils_perf - WARNING - full garbage collections took 23% CPU time recently (threshold: 10%)\n",
      "aligning log, completed variants ::  44%|████▎     | 69/158 [16:48<00:56,  1.58it/s]31 [34:51<04:35, 56.68it/s]    2023-03-17 03:02:46,530 - distributed.utils_perf - WARNING - full garbage collections took 24% CPU time recently (threshold: 10%)\n",
      "aligning log, completed variants ::  78%|███████▊  | 124/158 [17:11<00:14,  2.32it/s]2023-03-17 03:03:08,963 - distributed.utils_perf - WARNING - full garbage collections took 27% CPU time recently (threshold: 10%)\n",
      "aligning log, completed variants :: 100%|██████████| 158/158 [17:22<00:00,  6.60s/it]1 [35:28<03:53, 61.04it/s]  \n",
      "computing precision with alignments, completed variants ::  11%|█         | 514/4895 [00:14<02:10, 33.65it/s]s]2023-03-17 03:03:36,234 - distributed.utils_perf - WARNING - full garbage collections took 10% CPU time recently (threshold: 10%)\n",
      "computing precision with alignments, completed variants ::  14%|█▎        | 672/4895 [00:19<01:31, 46.40it/s]2023-03-17 03:03:41,796 - distributed.utils_perf - WARNING - full garbage collections took 13% CPU time recently (threshold: 10%)\n",
      "computing precision with alignments, completed variants ::  17%|█▋        | 847/4895 [00:26<01:52, 36.03it/s]2023-03-17 03:03:49,209 - distributed.utils_perf - WARNING - full garbage collections took 16% CPU time recently (threshold: 10%)\n",
      "computing precision with alignments, completed variants ::  22%|██▏       | 1067/4895 [00:34<01:22, 46.66it/s]2023-03-17 03:03:58,087 - distributed.utils_perf - WARNING - full garbage collections took 20% CPU time recently (threshold: 10%)\n",
      "computing precision with alignments, completed variants ::  26%|██▋       | 4922/18731 [36:09<03:30, 65.73it/s]2023-03-17 03:04:00,611 - distributed.utils_perf - WARNING - full garbage collections took 39% CPU time recently (threshold: 10%)\n",
      "computing precision with alignments, completed variants ::  28%|██▊       | 5246/18731 [36:15<04:20, 51.70it/s]  2023-03-17 03:04:06,557 - distributed.utils_perf - WARNING - full garbage collections took 22% CPU time recently (threshold: 10%)\n",
      "computing precision with alignments, completed variants ::  33%|███▎      | 1604/4895 [00:53<01:24, 39.00it/s]2023-03-17 03:04:13,309 - distributed.nanny - WARNING - Restarting worker\n",
      "aligning log, completed variants ::   1%|▏         | 8/611 [00:03<03:36,  2.79it/s]2023-03-17 03:04:18,761 - distributed.utils_perf - WARNING - full garbage collections took 24% CPU time recently (threshold: 10%)\n",
      "aligning log, completed variants ::  14%|█▍        | 32/221 [00:13<01:27,  2.15it/s]2023-03-17 03:04:29,342 - distributed.utils_perf - WARNING - full garbage collections took 24% CPU time recently (threshold: 10%)\n",
      "aligning log, completed variants ::  11%|█▏        | 70/611 [00:26<03:43,  2.42it/s]2023-03-17 03:04:42,620 - distributed.utils_perf - WARNING - full garbage collections took 25% CPU time recently (threshold: 10%)\n"
     ]
    },
    {
     "name": "stderr",
     "output_type": "stream",
     "text": [
      "aligning log, completed variants ::  18%|█▊        | 110/611 [00:43<03:30,  2.38it/s]2023-03-17 03:04:59,227 - distributed.utils_perf - WARNING - full garbage collections took 26% CPU time recently (threshold: 10%)\n",
      "computing precision with alignments, completed variants ::  83%|████████▎ | 4060/4895 [02:06<00:16, 50.99it/s]2023-03-17 03:05:26,087 - distributed.utils_perf - WARNING - full garbage collections took 30% CPU time recently (threshold: 10%)\n",
      "computing precision with alignments, completed variants :: 100%|██████████| 4895/4895 [02:21<00:00, 34.66it/s]\n",
      "replaying log with TBR, completed variants :: 100%|██████████| 158/158 [00:01<00:00, 84.35it/s]\n",
      "aligning log, completed variants :: 100%|██████████| 221/221 [01:43<00:00,  2.13it/s]\n",
      "aligning log, completed variants ::  53%|█████▎    | 325/611 [02:08<01:59,  2.40it/s][00:22<03:57, 30.49it/s]2023-03-17 03:06:25,055 - distributed.utils_perf - WARNING - full garbage collections took 11% CPU time recently (threshold: 10%)\n",
      "aligning log, completed variants ::  56%|█████▋    | 345/611 [02:16<01:45,  2.53it/s]2023-03-17 03:06:32,180 - distributed.utils_perf - WARNING - full garbage collections took 12% CPU time recently (threshold: 10%)\n",
      "aligning log, completed variants ::  61%|██████    | 370/611 [02:25<01:27,  2.77it/s]2023-03-17 03:06:40,705 - distributed.utils_perf - WARNING - full garbage collections took 14% CPU time recently (threshold: 10%)\n",
      "computing precision with alignments, completed variants ::  24%|██▍       | 2004/8242 [00:49<03:26, 30.23it/s]2023-03-17 03:06:51,033 - distributed.nanny - WARNING - Restarting worker\n",
      "aligning log, completed variants ::  66%|██████▌   | 402/611 [02:40<01:19,  2.64it/s]2023-03-17 03:06:55,646 - distributed.utils_perf - WARNING - full garbage collections took 18% CPU time recently (threshold: 10%)\n",
      "aligning log, completed variants ::  72%|███████▏  | 439/611 [02:54<00:58,  2.92it/s]2023-03-17 03:07:09,556 - distributed.utils_perf - WARNING - full garbage collections took 20% CPU time recently (threshold: 10%)\n",
      "aligning log, completed variants ::  49%|████▉     | 78/158 [00:33<00:30,  2.62it/s]] [01:21<02:21, 36.33it/s]2023-03-17 03:07:27,668 - distributed.utils_perf - WARNING - full garbage collections took 21% CPU time recently (threshold: 10%)\n",
      "computing precision with alignments, completed variants ::  47%|████▋     | 3833/8242 [01:56<01:36, 45.51it/s]2023-03-17 03:07:57,125 - distributed.utils_perf - WARNING - full garbage collections took 26% CPU time recently (threshold: 10%)\n",
      "aligning log, completed variants :: 100%|██████████| 158/158 [01:04<00:00,  2.44it/s] [01:56<03:43, 19.49it/s]\n",
      "aligning log, completed variants ::  99%|█████████▉| 606/611 [04:04<00:03,  1.57it/s][00:19<01:53, 35.61it/s]]2023-03-17 03:08:20,129 - distributed.utils_perf - WARNING - full garbage collections took 11% CPU time recently (threshold: 10%)\n",
      "aligning log, completed variants :: 100%|██████████| 611/611 [04:07<00:00,  2.46it/s][00:24<01:41, 38.86it/s]\n",
      "computing precision with alignments, completed variants ::   1%|          | 114/18731 [00:03<07:33, 41.03it/s]2023-03-17 03:08:30,394 - distributed.utils_perf - WARNING - full garbage collections took 16% CPU time recently (threshold: 10%)\n",
      "computing precision with alignments, completed variants ::   2%|▏         | 462/18731 [00:16<06:39, 45.68it/s]  2023-03-17 03:08:43,643 - distributed.utils_perf - WARNING - full garbage collections took 21% CPU time recently (threshold: 10%)\n",
      "computing precision with alignments, completed variants ::  28%|██▊       | 1353/4895 [00:45<04:04, 14.49it/s]2023-03-17 03:08:44,660 - distributed.nanny - WARNING - Restarting worker\n",
      "computing precision with alignments, completed variants ::  28%|██▊       | 1386/4895 [00:46<01:47, 32.63it/s]2023-03-17 03:08:45,870 - distributed.utils_perf - WARNING - full garbage collections took 13% CPU time recently (threshold: 10%)\n",
      "computing precision with alignments, completed variants ::  32%|███▏      | 1584/4895 [00:50<01:07, 49.37it/s]2023-03-17 03:08:49,759 - distributed.utils_perf - WARNING - full garbage collections took 14% CPU time recently (threshold: 10%)\n",
      "aligning log, completed variants ::   8%|▊         | 18/221 [00:07<01:06,  3.03it/s]2023-03-17 03:08:54,448 - distributed.utils_perf - WARNING - full garbage collections took 23% CPU time recently (threshold: 10%)\n",
      "computing precision with alignments, completed variants ::  35%|███▍      | 1707/4895 [00:56<01:36, 32.93it/s]2023-03-17 03:08:55,562 - distributed.utils_perf - WARNING - full garbage collections took 15% CPU time recently (threshold: 10%)\n",
      "computing precision with alignments, completed variants ::  41%|████      | 2019/4895 [01:02<01:03, 45.22it/s]]2023-03-17 03:09:01,757 - distributed.utils_perf - WARNING - full garbage collections took 16% CPU time recently (threshold: 10%)\n",
      "computing precision with alignments, completed variants ::   7%|▋         | 1322/18731 [00:38<06:36, 43.92it/s]2023-03-17 03:09:05,632 - distributed.utils_perf - WARNING - full garbage collections took 24% CPU time recently (threshold: 10%)\n",
      "aligning log, completed variants ::  24%|██▍       | 54/221 [00:23<01:16,  2.19it/s]2023-03-17 03:09:10,712 - distributed.utils_perf - WARNING - full garbage collections took 18% CPU time recently (threshold: 10%)\n",
      "aligning log, completed variants ::  35%|███▌      | 78/221 [00:37<01:36,  1.48it/s]2023-03-17 03:09:24,478 - distributed.utils_perf - WARNING - full garbage collections took 28% CPU time recently (threshold: 10%)\n",
      "computing precision with alignments, completed variants ::  56%|█████▌    | 2722/4895 [01:29<01:07, 32.23it/s]2023-03-17 03:09:27,934 - distributed.utils_perf - WARNING - full garbage collections took 24% CPU time recently (threshold: 10%)\n",
      "computing precision with alignments, completed variants ::  13%|█▎        | 2363/18731 [01:32<06:03, 45.05it/s]2023-03-17 03:09:59,754 - distributed.utils_perf - WARNING - full garbage collections took 37% CPU time recently (threshold: 10%)\n",
      "computing precision with alignments, completed variants ::  66%|██████▌   | 3216/4895 [02:05<00:27, 60.36it/s]2023-03-17 03:10:03,912 - distributed.utils_perf - WARNING - full garbage collections took 39% CPU time recently (threshold: 10%)\n",
      "aligning log, completed variants ::  74%|███████▍  | 164/221 [01:31<00:53,  1.06it/s] [02:15<01:12, 16.33it/s]]2023-03-17 03:10:19,159 - distributed.nanny - WARNING - Restarting worker\n",
      "computing precision with alignments, completed variants ::  16%|█▌        | 2983/18731 [01:58<04:59, 52.54it/s]2023-03-17 03:10:25,580 - distributed.utils_perf - WARNING - full garbage collections took 40% CPU time recently (threshold: 10%)\n",
      "aligning log, completed variants :: 100%|██████████| 221/221 [02:00<00:00,  1.83it/s]1 [02:12<03:15, 76.49it/s]  \n",
      "aligning log, completed variants ::  35%|███▌      | 56/158 [00:26<00:54,  1.89it/s]2023-03-17 03:10:48,624 - distributed.utils_perf - WARNING - full garbage collections took 40% CPU time recently (threshold: 10%)\n",
      "aligning log, completed variants ::  63%|██████▎   | 100/158 [00:45<00:24,  2.34it/s]1 [02:39<04:18, 54.32it/s]  2023-03-17 03:11:07,485 - distributed.utils_perf - WARNING - full garbage collections took 10% CPU time recently (threshold: 10%)\n",
      "aligning log, completed variants ::  75%|███████▌  | 119/158 [00:54<00:23,  1.69it/s][00:24<03:51, 31.61it/s]2023-03-17 03:11:17,036 - distributed.utils_perf - WARNING - full garbage collections took 13% CPU time recently (threshold: 10%)\n",
      "aligning log, completed variants ::  91%|█████████ | 144/158 [01:07<00:06,  2.10it/s] [00:36<04:13, 27.87it/s]2023-03-17 03:11:29,510 - distributed.utils_perf - WARNING - full garbage collections took 17% CPU time recently (threshold: 10%)\n",
      "aligning log, completed variants :: 100%|██████████| 158/158 [01:11<00:00,  2.21it/s] [00:44<02:31, 45.55it/s]\n",
      "computing precision with alignments, completed variants ::  25%|██▌       | 4697/18731 [03:17<04:18, 54.32it/s]2023-03-17 03:11:44,070 - distributed.utils_perf - WARNING - full garbage collections took 47% CPU time recently (threshold: 10%)\n",
      "computing precision with alignments, completed variants ::  18%|█▊        | 1496/8242 [00:59<03:36, 31.11it/s]2023-03-17 03:11:48,340 - distributed.utils_perf - WARNING - full garbage collections took 25% CPU time recently (threshold: 10%)\n"
     ]
    },
    {
     "name": "stderr",
     "output_type": "stream",
     "text": [
      "computing precision with alignments, completed variants ::  19%|█▉        | 1567/8242 [01:01<03:51, 28.80it/s]  2023-03-17 03:11:50,248 - distributed.utils_perf - WARNING - full garbage collections took 12% CPU time recently (threshold: 10%)\n",
      "computing precision with alignments, completed variants ::   9%|▉         | 444/4895 [00:17<03:44, 19.85it/s]2023-03-17 03:11:51,929 - distributed.nanny - WARNING - Restarting worker\n",
      "computing precision with alignments, completed variants ::  20%|█▉        | 1624/8242 [01:03<03:18, 33.29it/s]"
     ]
    },
    {
     "ename": "KilledWorker",
     "evalue": "(\"('repartition-merge-1882b37b23a024fe030a9a1882768b16', 2)\", <WorkerState 'tcp://127.0.0.1:40597', name: 1, status: closed, memory: 0, processing: 2>)",
     "output_type": "error",
     "traceback": [
      "\u001b[0;31m---------------------------------------------------------------------------\u001b[0m",
      "\u001b[0;31mKilledWorker\u001b[0m                              Traceback (most recent call last)",
      "\u001b[0;32m/tmp/ipykernel_3888/325005699.py\u001b[0m in \u001b[0;36m<module>\u001b[0;34m\u001b[0m\n\u001b[0;32m----> 1\u001b[0;31m \u001b[0mar\u001b[0m \u001b[0;34m=\u001b[0m \u001b[0maggregated_results\u001b[0m\u001b[0;34m.\u001b[0m\u001b[0mcompute\u001b[0m\u001b[0;34m(\u001b[0m\u001b[0;34m)\u001b[0m\u001b[0;34m\u001b[0m\u001b[0;34m\u001b[0m\u001b[0m\n\u001b[0m",
      "\u001b[0;32m/opt/conda/lib/python3.9/site-packages/dask/base.py\u001b[0m in \u001b[0;36mcompute\u001b[0;34m(self, **kwargs)\u001b[0m\n\u001b[1;32m    313\u001b[0m         \u001b[0mdask\u001b[0m\u001b[0;34m.\u001b[0m\u001b[0mbase\u001b[0m\u001b[0;34m.\u001b[0m\u001b[0mcompute\u001b[0m\u001b[0;34m\u001b[0m\u001b[0;34m\u001b[0m\u001b[0m\n\u001b[1;32m    314\u001b[0m         \"\"\"\n\u001b[0;32m--> 315\u001b[0;31m         \u001b[0;34m(\u001b[0m\u001b[0mresult\u001b[0m\u001b[0;34m,\u001b[0m\u001b[0;34m)\u001b[0m \u001b[0;34m=\u001b[0m \u001b[0mcompute\u001b[0m\u001b[0;34m(\u001b[0m\u001b[0mself\u001b[0m\u001b[0;34m,\u001b[0m \u001b[0mtraverse\u001b[0m\u001b[0;34m=\u001b[0m\u001b[0;32mFalse\u001b[0m\u001b[0;34m,\u001b[0m \u001b[0;34m**\u001b[0m\u001b[0mkwargs\u001b[0m\u001b[0;34m)\u001b[0m\u001b[0;34m\u001b[0m\u001b[0;34m\u001b[0m\u001b[0m\n\u001b[0m\u001b[1;32m    316\u001b[0m         \u001b[0;32mreturn\u001b[0m \u001b[0mresult\u001b[0m\u001b[0;34m\u001b[0m\u001b[0;34m\u001b[0m\u001b[0m\n\u001b[1;32m    317\u001b[0m \u001b[0;34m\u001b[0m\u001b[0m\n",
      "\u001b[0;32m/opt/conda/lib/python3.9/site-packages/dask/base.py\u001b[0m in \u001b[0;36mcompute\u001b[0;34m(traverse, optimize_graph, scheduler, get, *args, **kwargs)\u001b[0m\n\u001b[1;32m    601\u001b[0m         \u001b[0mpostcomputes\u001b[0m\u001b[0;34m.\u001b[0m\u001b[0mappend\u001b[0m\u001b[0;34m(\u001b[0m\u001b[0mx\u001b[0m\u001b[0;34m.\u001b[0m\u001b[0m__dask_postcompute__\u001b[0m\u001b[0;34m(\u001b[0m\u001b[0;34m)\u001b[0m\u001b[0;34m)\u001b[0m\u001b[0;34m\u001b[0m\u001b[0;34m\u001b[0m\u001b[0m\n\u001b[1;32m    602\u001b[0m \u001b[0;34m\u001b[0m\u001b[0m\n\u001b[0;32m--> 603\u001b[0;31m     \u001b[0mresults\u001b[0m \u001b[0;34m=\u001b[0m \u001b[0mschedule\u001b[0m\u001b[0;34m(\u001b[0m\u001b[0mdsk\u001b[0m\u001b[0;34m,\u001b[0m \u001b[0mkeys\u001b[0m\u001b[0;34m,\u001b[0m \u001b[0;34m**\u001b[0m\u001b[0mkwargs\u001b[0m\u001b[0;34m)\u001b[0m\u001b[0;34m\u001b[0m\u001b[0;34m\u001b[0m\u001b[0m\n\u001b[0m\u001b[1;32m    604\u001b[0m     \u001b[0;32mreturn\u001b[0m \u001b[0mrepack\u001b[0m\u001b[0;34m(\u001b[0m\u001b[0;34m[\u001b[0m\u001b[0mf\u001b[0m\u001b[0;34m(\u001b[0m\u001b[0mr\u001b[0m\u001b[0;34m,\u001b[0m \u001b[0;34m*\u001b[0m\u001b[0ma\u001b[0m\u001b[0;34m)\u001b[0m \u001b[0;32mfor\u001b[0m \u001b[0mr\u001b[0m\u001b[0;34m,\u001b[0m \u001b[0;34m(\u001b[0m\u001b[0mf\u001b[0m\u001b[0;34m,\u001b[0m \u001b[0ma\u001b[0m\u001b[0;34m)\u001b[0m \u001b[0;32min\u001b[0m \u001b[0mzip\u001b[0m\u001b[0;34m(\u001b[0m\u001b[0mresults\u001b[0m\u001b[0;34m,\u001b[0m \u001b[0mpostcomputes\u001b[0m\u001b[0;34m)\u001b[0m\u001b[0;34m]\u001b[0m\u001b[0;34m)\u001b[0m\u001b[0;34m\u001b[0m\u001b[0;34m\u001b[0m\u001b[0m\n\u001b[1;32m    605\u001b[0m \u001b[0;34m\u001b[0m\u001b[0m\n",
      "\u001b[0;32m/opt/conda/lib/python3.9/site-packages/distributed/client.py\u001b[0m in \u001b[0;36mget\u001b[0;34m(self, dsk, keys, workers, allow_other_workers, resources, sync, asynchronous, direct, retries, priority, fifo_timeout, actors, **kwargs)\u001b[0m\n\u001b[1;32m   2998\u001b[0m                     \u001b[0mshould_rejoin\u001b[0m \u001b[0;34m=\u001b[0m \u001b[0;32mFalse\u001b[0m\u001b[0;34m\u001b[0m\u001b[0;34m\u001b[0m\u001b[0m\n\u001b[1;32m   2999\u001b[0m             \u001b[0;32mtry\u001b[0m\u001b[0;34m:\u001b[0m\u001b[0;34m\u001b[0m\u001b[0;34m\u001b[0m\u001b[0m\n\u001b[0;32m-> 3000\u001b[0;31m                 \u001b[0mresults\u001b[0m \u001b[0;34m=\u001b[0m \u001b[0mself\u001b[0m\u001b[0;34m.\u001b[0m\u001b[0mgather\u001b[0m\u001b[0;34m(\u001b[0m\u001b[0mpacked\u001b[0m\u001b[0;34m,\u001b[0m \u001b[0masynchronous\u001b[0m\u001b[0;34m=\u001b[0m\u001b[0masynchronous\u001b[0m\u001b[0;34m,\u001b[0m \u001b[0mdirect\u001b[0m\u001b[0;34m=\u001b[0m\u001b[0mdirect\u001b[0m\u001b[0;34m)\u001b[0m\u001b[0;34m\u001b[0m\u001b[0;34m\u001b[0m\u001b[0m\n\u001b[0m\u001b[1;32m   3001\u001b[0m             \u001b[0;32mfinally\u001b[0m\u001b[0;34m:\u001b[0m\u001b[0;34m\u001b[0m\u001b[0;34m\u001b[0m\u001b[0m\n\u001b[1;32m   3002\u001b[0m                 \u001b[0;32mfor\u001b[0m \u001b[0mf\u001b[0m \u001b[0;32min\u001b[0m \u001b[0mfutures\u001b[0m\u001b[0;34m.\u001b[0m\u001b[0mvalues\u001b[0m\u001b[0;34m(\u001b[0m\u001b[0;34m)\u001b[0m\u001b[0;34m:\u001b[0m\u001b[0;34m\u001b[0m\u001b[0;34m\u001b[0m\u001b[0m\n",
      "\u001b[0;32m/opt/conda/lib/python3.9/site-packages/distributed/client.py\u001b[0m in \u001b[0;36mgather\u001b[0;34m(self, futures, errors, direct, asynchronous)\u001b[0m\n\u001b[1;32m   2172\u001b[0m             \u001b[0;32melse\u001b[0m\u001b[0;34m:\u001b[0m\u001b[0;34m\u001b[0m\u001b[0;34m\u001b[0m\u001b[0m\n\u001b[1;32m   2173\u001b[0m                 \u001b[0mlocal_worker\u001b[0m \u001b[0;34m=\u001b[0m \u001b[0;32mNone\u001b[0m\u001b[0;34m\u001b[0m\u001b[0;34m\u001b[0m\u001b[0m\n\u001b[0;32m-> 2174\u001b[0;31m             return self.sync(\n\u001b[0m\u001b[1;32m   2175\u001b[0m                 \u001b[0mself\u001b[0m\u001b[0;34m.\u001b[0m\u001b[0m_gather\u001b[0m\u001b[0;34m,\u001b[0m\u001b[0;34m\u001b[0m\u001b[0;34m\u001b[0m\u001b[0m\n\u001b[1;32m   2176\u001b[0m                 \u001b[0mfutures\u001b[0m\u001b[0;34m,\u001b[0m\u001b[0;34m\u001b[0m\u001b[0;34m\u001b[0m\u001b[0m\n",
      "\u001b[0;32m/opt/conda/lib/python3.9/site-packages/distributed/utils.py\u001b[0m in \u001b[0;36msync\u001b[0;34m(self, func, asynchronous, callback_timeout, *args, **kwargs)\u001b[0m\n\u001b[1;32m    336\u001b[0m             \u001b[0;32mreturn\u001b[0m \u001b[0mfuture\u001b[0m\u001b[0;34m\u001b[0m\u001b[0;34m\u001b[0m\u001b[0m\n\u001b[1;32m    337\u001b[0m         \u001b[0;32melse\u001b[0m\u001b[0;34m:\u001b[0m\u001b[0;34m\u001b[0m\u001b[0;34m\u001b[0m\u001b[0m\n\u001b[0;32m--> 338\u001b[0;31m             return sync(\n\u001b[0m\u001b[1;32m    339\u001b[0m                 \u001b[0mself\u001b[0m\u001b[0;34m.\u001b[0m\u001b[0mloop\u001b[0m\u001b[0;34m,\u001b[0m \u001b[0mfunc\u001b[0m\u001b[0;34m,\u001b[0m \u001b[0;34m*\u001b[0m\u001b[0margs\u001b[0m\u001b[0;34m,\u001b[0m \u001b[0mcallback_timeout\u001b[0m\u001b[0;34m=\u001b[0m\u001b[0mcallback_timeout\u001b[0m\u001b[0;34m,\u001b[0m \u001b[0;34m**\u001b[0m\u001b[0mkwargs\u001b[0m\u001b[0;34m\u001b[0m\u001b[0;34m\u001b[0m\u001b[0m\n\u001b[1;32m    340\u001b[0m             )\n",
      "\u001b[0;32m/opt/conda/lib/python3.9/site-packages/distributed/utils.py\u001b[0m in \u001b[0;36msync\u001b[0;34m(loop, func, callback_timeout, *args, **kwargs)\u001b[0m\n\u001b[1;32m    403\u001b[0m     \u001b[0;32mif\u001b[0m \u001b[0merror\u001b[0m\u001b[0;34m:\u001b[0m\u001b[0;34m\u001b[0m\u001b[0;34m\u001b[0m\u001b[0m\n\u001b[1;32m    404\u001b[0m         \u001b[0mtyp\u001b[0m\u001b[0;34m,\u001b[0m \u001b[0mexc\u001b[0m\u001b[0;34m,\u001b[0m \u001b[0mtb\u001b[0m \u001b[0;34m=\u001b[0m \u001b[0merror\u001b[0m\u001b[0;34m\u001b[0m\u001b[0;34m\u001b[0m\u001b[0m\n\u001b[0;32m--> 405\u001b[0;31m         \u001b[0;32mraise\u001b[0m \u001b[0mexc\u001b[0m\u001b[0;34m.\u001b[0m\u001b[0mwith_traceback\u001b[0m\u001b[0;34m(\u001b[0m\u001b[0mtb\u001b[0m\u001b[0;34m)\u001b[0m\u001b[0;34m\u001b[0m\u001b[0;34m\u001b[0m\u001b[0m\n\u001b[0m\u001b[1;32m    406\u001b[0m     \u001b[0;32melse\u001b[0m\u001b[0;34m:\u001b[0m\u001b[0;34m\u001b[0m\u001b[0;34m\u001b[0m\u001b[0m\n\u001b[1;32m    407\u001b[0m         \u001b[0;32mreturn\u001b[0m \u001b[0mresult\u001b[0m\u001b[0;34m\u001b[0m\u001b[0;34m\u001b[0m\u001b[0m\n",
      "\u001b[0;32m/opt/conda/lib/python3.9/site-packages/distributed/utils.py\u001b[0m in \u001b[0;36mf\u001b[0;34m()\u001b[0m\n\u001b[1;32m    376\u001b[0m                 \u001b[0mfuture\u001b[0m \u001b[0;34m=\u001b[0m \u001b[0masyncio\u001b[0m\u001b[0;34m.\u001b[0m\u001b[0mwait_for\u001b[0m\u001b[0;34m(\u001b[0m\u001b[0mfuture\u001b[0m\u001b[0;34m,\u001b[0m \u001b[0mcallback_timeout\u001b[0m\u001b[0;34m)\u001b[0m\u001b[0;34m\u001b[0m\u001b[0;34m\u001b[0m\u001b[0m\n\u001b[1;32m    377\u001b[0m             \u001b[0mfuture\u001b[0m \u001b[0;34m=\u001b[0m \u001b[0masyncio\u001b[0m\u001b[0;34m.\u001b[0m\u001b[0mensure_future\u001b[0m\u001b[0;34m(\u001b[0m\u001b[0mfuture\u001b[0m\u001b[0;34m)\u001b[0m\u001b[0;34m\u001b[0m\u001b[0;34m\u001b[0m\u001b[0m\n\u001b[0;32m--> 378\u001b[0;31m             \u001b[0mresult\u001b[0m \u001b[0;34m=\u001b[0m \u001b[0;32myield\u001b[0m \u001b[0mfuture\u001b[0m\u001b[0;34m\u001b[0m\u001b[0;34m\u001b[0m\u001b[0m\n\u001b[0m\u001b[1;32m    379\u001b[0m         \u001b[0;32mexcept\u001b[0m \u001b[0mException\u001b[0m\u001b[0;34m:\u001b[0m\u001b[0;34m\u001b[0m\u001b[0;34m\u001b[0m\u001b[0m\n\u001b[1;32m    380\u001b[0m             \u001b[0merror\u001b[0m \u001b[0;34m=\u001b[0m \u001b[0msys\u001b[0m\u001b[0;34m.\u001b[0m\u001b[0mexc_info\u001b[0m\u001b[0;34m(\u001b[0m\u001b[0;34m)\u001b[0m\u001b[0;34m\u001b[0m\u001b[0;34m\u001b[0m\u001b[0m\n",
      "\u001b[0;32m/opt/conda/lib/python3.9/site-packages/tornado/gen.py\u001b[0m in \u001b[0;36mrun\u001b[0;34m(self)\u001b[0m\n\u001b[1;32m    760\u001b[0m \u001b[0;34m\u001b[0m\u001b[0m\n\u001b[1;32m    761\u001b[0m                     \u001b[0;32mtry\u001b[0m\u001b[0;34m:\u001b[0m\u001b[0;34m\u001b[0m\u001b[0;34m\u001b[0m\u001b[0m\n\u001b[0;32m--> 762\u001b[0;31m                         \u001b[0mvalue\u001b[0m \u001b[0;34m=\u001b[0m \u001b[0mfuture\u001b[0m\u001b[0;34m.\u001b[0m\u001b[0mresult\u001b[0m\u001b[0;34m(\u001b[0m\u001b[0;34m)\u001b[0m\u001b[0;34m\u001b[0m\u001b[0;34m\u001b[0m\u001b[0m\n\u001b[0m\u001b[1;32m    763\u001b[0m                     \u001b[0;32mexcept\u001b[0m \u001b[0mException\u001b[0m\u001b[0;34m:\u001b[0m\u001b[0;34m\u001b[0m\u001b[0;34m\u001b[0m\u001b[0m\n\u001b[1;32m    764\u001b[0m                         \u001b[0mexc_info\u001b[0m \u001b[0;34m=\u001b[0m \u001b[0msys\u001b[0m\u001b[0;34m.\u001b[0m\u001b[0mexc_info\u001b[0m\u001b[0;34m(\u001b[0m\u001b[0;34m)\u001b[0m\u001b[0;34m\u001b[0m\u001b[0;34m\u001b[0m\u001b[0m\n",
      "\u001b[0;32m/opt/conda/lib/python3.9/site-packages/distributed/client.py\u001b[0m in \u001b[0;36m_gather\u001b[0;34m(self, futures, errors, direct, local_worker)\u001b[0m\n\u001b[1;32m   2035\u001b[0m                             \u001b[0mexc\u001b[0m \u001b[0;34m=\u001b[0m \u001b[0mCancelledError\u001b[0m\u001b[0;34m(\u001b[0m\u001b[0mkey\u001b[0m\u001b[0;34m)\u001b[0m\u001b[0;34m\u001b[0m\u001b[0;34m\u001b[0m\u001b[0m\n\u001b[1;32m   2036\u001b[0m                         \u001b[0;32melse\u001b[0m\u001b[0;34m:\u001b[0m\u001b[0;34m\u001b[0m\u001b[0;34m\u001b[0m\u001b[0m\n\u001b[0;32m-> 2037\u001b[0;31m                             \u001b[0;32mraise\u001b[0m \u001b[0mexception\u001b[0m\u001b[0;34m.\u001b[0m\u001b[0mwith_traceback\u001b[0m\u001b[0;34m(\u001b[0m\u001b[0mtraceback\u001b[0m\u001b[0;34m)\u001b[0m\u001b[0;34m\u001b[0m\u001b[0;34m\u001b[0m\u001b[0m\n\u001b[0m\u001b[1;32m   2038\u001b[0m                         \u001b[0;32mraise\u001b[0m \u001b[0mexc\u001b[0m\u001b[0;34m\u001b[0m\u001b[0;34m\u001b[0m\u001b[0m\n\u001b[1;32m   2039\u001b[0m                     \u001b[0;32mif\u001b[0m \u001b[0merrors\u001b[0m \u001b[0;34m==\u001b[0m \u001b[0;34m\"skip\"\u001b[0m\u001b[0;34m:\u001b[0m\u001b[0;34m\u001b[0m\u001b[0;34m\u001b[0m\u001b[0m\n",
      "\u001b[0;31mKilledWorker\u001b[0m: (\"('repartition-merge-1882b37b23a024fe030a9a1882768b16', 2)\", <WorkerState 'tcp://127.0.0.1:40597', name: 1, status: closed, memory: 0, processing: 2>)"
     ]
    }
   ],
   "source": [
    "ar = aggregated_results.compute()"
   ]
  },
  {
   "cell_type": "code",
   "execution_count": null,
   "id": "eba0a12f",
   "metadata": {},
   "outputs": [],
   "source": [
    "# net, im, fm = deserialize(lazyMinersResults[0]['result']['inductive_miner'])"
   ]
  },
  {
   "cell_type": "code",
   "execution_count": null,
   "id": "756eefaa",
   "metadata": {},
   "outputs": [],
   "source": [
    "# ar['inductive_miner']['precision'].keys()"
   ]
  },
  {
   "cell_type": "code",
   "execution_count": null,
   "id": "b2930c35",
   "metadata": {},
   "outputs": [],
   "source": [
    "# compute(**ar['inductive_miner']['precision'], net=net, im=im, fm=fm)"
   ]
  },
  {
   "cell_type": "code",
   "execution_count": null,
   "id": "73b141af",
   "metadata": {},
   "outputs": [],
   "source": [
    "# r = compute_metrics(ar, lazyMinersResults)"
   ]
  },
  {
   "cell_type": "code",
   "execution_count": null,
   "id": "898fb836",
   "metadata": {},
   "outputs": [],
   "source": [
    "# r"
   ]
  },
  {
   "cell_type": "code",
   "execution_count": null,
   "id": "6f6f6cb2",
   "metadata": {},
   "outputs": [],
   "source": [
    "# import importlib\n",
    "# importlib.reload(precision_alignment)"
   ]
  },
  {
   "cell_type": "code",
   "execution_count": null,
   "id": "0f6a3087",
   "metadata": {},
   "outputs": [],
   "source": []
  }
 ],
 "metadata": {
  "kernelspec": {
   "display_name": "Python 3 (ipykernel)",
   "language": "python",
   "name": "python3"
  },
  "language_info": {
   "codemirror_mode": {
    "name": "ipython",
    "version": 3
   },
   "file_extension": ".py",
   "mimetype": "text/x-python",
   "name": "python",
   "nbconvert_exporter": "python",
   "pygments_lexer": "ipython3",
   "version": "3.9.13"
  }
 },
 "nbformat": 4,
 "nbformat_minor": 5
}
