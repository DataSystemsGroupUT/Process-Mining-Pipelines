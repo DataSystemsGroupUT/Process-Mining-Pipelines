{
 "cells": [
  {
   "cell_type": "code",
   "execution_count": 1,
   "id": "95933cd9",
   "metadata": {},
   "outputs": [],
   "source": [
    "import dask.dataframe as dd\n",
    "from dask.dataframe.utils import make_meta\n",
    "from neo4j import GraphDatabase\n",
    "from dask.distributed import Client, LocalCluster, get_worker\n",
    "import dask\n",
    "import dill\n",
    "import os"
   ]
  },
  {
   "cell_type": "code",
   "execution_count": 2,
   "id": "b3e97717",
   "metadata": {},
   "outputs": [],
   "source": [
    "def addActivity(tx, activityName):\n",
    "    tx.run(\"MERGE (p:Activity {name: $activityName})\", activityName=activityName)\n",
    "\n",
    "def setLinks(row):\n",
    "    row['predecessor'] = row['activityNameEN'].shift(1); #lag(1)\n",
    "    row['successor'] = row['activityNameEN'].shift(-1); #lead(1)\n",
    "    return row;\n",
    "\n",
    "def getNeo4jCredentials():\n",
    "    return {\n",
    "        \"host\": \"bolt://34.239.227.164:7687\",\n",
    "        \"user\": \"neo4j\",\n",
    "        \"password\": \"members-goals-technique\"\n",
    "    }"
   ]
  },
  {
   "cell_type": "code",
   "execution_count": 3,
   "id": "e0ae56e5",
   "metadata": {},
   "outputs": [
    {
     "name": "stderr",
     "output_type": "stream",
     "text": [
      "2022-12-03 17:04:31,737 - distributed.diskutils - INFO - Found stale lock file and directory '/tmp/dask-worker-space/worker-waa2f_51', purging\n"
     ]
    }
   ],
   "source": [
    "columnTypes = {\n",
    "    'case:IDofConceptCase': 'string',\n",
    "    'case:Includes_subCases': 'string',\n",
    "    'case:Responsible_actor': 'string',\n",
    "    'case:caseProcedure': 'string',\n",
    "    'dateStop': 'string'\n",
    "}\n",
    "df = dd.read_csv('BPIC15_1.csv', dtype=columnTypes)\n",
    "client = Client(n_workers=1)"
   ]
  },
  {
   "cell_type": "code",
   "execution_count": 4,
   "id": "be648c82",
   "metadata": {},
   "outputs": [
    {
     "data": {
      "text/html": [
       "<div>\n",
       "    <div style=\"width: 24px; height: 24px; background-color: #e1e1e1; border: 3px solid #9D9D9D; border-radius: 5px; position: absolute;\"> </div>\n",
       "    <div style=\"margin-left: 48px;\">\n",
       "        <h3 style=\"margin-bottom: 0px;\">Client</h3>\n",
       "        <p style=\"color: #9D9D9D; margin-bottom: 0px;\">Client-8dcd7c67-732c-11ed-80e2-71ae35cc55dd</p>\n",
       "        <table style=\"width: 100%; text-align: left;\">\n",
       "\n",
       "        <tr>\n",
       "        \n",
       "            <td style=\"text-align: left;\"><strong>Connection method:</strong> Cluster object</td>\n",
       "            <td style=\"text-align: left;\"><strong>Cluster type:</strong> distributed.LocalCluster</td>\n",
       "        \n",
       "        </tr>\n",
       "\n",
       "        \n",
       "            <tr>\n",
       "                <td style=\"text-align: left;\">\n",
       "                    <strong>Dashboard: </strong> <a href=\"http://127.0.0.1:8787/status\" target=\"_blank\">http://127.0.0.1:8787/status</a>\n",
       "                </td>\n",
       "                <td style=\"text-align: left;\"></td>\n",
       "            </tr>\n",
       "        \n",
       "\n",
       "        </table>\n",
       "\n",
       "        \n",
       "            <details>\n",
       "            <summary style=\"margin-bottom: 20px;\"><h3 style=\"display: inline;\">Cluster Info</h3></summary>\n",
       "            <div class=\"jp-RenderedHTMLCommon jp-RenderedHTML jp-mod-trusted jp-OutputArea-output\">\n",
       "    <div style=\"width: 24px; height: 24px; background-color: #e1e1e1; border: 3px solid #9D9D9D; border-radius: 5px; position: absolute;\">\n",
       "    </div>\n",
       "    <div style=\"margin-left: 48px;\">\n",
       "        <h3 style=\"margin-bottom: 0px; margin-top: 0px;\">LocalCluster</h3>\n",
       "        <p style=\"color: #9D9D9D; margin-bottom: 0px;\">cd747100</p>\n",
       "        <table style=\"width: 100%; text-align: left;\">\n",
       "            <tr>\n",
       "                <td style=\"text-align: left;\">\n",
       "                    <strong>Dashboard:</strong> <a href=\"http://127.0.0.1:8787/status\" target=\"_blank\">http://127.0.0.1:8787/status</a>\n",
       "                </td>\n",
       "                <td style=\"text-align: left;\">\n",
       "                    <strong>Workers:</strong> 1\n",
       "                </td>\n",
       "            </tr>\n",
       "            <tr>\n",
       "                <td style=\"text-align: left;\">\n",
       "                    <strong>Total threads:</strong> 5\n",
       "                </td>\n",
       "                <td style=\"text-align: left;\">\n",
       "                    <strong>Total memory:</strong> 7.67 GiB\n",
       "                </td>\n",
       "            </tr>\n",
       "            \n",
       "            <tr>\n",
       "    <td style=\"text-align: left;\"><strong>Status:</strong> running</td>\n",
       "    <td style=\"text-align: left;\"><strong>Using processes:</strong> True</td>\n",
       "</tr>\n",
       "\n",
       "            \n",
       "        </table>\n",
       "\n",
       "        <details>\n",
       "            <summary style=\"margin-bottom: 20px;\">\n",
       "                <h3 style=\"display: inline;\">Scheduler Info</h3>\n",
       "            </summary>\n",
       "\n",
       "            <div style=\"\">\n",
       "    <div>\n",
       "        <div style=\"width: 24px; height: 24px; background-color: #FFF7E5; border: 3px solid #FF6132; border-radius: 5px; position: absolute;\"> </div>\n",
       "        <div style=\"margin-left: 48px;\">\n",
       "            <h3 style=\"margin-bottom: 0px;\">Scheduler</h3>\n",
       "            <p style=\"color: #9D9D9D; margin-bottom: 0px;\">Scheduler-b10238a7-300a-4cbf-8b5b-b6155129f4c5</p>\n",
       "            <table style=\"width: 100%; text-align: left;\">\n",
       "                <tr>\n",
       "                    <td style=\"text-align: left;\">\n",
       "                        <strong>Comm:</strong> tcp://127.0.0.1:38429\n",
       "                    </td>\n",
       "                    <td style=\"text-align: left;\">\n",
       "                        <strong>Workers:</strong> 1\n",
       "                    </td>\n",
       "                </tr>\n",
       "                <tr>\n",
       "                    <td style=\"text-align: left;\">\n",
       "                        <strong>Dashboard:</strong> <a href=\"http://127.0.0.1:8787/status\" target=\"_blank\">http://127.0.0.1:8787/status</a>\n",
       "                    </td>\n",
       "                    <td style=\"text-align: left;\">\n",
       "                        <strong>Total threads:</strong> 5\n",
       "                    </td>\n",
       "                </tr>\n",
       "                <tr>\n",
       "                    <td style=\"text-align: left;\">\n",
       "                        <strong>Started:</strong> Just now\n",
       "                    </td>\n",
       "                    <td style=\"text-align: left;\">\n",
       "                        <strong>Total memory:</strong> 7.67 GiB\n",
       "                    </td>\n",
       "                </tr>\n",
       "            </table>\n",
       "        </div>\n",
       "    </div>\n",
       "\n",
       "    <details style=\"margin-left: 48px;\">\n",
       "        <summary style=\"margin-bottom: 20px;\">\n",
       "            <h3 style=\"display: inline;\">Workers</h3>\n",
       "        </summary>\n",
       "\n",
       "        \n",
       "        <div style=\"margin-bottom: 20px;\">\n",
       "            <div style=\"width: 24px; height: 24px; background-color: #DBF5FF; border: 3px solid #4CC9FF; border-radius: 5px; position: absolute;\"> </div>\n",
       "            <div style=\"margin-left: 48px;\">\n",
       "            <details>\n",
       "                <summary>\n",
       "                    <h4 style=\"margin-bottom: 0px; display: inline;\">Worker: 0</h4>\n",
       "                </summary>\n",
       "                <table style=\"width: 100%; text-align: left;\">\n",
       "                    <tr>\n",
       "                        <td style=\"text-align: left;\">\n",
       "                            <strong>Comm: </strong> tcp://127.0.0.1:38731\n",
       "                        </td>\n",
       "                        <td style=\"text-align: left;\">\n",
       "                            <strong>Total threads: </strong> 5\n",
       "                        </td>\n",
       "                    </tr>\n",
       "                    <tr>\n",
       "                        <td style=\"text-align: left;\">\n",
       "                            <strong>Dashboard: </strong> <a href=\"http://127.0.0.1:39855/status\" target=\"_blank\">http://127.0.0.1:39855/status</a>\n",
       "                        </td>\n",
       "                        <td style=\"text-align: left;\">\n",
       "                            <strong>Memory: </strong> 7.67 GiB\n",
       "                        </td>\n",
       "                    </tr>\n",
       "                    <tr>\n",
       "                        <td style=\"text-align: left;\">\n",
       "                            <strong>Nanny: </strong> tcp://127.0.0.1:43541\n",
       "                        </td>\n",
       "                        <td style=\"text-align: left;\"></td>\n",
       "                    </tr>\n",
       "                    <tr>\n",
       "                        <td colspan=\"2\" style=\"text-align: left;\">\n",
       "                            <strong>Local directory: </strong> /tmp/dask-worker-space/worker-buco5dyj\n",
       "                        </td>\n",
       "                    </tr>\n",
       "\n",
       "                    \n",
       "\n",
       "                    \n",
       "\n",
       "                </table>\n",
       "            </details>\n",
       "            </div>\n",
       "        </div>\n",
       "        \n",
       "\n",
       "    </details>\n",
       "</div>\n",
       "\n",
       "        </details>\n",
       "    </div>\n",
       "</div>\n",
       "            </details>\n",
       "        \n",
       "\n",
       "    </div>\n",
       "</div>"
      ],
      "text/plain": [
       "<Client: 'tcp://127.0.0.1:38429' processes=1 threads=5, memory=7.67 GiB>"
      ]
     },
     "execution_count": 4,
     "metadata": {},
     "output_type": "execute_result"
    }
   ],
   "source": [
    "client"
   ]
  },
  {
   "cell_type": "code",
   "execution_count": 5,
   "id": "9729d1f7",
   "metadata": {},
   "outputs": [],
   "source": [
    "creds = getNeo4jCredentials()\n",
    "driver = GraphDatabase.driver(creds.get('host'), auth=(creds.get('user'), creds.get('password')))"
   ]
  },
  {
   "cell_type": "code",
   "execution_count": 6,
   "id": "ed33ee3d",
   "metadata": {},
   "outputs": [],
   "source": [
    "dill_file = os.path.join(os.getcwd(), 'dbconn.dill')\n",
    "with open(dill_file, 'wb') as f:\n",
    "    dill.dump(driver, f)"
   ]
  },
  {
   "cell_type": "code",
   "execution_count": 7,
   "id": "2d041d04",
   "metadata": {},
   "outputs": [],
   "source": [
    "scattered_conn = client.scatter(dill.dumps(driver), broadcast=True)"
   ]
  },
  {
   "cell_type": "code",
   "execution_count": 8,
   "id": "61876be8",
   "metadata": {},
   "outputs": [],
   "source": [
    "scattered_file = client.scatter(dill_file, broadcast=True)"
   ]
  },
  {
   "cell_type": "code",
   "execution_count": 9,
   "id": "0572f758",
   "metadata": {},
   "outputs": [],
   "source": [
    "# with open(dill_file, 'rb') as f:\n",
    "#     result = dill.load(f)"
   ]
  },
  {
   "cell_type": "code",
   "execution_count": 10,
   "id": "a40ac08f",
   "metadata": {},
   "outputs": [],
   "source": [
    "# def connect_worker_db():\n",
    "#     connection = dill.load(open(os.path.join(os.getcwd(), 'dbconn.dill'), 'rb'))\n",
    "#     worker = get_worker()\n",
    "#     worker.driver = connection"
   ]
  },
  {
   "cell_type": "code",
   "execution_count": 11,
   "id": "966259c4",
   "metadata": {},
   "outputs": [],
   "source": [
    "# client.register_worker_callbacks(connect_worker_db)"
   ]
  },
  {
   "cell_type": "code",
   "execution_count": 12,
   "id": "f277e7fe",
   "metadata": {},
   "outputs": [],
   "source": [
    "df['successor'] = ''\n",
    "df['predecessor'] = ''\n",
    "df = df.sort_values(by='time:timestamp').groupby('case:concept:name').apply(setLinks, meta=df)"
   ]
  },
  {
   "cell_type": "code",
   "execution_count": 13,
   "id": "02361d82",
   "metadata": {},
   "outputs": [],
   "source": [
    "result = df['activityNameEN'].unique()"
   ]
  },
  {
   "cell_type": "code",
   "execution_count": 19,
   "id": "db472d69",
   "metadata": {},
   "outputs": [],
   "source": [
    "def experiment(file):\n",
    "    driver = dill.loads(file)\n",
    "#     with driver.session() as session:\n",
    "#         result.apply(lambda activityName: addActivity(session, activityName), meta=('activityNameEN', 'object')).compute()\n",
    "#     session.close()\n",
    "    driver.close()\n",
    "    return dill.__version__"
   ]
  },
  {
   "cell_type": "code",
   "execution_count": 20,
   "id": "302b4962",
   "metadata": {},
   "outputs": [],
   "source": [
    "result = client.submit(experiment, scattered_conn)"
   ]
  },
  {
   "cell_type": "code",
   "execution_count": 21,
   "id": "9e650d50",
   "metadata": {
    "scrolled": true
   },
   "outputs": [
    {
     "data": {
      "text/html": [
       "<strong>Future: experiment</strong>\n",
       "<span style=\"color: var(--jp-ui-font-color2, gray)\"> status: </span>\n",
       "\n",
       "\n",
       "<span style=\"color: var(--jp-error-color0, black)\">pending</span>,\n",
       "\n",
       "\n",
       "\n",
       "<span style=\"color: var(--jp-ui-font-color2, gray)\"> type:</span> NoneType,\n",
       "\n",
       "\n",
       "<span style=\"color: var(--jp-ui-font-color2, gray)\"> key:</span> experiment-15a37d46dbb26c8a542575040df5e4ad"
      ],
      "text/plain": [
       "<Future: pending, key: experiment-15a37d46dbb26c8a542575040df5e4ad>"
      ]
     },
     "execution_count": 21,
     "metadata": {},
     "output_type": "execute_result"
    }
   ],
   "source": [
    "result"
   ]
  },
  {
   "cell_type": "code",
   "execution_count": null,
   "id": "c0724b95",
   "metadata": {},
   "outputs": [],
   "source": [
    "client.gather(result)"
   ]
  },
  {
   "cell_type": "code",
   "execution_count": null,
   "id": "22d833c0",
   "metadata": {},
   "outputs": [],
   "source": []
  }
 ],
 "metadata": {
  "kernelspec": {
   "display_name": "Python 3 (ipykernel)",
   "language": "python",
   "name": "python3"
  },
  "language_info": {
   "codemirror_mode": {
    "name": "ipython",
    "version": 3
   },
   "file_extension": ".py",
   "mimetype": "text/x-python",
   "name": "python",
   "nbconvert_exporter": "python",
   "pygments_lexer": "ipython3",
   "version": "3.9.13"
  }
 },
 "nbformat": 4,
 "nbformat_minor": 5
}
