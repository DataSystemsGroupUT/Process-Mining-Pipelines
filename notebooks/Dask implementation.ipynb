{
 "cells": [
  {
   "cell_type": "code",
   "execution_count": 31,
   "id": "b3e97717",
   "metadata": {},
   "outputs": [],
   "source": [
    "def getNeo4jCredentials():\n",
    "    return {\n",
    "        \"host\": \"bolt://184.72.205.146:7687\",\n",
    "        \"user\": \"neo4j\",\n",
    "        \"password\": \"importance-eraser-characters\"\n",
    "    }\n"
   ]
  },
  {
   "cell_type": "code",
   "execution_count": 32,
   "id": "e0ae56e5",
   "metadata": {},
   "outputs": [],
   "source": [
    "import dask.dataframe as dd\n",
    "columnTypes = {\n",
    "    'case:IDofConceptCase': 'string',\n",
    "    'case:Includes_subCases': 'string',\n",
    "    'case:Responsible_actor': 'string',\n",
    "    'case:caseProcedure': 'string',\n",
    "    'dateStop': 'string'\n",
    "}\n",
    "df = dd.read_csv('BPIC15_1.csv', dtype=columnTypes)\n"
   ]
  },
  {
   "cell_type": "code",
   "execution_count": 33,
   "id": "16d9f1a8",
   "metadata": {},
   "outputs": [],
   "source": [
    "def setLinks(row):\n",
    "    row['predecessor'] = row['activityNameEN'].shift(1); #lag(1)\n",
    "    row['successor'] = row['activityNameEN'].shift(-1); #lead(1)\n",
    "    return row;"
   ]
  },
  {
   "cell_type": "code",
   "execution_count": 34,
   "id": "f277e7fe",
   "metadata": {},
   "outputs": [
    {
     "name": "stderr",
     "output_type": "stream",
     "text": [
      "/tmp/ipykernel_12/2874264761.py:1: UserWarning: `meta` is not specified, inferred from partial data. Please provide `meta` if the result is unexpected.\n",
      "  Before: .apply(func)\n",
      "  After:  .apply(func, meta={'x': 'f8', 'y': 'f8'}) for dataframe result\n",
      "  or:     .apply(func, meta=('x', 'f8'))            for series result\n",
      "  df = df.sort_values(by='time:timestamp').groupby('case:concept:name').apply(setLinks)\n"
     ]
    }
   ],
   "source": [
    "df = df.sort_values(by='time:timestamp').groupby('case:concept:name').apply(setLinks)"
   ]
  },
  {
   "cell_type": "code",
   "execution_count": 35,
   "id": "40b86810",
   "metadata": {},
   "outputs": [],
   "source": [
    "creds = getNeo4jCredentials()\n",
    "driver = GraphDatabase.driver(creds.get('host'), auth=(creds.get('user'), creds.get('password')))\n",
    "\n",
    "with driver.session() as session:\n",
    "    df['activityNameEN'].unique().apply(lambda activityName: session.write_transaction(addActivity, activityName), meta=('activityNameEN', 'object'))\n",
    "session.close()"
   ]
  },
  {
   "cell_type": "code",
   "execution_count": null,
   "id": "0d3cba32",
   "metadata": {},
   "outputs": [],
   "source": []
  }
 ],
 "metadata": {
  "kernelspec": {
   "display_name": "Python 3 (ipykernel)",
   "language": "python",
   "name": "python3"
  },
  "language_info": {
   "codemirror_mode": {
    "name": "ipython",
    "version": 3
   },
   "file_extension": ".py",
   "mimetype": "text/x-python",
   "name": "python",
   "nbconvert_exporter": "python",
   "pygments_lexer": "ipython3",
   "version": "3.9.12"
  }
 },
 "nbformat": 4,
 "nbformat_minor": 5
}
