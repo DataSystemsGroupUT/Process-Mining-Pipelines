{
 "cells": [
  {
   "cell_type": "code",
   "execution_count": 1,
   "id": "95933cd9",
   "metadata": {},
   "outputs": [],
   "source": [
    "import dask.dataframe as dd\n",
    "from dask.dataframe.utils import make_meta\n",
    "from neo4j import GraphDatabase\n",
    "from dask.distributed import Client, LocalCluster, get_worker\n",
    "import dask\n",
    "import dill\n",
    "import os"
   ]
  },
  {
   "cell_type": "code",
   "execution_count": 2,
   "id": "b3e97717",
   "metadata": {},
   "outputs": [],
   "source": [
    "def addActivity(tx, activityName):\n",
    "    return tx.run(\"MERGE (p:Activity {name: $activityName})\", activityName=activityName)\n",
    "\n",
    "def setLinks(row):\n",
    "    row['predecessor'] = row['activityNameEN'].shift(1); #lag(1)\n",
    "    row['successor'] = row['activityNameEN'].shift(-1); #lead(1)\n",
    "    return row;\n",
    "\n",
    "def getNeo4jCredentials():\n",
    "    return {\n",
    "        \"host\": \"bolt://34.239.227.164:7687\",\n",
    "        \"user\": \"neo4j\",\n",
    "        \"password\": \"members-goals-technique\"\n",
    "    }"
   ]
  },
  {
   "cell_type": "code",
   "execution_count": 11,
   "id": "e0ae56e5",
   "metadata": {},
   "outputs": [],
   "source": [
    "columnTypes = {\n",
    "    'case:IDofConceptCase': 'string',\n",
    "    'case:Includes_subCases': 'string',\n",
    "    'case:Responsible_actor': 'string',\n",
    "    'case:caseProcedure': 'string',\n",
    "    'dateStop': 'string'\n",
    "}\n",
    "df = dd.read_csv('BPIC15_1.csv', dtype=columnTypes)"
   ]
  },
  {
   "cell_type": "code",
   "execution_count": 4,
   "id": "0e1bed8d",
   "metadata": {},
   "outputs": [
    {
     "name": "stderr",
     "output_type": "stream",
     "text": [
      "2022-12-04 12:35:46,767 - distributed.diskutils - INFO - Found stale lock file and directory '/tmp/dask-worker-space/worker-3jwvw5_9', purging\n",
      "2022-12-04 12:35:46,767 - distributed.diskutils - INFO - Found stale lock file and directory '/tmp/dask-worker-space/worker-dj1i26g1', purging\n"
     ]
    },
    {
     "data": {
      "text/html": [
       "<div>\n",
       "    <div style=\"width: 24px; height: 24px; background-color: #e1e1e1; border: 3px solid #9D9D9D; border-radius: 5px; position: absolute;\"> </div>\n",
       "    <div style=\"margin-left: 48px;\">\n",
       "        <h3 style=\"margin-bottom: 0px;\">Client</h3>\n",
       "        <p style=\"color: #9D9D9D; margin-bottom: 0px;\">Client-2cf65755-73d0-11ed-80c5-cd28479805a0</p>\n",
       "        <table style=\"width: 100%; text-align: left;\">\n",
       "\n",
       "        <tr>\n",
       "        \n",
       "            <td style=\"text-align: left;\"><strong>Connection method:</strong> Cluster object</td>\n",
       "            <td style=\"text-align: left;\"><strong>Cluster type:</strong> distributed.LocalCluster</td>\n",
       "        \n",
       "        </tr>\n",
       "\n",
       "        \n",
       "            <tr>\n",
       "                <td style=\"text-align: left;\">\n",
       "                    <strong>Dashboard: </strong> <a href=\"http://127.0.0.1:8787/status\" target=\"_blank\">http://127.0.0.1:8787/status</a>\n",
       "                </td>\n",
       "                <td style=\"text-align: left;\"></td>\n",
       "            </tr>\n",
       "        \n",
       "\n",
       "        </table>\n",
       "\n",
       "        \n",
       "            <details>\n",
       "            <summary style=\"margin-bottom: 20px;\"><h3 style=\"display: inline;\">Cluster Info</h3></summary>\n",
       "            <div class=\"jp-RenderedHTMLCommon jp-RenderedHTML jp-mod-trusted jp-OutputArea-output\">\n",
       "    <div style=\"width: 24px; height: 24px; background-color: #e1e1e1; border: 3px solid #9D9D9D; border-radius: 5px; position: absolute;\">\n",
       "    </div>\n",
       "    <div style=\"margin-left: 48px;\">\n",
       "        <h3 style=\"margin-bottom: 0px; margin-top: 0px;\">LocalCluster</h3>\n",
       "        <p style=\"color: #9D9D9D; margin-bottom: 0px;\">620d921c</p>\n",
       "        <table style=\"width: 100%; text-align: left;\">\n",
       "            <tr>\n",
       "                <td style=\"text-align: left;\">\n",
       "                    <strong>Dashboard:</strong> <a href=\"http://127.0.0.1:8787/status\" target=\"_blank\">http://127.0.0.1:8787/status</a>\n",
       "                </td>\n",
       "                <td style=\"text-align: left;\">\n",
       "                    <strong>Workers:</strong> 1\n",
       "                </td>\n",
       "            </tr>\n",
       "            <tr>\n",
       "                <td style=\"text-align: left;\">\n",
       "                    <strong>Total threads:</strong> 5\n",
       "                </td>\n",
       "                <td style=\"text-align: left;\">\n",
       "                    <strong>Total memory:</strong> 7.67 GiB\n",
       "                </td>\n",
       "            </tr>\n",
       "            \n",
       "            <tr>\n",
       "    <td style=\"text-align: left;\"><strong>Status:</strong> running</td>\n",
       "    <td style=\"text-align: left;\"><strong>Using processes:</strong> True</td>\n",
       "</tr>\n",
       "\n",
       "            \n",
       "        </table>\n",
       "\n",
       "        <details>\n",
       "            <summary style=\"margin-bottom: 20px;\">\n",
       "                <h3 style=\"display: inline;\">Scheduler Info</h3>\n",
       "            </summary>\n",
       "\n",
       "            <div style=\"\">\n",
       "    <div>\n",
       "        <div style=\"width: 24px; height: 24px; background-color: #FFF7E5; border: 3px solid #FF6132; border-radius: 5px; position: absolute;\"> </div>\n",
       "        <div style=\"margin-left: 48px;\">\n",
       "            <h3 style=\"margin-bottom: 0px;\">Scheduler</h3>\n",
       "            <p style=\"color: #9D9D9D; margin-bottom: 0px;\">Scheduler-4190151f-e3c1-49c7-a479-8e5fe7f949b0</p>\n",
       "            <table style=\"width: 100%; text-align: left;\">\n",
       "                <tr>\n",
       "                    <td style=\"text-align: left;\">\n",
       "                        <strong>Comm:</strong> tcp://127.0.0.1:45747\n",
       "                    </td>\n",
       "                    <td style=\"text-align: left;\">\n",
       "                        <strong>Workers:</strong> 1\n",
       "                    </td>\n",
       "                </tr>\n",
       "                <tr>\n",
       "                    <td style=\"text-align: left;\">\n",
       "                        <strong>Dashboard:</strong> <a href=\"http://127.0.0.1:8787/status\" target=\"_blank\">http://127.0.0.1:8787/status</a>\n",
       "                    </td>\n",
       "                    <td style=\"text-align: left;\">\n",
       "                        <strong>Total threads:</strong> 5\n",
       "                    </td>\n",
       "                </tr>\n",
       "                <tr>\n",
       "                    <td style=\"text-align: left;\">\n",
       "                        <strong>Started:</strong> Just now\n",
       "                    </td>\n",
       "                    <td style=\"text-align: left;\">\n",
       "                        <strong>Total memory:</strong> 7.67 GiB\n",
       "                    </td>\n",
       "                </tr>\n",
       "            </table>\n",
       "        </div>\n",
       "    </div>\n",
       "\n",
       "    <details style=\"margin-left: 48px;\">\n",
       "        <summary style=\"margin-bottom: 20px;\">\n",
       "            <h3 style=\"display: inline;\">Workers</h3>\n",
       "        </summary>\n",
       "\n",
       "        \n",
       "        <div style=\"margin-bottom: 20px;\">\n",
       "            <div style=\"width: 24px; height: 24px; background-color: #DBF5FF; border: 3px solid #4CC9FF; border-radius: 5px; position: absolute;\"> </div>\n",
       "            <div style=\"margin-left: 48px;\">\n",
       "            <details>\n",
       "                <summary>\n",
       "                    <h4 style=\"margin-bottom: 0px; display: inline;\">Worker: 0</h4>\n",
       "                </summary>\n",
       "                <table style=\"width: 100%; text-align: left;\">\n",
       "                    <tr>\n",
       "                        <td style=\"text-align: left;\">\n",
       "                            <strong>Comm: </strong> tcp://127.0.0.1:38467\n",
       "                        </td>\n",
       "                        <td style=\"text-align: left;\">\n",
       "                            <strong>Total threads: </strong> 5\n",
       "                        </td>\n",
       "                    </tr>\n",
       "                    <tr>\n",
       "                        <td style=\"text-align: left;\">\n",
       "                            <strong>Dashboard: </strong> <a href=\"http://127.0.0.1:37409/status\" target=\"_blank\">http://127.0.0.1:37409/status</a>\n",
       "                        </td>\n",
       "                        <td style=\"text-align: left;\">\n",
       "                            <strong>Memory: </strong> 7.67 GiB\n",
       "                        </td>\n",
       "                    </tr>\n",
       "                    <tr>\n",
       "                        <td style=\"text-align: left;\">\n",
       "                            <strong>Nanny: </strong> tcp://127.0.0.1:37849\n",
       "                        </td>\n",
       "                        <td style=\"text-align: left;\"></td>\n",
       "                    </tr>\n",
       "                    <tr>\n",
       "                        <td colspan=\"2\" style=\"text-align: left;\">\n",
       "                            <strong>Local directory: </strong> /tmp/dask-worker-space/worker-oc_71czb\n",
       "                        </td>\n",
       "                    </tr>\n",
       "\n",
       "                    \n",
       "\n",
       "                    \n",
       "\n",
       "                </table>\n",
       "            </details>\n",
       "            </div>\n",
       "        </div>\n",
       "        \n",
       "\n",
       "    </details>\n",
       "</div>\n",
       "\n",
       "        </details>\n",
       "    </div>\n",
       "</div>\n",
       "            </details>\n",
       "        \n",
       "\n",
       "    </div>\n",
       "</div>"
      ],
      "text/plain": [
       "<Client: 'tcp://127.0.0.1:45747' processes=1 threads=5, memory=7.67 GiB>"
      ]
     },
     "execution_count": 4,
     "metadata": {},
     "output_type": "execute_result"
    }
   ],
   "source": [
    "client = Client(n_workers=1)\n",
    "client"
   ]
  },
  {
   "cell_type": "code",
   "execution_count": 5,
   "id": "83dee1e2",
   "metadata": {},
   "outputs": [],
   "source": [
    "creds = getNeo4jCredentials()"
   ]
  },
  {
   "cell_type": "code",
   "execution_count": 12,
   "id": "11042977",
   "metadata": {},
   "outputs": [],
   "source": [
    "def experiment(result):\n",
    "    driver = GraphDatabase.driver(creds.get('host'), auth=(creds.get('user'), creds.get('password')))\n",
    "#     with driver.session() as session:\n",
    "#         result.apply(lambda activityName: session.run(\"MERGE (p:Activity {name: $activityName})\", activityName=activityName),\n",
    "#                      meta=('activityNameEN', 'object')).compute()\n",
    "#     session.close()\n",
    "#     driver.close()\n",
    "    return result"
   ]
  },
  {
   "cell_type": "code",
   "execution_count": 13,
   "id": "f277e7fe",
   "metadata": {},
   "outputs": [],
   "source": [
    "df['successor'] = ''\n",
    "df['predecessor'] = ''\n",
    "df = df.sort_values(by='time:timestamp').groupby('case:concept:name').apply(setLinks, meta=df)"
   ]
  },
  {
   "cell_type": "code",
   "execution_count": 14,
   "id": "dd5e893e",
   "metadata": {},
   "outputs": [],
   "source": [
    "result = df['activityNameEN'].unique()"
   ]
  },
  {
   "cell_type": "code",
   "execution_count": 15,
   "id": "427cc91e",
   "metadata": {},
   "outputs": [],
   "source": [
    "f_result = client.scatter(result, broadcast=True)"
   ]
  },
  {
   "cell_type": "code",
   "execution_count": 16,
   "id": "95fb6b88",
   "metadata": {},
   "outputs": [],
   "source": [
    "output = client.submit(experiment, f_result)"
   ]
  },
  {
   "cell_type": "code",
   "execution_count": 17,
   "id": "302afd08",
   "metadata": {},
   "outputs": [],
   "source": [
    "x = output.result()"
   ]
  },
  {
   "cell_type": "code",
   "execution_count": 30,
   "id": "77452e9d",
   "metadata": {},
   "outputs": [],
   "source": [
    "def test(activityName, session):\n",
    "    d_session = dill.loads(session)\n",
    "    d_session.run(\"MERGE (p:Activity {name: $activityName})\", activityName=activityName)\n",
    "    return activityName"
   ]
  },
  {
   "cell_type": "code",
   "execution_count": 19,
   "id": "6e617165",
   "metadata": {
    "scrolled": true
   },
   "outputs": [],
   "source": [
    "driver = GraphDatabase.driver(creds.get('host'), auth=(creds.get('user'), creds.get('password')))\n",
    "with driver.session() as session:\n",
    "    x.apply(test, meta=('activityNameEN', 'object'), session=dill.dumps(session)).compute()\n",
    "    session.close()\n",
    "driver.close()"
   ]
  },
  {
   "cell_type": "code",
   "execution_count": 28,
   "id": "282473c0",
   "metadata": {},
   "outputs": [],
   "source": [
    "task = x.apply(test, meta=('activityNameEN', 'object'))"
   ]
  },
  {
   "cell_type": "code",
   "execution_count": 29,
   "id": "8479d48d",
   "metadata": {},
   "outputs": [
    {
     "data": {
      "text/plain": [
       "0                   register submission date request\n",
       "1                         phase application received\n",
       "2              enter senddate procedure confirmation\n",
       "3      registrer date of publishing received request\n",
       "4                     enter senddate acknowledgement\n",
       "                           ...                      \n",
       "284                        phase draft decision sent\n",
       "285                         appealed to higher court\n",
       "286            create letter requesting updated plan\n",
       "287                     phase updated plan requested\n",
       "288                      phase updated plan received\n",
       "Name: activityNameEN, Length: 289, dtype: object"
      ]
     },
     "execution_count": 29,
     "metadata": {},
     "output_type": "execute_result"
    }
   ],
   "source": [
    "task.compute()"
   ]
  },
  {
   "cell_type": "code",
   "execution_count": null,
   "id": "9729d1f7",
   "metadata": {},
   "outputs": [],
   "source": [
    "# driver = GraphDatabase.driver(creds.get('host'), auth=(creds.get('user'), creds.get('password')))\n",
    "\n",
    "# dill_file = os.path.join(os.getcwd(), 'dbconn.dill')\n",
    "# with open(dill_file, 'wb') as f:\n",
    "#     dill.dump(driver, f)\n",
    "\n",
    "# scattered_conn = client.scatter(dill.dumps(driver), broadcast=True)\n",
    "\n",
    "# scattered_file = client.scatter(dill_file, broadcast=True)\n",
    "\n",
    "# with open(dill_file, 'rb') as f:\n",
    "#     result = dill.load(f)\n",
    "\n",
    "# def connect_worker_db():\n",
    "#     connection = dill.load(open(os.path.join(os.getcwd(), 'dbconn.dill'), 'rb'))\n",
    "#     worker = get_worker()\n",
    "#     worker.driver = connection"
   ]
  },
  {
   "cell_type": "code",
   "execution_count": null,
   "id": "22d833c0",
   "metadata": {},
   "outputs": [],
   "source": []
  }
 ],
 "metadata": {
  "kernelspec": {
   "display_name": "Python 3 (ipykernel)",
   "language": "python",
   "name": "python3"
  },
  "language_info": {
   "codemirror_mode": {
    "name": "ipython",
    "version": 3
   },
   "file_extension": ".py",
   "mimetype": "text/x-python",
   "name": "python",
   "nbconvert_exporter": "python",
   "pygments_lexer": "ipython3",
   "version": "3.9.13"
  }
 },
 "nbformat": 4,
 "nbformat_minor": 5
}
