{
 "cells": [
  {
   "cell_type": "code",
   "execution_count": 1,
   "id": "9a2ba7e0",
   "metadata": {},
   "outputs": [],
   "source": [
    "# Miners\n",
    "from pm4py import serialize, deserialize\n",
    "from pm4py import discover_dfg as dfg_discovery\n",
    "\n",
    "from pm4py.algo.discovery.alpha import algorithm as alpha_miner\n",
    "from pm4py.algo.discovery.heuristics import algorithm as heuristics_miner\n",
    "from pm4py.algo.discovery.inductive import algorithm as inductive_miner\n",
    "\n",
    "\n",
    "# Evaluators\n",
    "import pandas as pd\n",
    "import re\n",
    "import pm4py\n",
    "import sys\n",
    "import dask\n",
    "from pm4py.discovery import DFG\n",
    "from pm4py import discover_dfg_typed\n",
    "\n",
    "from contribution import fitness_alignment, generalization, precision_alignment"
   ]
  },
  {
   "cell_type": "code",
   "execution_count": 2,
   "id": "9da59736",
   "metadata": {},
   "outputs": [],
   "source": [
    "data = pd.read_csv('BPI_2012.csv')\n",
    "# log = pm4py.read_xes('BPI Challenge 2017.xes')"
   ]
  },
  {
   "cell_type": "code",
   "execution_count": 3,
   "id": "85e5c262",
   "metadata": {},
   "outputs": [],
   "source": [
    "# dataframe = dataframe.rename(columns={\"Incident ID\": \"case:concept:name\", \"IncidentActivity_Type\": \"concept:name\", \"DateStamp\": \"time:timestamp\"})"
   ]
  },
  {
   "cell_type": "code",
   "execution_count": 4,
   "id": "3a3ccd62",
   "metadata": {},
   "outputs": [],
   "source": [
    "groups = data['case:concept:name'].unique()"
   ]
  },
  {
   "cell_type": "code",
   "execution_count": 31,
   "id": "813c6341",
   "metadata": {},
   "outputs": [],
   "source": [
    "dataframe = data[data['case:concept:name'].isin(groups[:80])][:]"
   ]
  },
  {
   "cell_type": "code",
   "execution_count": 32,
   "id": "9e2d325d",
   "metadata": {},
   "outputs": [],
   "source": [
    "dataframe['time:timestamp'] = pd.to_datetime(dataframe['time:timestamp'], utc=True)\n",
    "dataframe['concept:name'] = dataframe['concept:name'].astype(str)\n",
    "dataframe['case:concept:name'] = dataframe['case:concept:name'].astype(str)\n",
    "\n",
    "# data['time:timestamp'] = pd.to_datetime(data['time:timestamp'], utc=True)\n",
    "# data['concept:name'] = data['concept:name'].astype(str)\n",
    "# data['case:concept:name'] = data['case:concept:name'].astype(str)"
   ]
  },
  {
   "cell_type": "code",
   "execution_count": 33,
   "id": "d9e6762f",
   "metadata": {},
   "outputs": [],
   "source": [
    "dfg, start_activities, end_activities = dfg_discovery(dataframe)"
   ]
  },
  {
   "cell_type": "code",
   "execution_count": 34,
   "id": "6137ddf5",
   "metadata": {},
   "outputs": [],
   "source": [
    "theDfg = DFG(dfg, start_activities=start_activities, end_activities=end_activities)"
   ]
  },
  {
   "cell_type": "code",
   "execution_count": 35,
   "id": "610d7f9a",
   "metadata": {},
   "outputs": [],
   "source": [
    "from pm4py.algo.discovery.heuristics import algorithm as heuristics_miner\n",
    "from pm4py.algo.evaluation.generalization import algorithm as generalization_pm4py"
   ]
  },
  {
   "cell_type": "code",
   "execution_count": 36,
   "id": "9c3557e4",
   "metadata": {},
   "outputs": [],
   "source": [
    "net, im, fm = heuristics_miner.apply_dfg(dfg)"
   ]
  },
  {
   "cell_type": "code",
   "execution_count": 39,
   "id": "6303188c",
   "metadata": {},
   "outputs": [],
   "source": [
    "dgen = dask.delayed(generalization_pm4py.apply)(dataframe, net, im, fm)"
   ]
  },
  {
   "cell_type": "code",
   "execution_count": 37,
   "id": "5952e04a",
   "metadata": {},
   "outputs": [
    {
     "data": {
      "application/vnd.jupyter.widget-view+json": {
       "model_id": "ebb95d6c476e44f699abf7d185bc709a",
       "version_major": 2,
       "version_minor": 0
      },
      "text/plain": [
       "replaying log with TBR, completed variants ::   0%|          | 0/52 [00:00<?, ?it/s]"
      ]
     },
     "metadata": {},
     "output_type": "display_data"
    }
   ],
   "source": [
    "generalization_output = generalization_pm4py.apply(dataframe, net, im, fm)"
   ]
  },
  {
   "cell_type": "code",
   "execution_count": 38,
   "id": "ee7ed867",
   "metadata": {},
   "outputs": [
    {
     "data": {
      "text/plain": [
       "0.7497700473915065"
      ]
     },
     "execution_count": 38,
     "metadata": {},
     "output_type": "execute_result"
    }
   ],
   "source": [
    "generalization_output"
   ]
  },
  {
   "cell_type": "code",
   "execution_count": 43,
   "id": "7884c8a5",
   "metadata": {},
   "outputs": [
    {
     "data": {
      "application/vnd.jupyter.widget-view+json": {
       "model_id": "e08a8535b31f47df9d513a6adb841dc3",
       "version_major": 2,
       "version_minor": 0
      },
      "text/plain": [
       "replaying log with TBR, completed variants ::   0%|          | 0/52 [00:00<?, ?it/s]"
      ]
     },
     "metadata": {},
     "output_type": "display_data"
    },
    {
     "data": {
      "text/plain": [
       "0.7497700473915065"
      ]
     },
     "execution_count": 43,
     "metadata": {},
     "output_type": "execute_result"
    }
   ],
   "source": [
    "dgen.compute()"
   ]
  },
  {
   "cell_type": "code",
   "execution_count": 25,
   "id": "40c918bc",
   "metadata": {},
   "outputs": [
    {
     "data": {
      "application/vnd.jupyter.widget-view+json": {
       "model_id": "a2928b60d151423e8dd00082d77c94b6",
       "version_major": 2,
       "version_minor": 0
      },
      "text/plain": [
       "replaying log with TBR, completed variants ::   0%|          | 0/22 [00:00<?, ?it/s]"
      ]
     },
     "metadata": {},
     "output_type": "display_data"
    }
   ],
   "source": [
    "gen_80 = generalization.apply(dataframe, net, im, fm)"
   ]
  },
  {
   "cell_type": "code",
   "execution_count": 28,
   "id": "546422a2",
   "metadata": {},
   "outputs": [
    {
     "data": {
      "text/plain": [
       "0.7497700473915065"
      ]
     },
     "execution_count": 28,
     "metadata": {},
     "output_type": "execute_result"
    }
   ],
   "source": [
    "generalization.compute(gen_40['trans_occ_map'] + gen_80['trans_occ_map'], net)"
   ]
  },
  {
   "cell_type": "code",
   "execution_count": 19,
   "id": "0f41a9b6",
   "metadata": {},
   "outputs": [
    {
     "data": {
      "text/plain": [
       "0.7497700473915065"
      ]
     },
     "execution_count": 19,
     "metadata": {},
     "output_type": "execute_result"
    }
   ],
   "source": [
    "generalization.compute(gen_80['trans_occ_map'], net)"
   ]
  }
 ],
 "metadata": {
  "kernelspec": {
   "display_name": "Python 3 (ipykernel)",
   "language": "python",
   "name": "python3"
  },
  "language_info": {
   "codemirror_mode": {
    "name": "ipython",
    "version": 3
   },
   "file_extension": ".py",
   "mimetype": "text/x-python",
   "name": "python",
   "nbconvert_exporter": "python",
   "pygments_lexer": "ipython3",
   "version": "3.9.13"
  }
 },
 "nbformat": 4,
 "nbformat_minor": 5
}
