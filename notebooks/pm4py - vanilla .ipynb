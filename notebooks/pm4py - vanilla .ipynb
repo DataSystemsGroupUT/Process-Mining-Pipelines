{
 "cells": [
  {
   "cell_type": "code",
   "execution_count": 1,
   "id": "b560ea79",
   "metadata": {},
   "outputs": [],
   "source": [
    "from contribution import fitness_alignment, generalization, precision_alignment"
   ]
  },
  {
   "cell_type": "code",
   "execution_count": 2,
   "id": "d5a8a552",
   "metadata": {},
   "outputs": [],
   "source": [
    "#importers\n",
    "from pm4py import convert_to_event_log, convert_to_dataframe, format_dataframe\n",
    "\n",
    "# Miners\n",
    "from pm4py import serialize, deserialize\n",
    "from pm4py import discover_dfg as dfg_discovery\n",
    "\n",
    "from pm4py.algo.discovery.alpha import algorithm as alpha_miner\n",
    "from pm4py.algo.discovery.heuristics import algorithm as heuristics_miner\n",
    "from pm4py.algo.discovery.inductive import algorithm as inductive_miner\n",
    "\n",
    "\n",
    "# Evaluators\n",
    "import pandas as pd\n",
    "import re\n",
    "import pm4py\n",
    "from pm4py.discovery import DFG\n",
    "from pm4py import discover_dfg_typed"
   ]
  },
  {
   "cell_type": "code",
   "execution_count": 75,
   "id": "2566ed1d",
   "metadata": {},
   "outputs": [
    {
     "data": {
      "text/plain": [
       "<module 'contribution.precision_alignment' from '/opt/notebooks/contribution/precision_alignment.py'>"
      ]
     },
     "execution_count": 75,
     "metadata": {},
     "output_type": "execute_result"
    }
   ],
   "source": [
    "import importlib\n",
    "importlib.reload(precision_alignment)"
   ]
  },
  {
   "cell_type": "code",
   "execution_count": 4,
   "id": "15531860",
   "metadata": {},
   "outputs": [
    {
     "name": "stderr",
     "output_type": "stream",
     "text": [
      "/tmp/ipykernel_8725/73148813.py:1: DtypeWarning: Columns (29) have mixed types. Specify dtype option on import or set low_memory=False.\n",
      "  data = pd.read_csv('BPIC15_1.csv')\n"
     ]
    }
   ],
   "source": [
    "data = pd.read_csv('BPIC15_1.csv')\n",
    "# log = pm4py.read_xes('BPIC15_1.xes')"
   ]
  },
  {
   "cell_type": "code",
   "execution_count": 5,
   "id": "a0fd1b78",
   "metadata": {},
   "outputs": [],
   "source": [
    "groups = data['case:concept:name'].unique()"
   ]
  },
  {
   "cell_type": "code",
   "execution_count": 91,
   "id": "af6686df",
   "metadata": {},
   "outputs": [],
   "source": [
    "dataframe = data[data['case:concept:name'].isin(groups[:80])][:]"
   ]
  },
  {
   "cell_type": "code",
   "execution_count": 92,
   "id": "37735590",
   "metadata": {},
   "outputs": [],
   "source": [
    "dataframe['time:timestamp'] = pd.to_datetime(dataframe['time:timestamp'], utc=True)\n",
    "dataframe['concept:name'] = dataframe['concept:name'].astype(str)\n",
    "dataframe['case:concept:name'] = dataframe['case:concept:name'].astype(str)"
   ]
  },
  {
   "cell_type": "code",
   "execution_count": 93,
   "id": "9e8386ba",
   "metadata": {},
   "outputs": [],
   "source": [
    "dfg, start_activities, end_activities = dfg_discovery(dataframe)"
   ]
  },
  {
   "cell_type": "code",
   "execution_count": 94,
   "id": "9b0b63f0",
   "metadata": {},
   "outputs": [],
   "source": [
    "theDfg = DFG(dfg, start_activities=start_activities, end_activities=end_activities)"
   ]
  },
  {
   "cell_type": "code",
   "execution_count": 95,
   "id": "a42be73c",
   "metadata": {},
   "outputs": [],
   "source": [
    "net, im, fm = pm4py.discover_petri_net_inductive(theDfg, activity_key='concept:name', case_id_key='case:concept:name', timestamp_key='time:timestamp')"
   ]
  },
  {
   "cell_type": "code",
   "execution_count": 96,
   "id": "a8bea826",
   "metadata": {},
   "outputs": [],
   "source": [
    "precision_all = precision_alignment.apply(dataframe, net, im, fm)"
   ]
  },
  {
   "cell_type": "code",
   "execution_count": 20,
   "id": "a02a1ae5",
   "metadata": {},
   "outputs": [],
   "source": [
    "totals = precision_alignment.aggregate(precision_0_40, precision_40_80)"
   ]
  },
  {
   "cell_type": "code",
   "execution_count": 90,
   "id": "f88ab403",
   "metadata": {},
   "outputs": [
    {
     "data": {
      "text/plain": [
       "dict_keys(['prefixes', 'prefix_count', 'start_activities', 'log_length'])"
      ]
     },
     "execution_count": 90,
     "metadata": {},
     "output_type": "execute_result"
    }
   ],
   "source": [
    "precision_all.keys()"
   ]
  },
  {
   "cell_type": "code",
   "execution_count": 97,
   "id": "3a4c5b36",
   "metadata": {},
   "outputs": [],
   "source": [
    "result = dask.delayed(precision_alignment.compute)(**precision_all, net=net, im=im, fm=fm)"
   ]
  },
  {
   "cell_type": "code",
   "execution_count": 98,
   "id": "9d4ed5e3",
   "metadata": {},
   "outputs": [
    {
     "name": "stdout",
     "output_type": "stream",
     "text": [
      "[########################################] | 100% Completed | 37.46 s\n",
      "peak memory: 1615.37 MiB, increment: 2.61 MiB\n"
     ]
    }
   ],
   "source": [
    "%%memit\n",
    "precision = result.compute()"
   ]
  },
  {
   "cell_type": "code",
   "execution_count": 99,
   "id": "ab92b2a2",
   "metadata": {},
   "outputs": [
    {
     "data": {
      "text/plain": [
       "0.016367968833723157"
      ]
     },
     "execution_count": 99,
     "metadata": {},
     "output_type": "execute_result"
    }
   ],
   "source": [
    "precision # Our improved parallelized way"
   ]
  },
  {
   "cell_type": "code",
   "execution_count": 100,
   "id": "8d13f063",
   "metadata": {},
   "outputs": [
    {
     "data": {
      "application/vnd.jupyter.widget-view+json": {
       "model_id": "bb38ee926280445fa5935decadd64660",
       "version_major": 2,
       "version_minor": 0
      },
      "text/plain": [
       "computing precision with alignments, completed variants ::   0%|          | 0/3219 [00:00<?, ?it/s]"
      ]
     },
     "metadata": {},
     "output_type": "display_data"
    }
   ],
   "source": [
    "precision_alignments = pm4py.precision_alignments(dataframe, net, im, fm)"
   ]
  },
  {
   "cell_type": "code",
   "execution_count": 101,
   "id": "dfaf001a",
   "metadata": {},
   "outputs": [
    {
     "data": {
      "text/plain": [
       "0.016367968833723157"
      ]
     },
     "execution_count": 101,
     "metadata": {},
     "output_type": "execute_result"
    }
   ],
   "source": [
    "precision_alignments # Pm4py result"
   ]
  },
  {
   "cell_type": "code",
   "execution_count": 25,
   "id": "95431e1a",
   "metadata": {},
   "outputs": [],
   "source": [
    "%load_ext memory_profiler"
   ]
  },
  {
   "cell_type": "code",
   "execution_count": null,
   "id": "613d1cf1",
   "metadata": {},
   "outputs": [],
   "source": []
  }
 ],
 "metadata": {
  "kernelspec": {
   "display_name": "Python 3 (ipykernel)",
   "language": "python",
   "name": "python3"
  },
  "language_info": {
   "codemirror_mode": {
    "name": "ipython",
    "version": 3
   },
   "file_extension": ".py",
   "mimetype": "text/x-python",
   "name": "python",
   "nbconvert_exporter": "python",
   "pygments_lexer": "ipython3",
   "version": "3.9.13"
  }
 },
 "nbformat": 4,
 "nbformat_minor": 5
}
