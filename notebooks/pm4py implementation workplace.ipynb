{
 "cells": [
  {
   "cell_type": "code",
   "execution_count": 1,
   "id": "e8db82a6",
   "metadata": {},
   "outputs": [],
   "source": [
    "#importers\n",
    "from pm4py import convert_to_event_log, convert_to_dataframe, format_dataframe\n",
    "\n",
    "# Miners\n",
    "from pm4py import convert_to_petri_net, serialize, deserialize\n",
    "from pm4py import discover_dfg as dfg_discovery\n",
    "\n",
    "from pm4py.algo.discovery.alpha import algorithm as alpha_miner\n",
    "from pm4py.algo.discovery.heuristics import algorithm as heuristics_miner\n",
    "from pm4py.algo.discovery.inductive import algorithm as inductive_miner\n",
    "from pm4py.algo.discovery.correlation_mining import algorithm as correlation_miner\n",
    "from pm4py.algo.discovery.temporal_profile import algorithm as temporal_profile_discovery\n",
    "\n",
    "\n",
    "# Evaluators\n",
    "from pm4py.algo.evaluation.simplicity import algorithm as simplicity_evaluator\n",
    "from pm4py.algo.evaluation.replay_fitness import algorithm as replay_fitness_evaluator\n",
    "from pm4py.algo.evaluation.precision import algorithm as precision_evaluator\n",
    "from pm4py.algo.evaluation.generalization import algorithm as generalization_evaluator\n",
    "import pandas as pd\n",
    "import re\n",
    "import pm4py"
   ]
  },
  {
   "cell_type": "code",
   "execution_count": 2,
   "id": "e42eaa69",
   "metadata": {},
   "outputs": [],
   "source": [
    "def getMinerResult(dfg, miner, threshold = 0.5):\n",
    "    result = {}\n",
    "    if miner == 'heuristic_miner':\n",
    "        net, im, fm = heuristics_miner.apply_dfg(dfg, parameters={heuristics_miner.Variants.CLASSIC.value.Parameters.DEPENDENCY_THRESH: threshold})\n",
    "    elif miner == 'inductive_miner':\n",
    "        net, im, fm = inductive_miner.apply_dfg(dfg)\n",
    "    elif miner == 'alpha_miner':\n",
    "        net, im, fm = alpha_miner.apply_dfg(dfg)\n",
    "    \n",
    "    result[miner] = serialize(net, im, fm)\n",
    "    return result\n",
    "\n",
    "def getMetrics(metric, log, petrinet, im, fm):\n",
    "    result = {}\n",
    "    if metric == 'fitness':\n",
    "        result[metric] = replay_fitness_evaluator.apply(log, petrinet, im, fm, variant=replay_fitness_evaluator.TOKEN_BASED)\n",
    "    elif metric == 'simplicity':\n",
    "        result[metric] = simplicity_evaluator.apply(petrinet)\n",
    "    elif metric == 'precision':\n",
    "        result[metric] = precision_evaluator.apply(log, petrinet, im, fm, variant=precision_evaluator.Variants.ETCONFORMANCE_TOKEN)\n",
    "    elif metric == 'generalization':\n",
    "        result[metric] = generalization_evaluator.apply(log, petrinet, im, fm)\n",
    "    \n",
    "    return result"
   ]
  },
  {
   "cell_type": "code",
   "execution_count": 3,
   "id": "0be4c86c",
   "metadata": {},
   "outputs": [],
   "source": [
    "def setMiners(dfg):\n",
    "    outputs = []\n",
    "    miners = [\n",
    "        'heuristic_miner', \n",
    "        'inductive_miner',\n",
    "        'alpha_miner'\n",
    "    ]\n",
    "    for miner in miners:\n",
    "        task = getMinerResult(dfg, miner)\n",
    "        outputs.append(task)\n",
    "    \n",
    "    return outputs\n",
    "\n",
    "def setMetrics(dfg, petrinet, im, fm):\n",
    "    outputs = []\n",
    "    metrics = [\n",
    "        'fitness', \n",
    "        'simplicity', \n",
    "        'precision', \n",
    "        'generalization'\n",
    "    ]\n",
    "    \n",
    "    for metric in metrics:\n",
    "        task = getMetrics(metric, dfg, petrinet, im, fm)\n",
    "        outputs.append(task)\n",
    "    \n",
    "    return outputs"
   ]
  },
  {
   "cell_type": "code",
   "execution_count": 4,
   "id": "4362302b",
   "metadata": {},
   "outputs": [
    {
     "name": "stderr",
     "output_type": "stream",
     "text": [
      "/tmp/ipykernel_119/395401240.py:1: DtypeWarning: Columns (29) have mixed types. Specify dtype option on import or set low_memory=False.\n",
      "  df = pd.read_csv('BPIC15_1.csv')\n"
     ]
    }
   ],
   "source": [
    "df = pd.read_csv('BPIC15_1.csv')"
   ]
  },
  {
   "cell_type": "code",
   "execution_count": 5,
   "id": "ddf14e95",
   "metadata": {},
   "outputs": [],
   "source": [
    "dfg, start_activities, end_activities = dfg_discovery(df)"
   ]
  },
  {
   "cell_type": "code",
   "execution_count": 6,
   "id": "b566687e",
   "metadata": {},
   "outputs": [
    {
     "name": "stdout",
     "output_type": "stream",
     "text": [
      "CPU times: user 1.3 s, sys: 64.8 ms, total: 1.36 s\n",
      "Wall time: 1.36 s\n"
     ]
    }
   ],
   "source": [
    "%%time\n",
    "heuristicMiner = getMinerResult(dfg, 'inductive_miner')"
   ]
  },
  {
   "cell_type": "code",
   "execution_count": 11,
   "id": "2b712ab7",
   "metadata": {},
   "outputs": [
    {
     "name": "stdout",
     "output_type": "stream",
     "text": [
      "peak memory: 384.65 MiB, increment: 0.00 MiB\n"
     ]
    }
   ],
   "source": [
    "net, im, fm = deserialize(heuristicMiner['inductive_miner'])"
   ]
  },
  {
   "cell_type": "code",
   "execution_count": 8,
   "id": "02634145",
   "metadata": {},
   "outputs": [],
   "source": [
    "%load_ext memory_profiler"
   ]
  },
  {
   "cell_type": "code",
   "execution_count": 9,
   "id": "07638672",
   "metadata": {},
   "outputs": [
    {
     "data": {
      "application/vnd.jupyter.widget-view+json": {
       "model_id": "b06f2129f4144b7db567a7fe61bf6956",
       "version_major": 2,
       "version_minor": 0
      },
      "text/plain": [
       "replaying log with TBR, completed variants ::   0%|          | 0/38934 [00:00<?, ?it/s]"
      ]
     },
     "metadata": {},
     "output_type": "display_data"
    },
    {
     "name": "stdout",
     "output_type": "stream",
     "text": [
      "peak memory: 1590.88 MiB, increment: 1301.13 MiB\n"
     ]
    }
   ],
   "source": [
    "%memit fitnessMetric = getMetrics('precision', df, net, im, fm)"
   ]
  },
  {
   "cell_type": "code",
   "execution_count": 16,
   "id": "ca0d359b",
   "metadata": {},
   "outputs": [
    {
     "name": "stdout",
     "output_type": "stream",
     "text": [
      "peak memory: 384.82 MiB, increment: 0.00 MiB\n"
     ]
    }
   ],
   "source": [
    "%memit"
   ]
  },
  {
   "cell_type": "code",
   "execution_count": null,
   "id": "02ff85ef",
   "metadata": {},
   "outputs": [],
   "source": []
  }
 ],
 "metadata": {
  "kernelspec": {
   "display_name": "Python 3 (ipykernel)",
   "language": "python",
   "name": "python3"
  },
  "language_info": {
   "codemirror_mode": {
    "name": "ipython",
    "version": 3
   },
   "file_extension": ".py",
   "mimetype": "text/x-python",
   "name": "python",
   "nbconvert_exporter": "python",
   "pygments_lexer": "ipython3",
   "version": "3.9.13"
  }
 },
 "nbformat": 4,
 "nbformat_minor": 5
}
