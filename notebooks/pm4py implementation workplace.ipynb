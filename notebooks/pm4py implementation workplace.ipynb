{
 "cells": [
  {
   "cell_type": "code",
   "execution_count": 9,
   "id": "e8db82a6",
   "metadata": {},
   "outputs": [],
   "source": [
    "from pm4py import discover_dfg_typed as dfg_discovery, serialize, deserialize\n",
    "from pm4py.algo.discovery.alpha import algorithm as alpha_miner\n",
    "from pm4py.algo.discovery.heuristics import algorithm as heuristics_miner\n",
    "from pm4py.algo.discovery.inductive import algorithm as inductive_miner\n",
    "from pm4py.algo.evaluation.simplicity import algorithm as simplicity_evaluator\n",
    "from pm4py.algo.evaluation.replay_fitness import algorithm as replay_fitness_evaluator\n",
    "from pm4py.algo.evaluation.precision import algorithm as precision_evaluator\n",
    "from pm4py.algo.evaluation.generalization import algorithm as generalization_evaluator\n",
    "import pandas as pd\n",
    "import re"
   ]
  },
  {
   "cell_type": "code",
   "execution_count": 10,
   "id": "4362302b",
   "metadata": {},
   "outputs": [
    {
     "name": "stderr",
     "output_type": "stream",
     "text": [
      "/tmp/ipykernel_145/395401240.py:1: DtypeWarning: Columns (29) have mixed types. Specify dtype option on import or set low_memory=False.\n",
      "  df = pd.read_csv('BPIC15_1.csv')\n"
     ]
    }
   ],
   "source": [
    "df = pd.read_csv('BPIC15_1.csv')"
   ]
  },
  {
   "cell_type": "code",
   "execution_count": 11,
   "id": "261c8cea",
   "metadata": {},
   "outputs": [
    {
     "name": "stderr",
     "output_type": "stream",
     "text": [
      "/tmp/ipykernel_145/3825634027.py:1: DeprecatedWarning: format_dataframe is deprecated as of 2.3.0 and will be removed in 3.0.0. the format_dataframe function does not need application anymore.\n",
      "  dataframe = pm4py.format_dataframe(df)\n"
     ]
    }
   ],
   "source": [
    "dataframe = pm4py.format_dataframe(df)"
   ]
  },
  {
   "cell_type": "code",
   "execution_count": 12,
   "id": "12b8b651",
   "metadata": {},
   "outputs": [
    {
     "name": "stderr",
     "output_type": "stream",
     "text": [
      "/opt/conda/lib/python3.9/site-packages/pm4py/utils.py:486: UserWarning: the EventLog class has been deprecated and will be removed in a future release.\n",
      "  warnings.warn(\"the EventLog class has been deprecated and will be removed in a future release.\")\n"
     ]
    }
   ],
   "source": [
    "log = pm4py.convert_to_event_log(dataframe)"
   ]
  },
  {
   "cell_type": "code",
   "execution_count": 15,
   "id": "4bf2f066",
   "metadata": {},
   "outputs": [],
   "source": [
    "net, im, fm = heuristics_miner.apply(dataframe)"
   ]
  },
  {
   "cell_type": "code",
   "execution_count": 23,
   "id": "04a3cf73",
   "metadata": {},
   "outputs": [
    {
     "data": {
      "application/vnd.jupyter.widget-view+json": {
       "model_id": "009dddc765fa49b490b61eae974895dc",
       "version_major": 2,
       "version_minor": 0
      },
      "text/plain": [
       "aligning log, completed variants ::   0%|          | 0/1170 [00:00<?, ?it/s]"
      ]
     },
     "metadata": {},
     "output_type": "display_data"
    },
    {
     "ename": "KeyboardInterrupt",
     "evalue": "",
     "output_type": "error",
     "traceback": [
      "\u001b[0;31m---------------------------------------------------------------------------\u001b[0m",
      "\u001b[0;31mKeyboardInterrupt\u001b[0m                         Traceback (most recent call last)",
      "\u001b[0;32m/tmp/ipykernel_145/2124973.py\u001b[0m in \u001b[0;36m<module>\u001b[0;34m\u001b[0m\n\u001b[0;32m----> 1\u001b[0;31m \u001b[0mreplay_fitness_evaluator\u001b[0m\u001b[0;34m.\u001b[0m\u001b[0mapply\u001b[0m\u001b[0;34m(\u001b[0m\u001b[0mdf\u001b[0m\u001b[0;34m,\u001b[0m \u001b[0mnet\u001b[0m\u001b[0;34m,\u001b[0m \u001b[0mim\u001b[0m\u001b[0;34m,\u001b[0m \u001b[0mfm\u001b[0m\u001b[0;34m)\u001b[0m\u001b[0;34m\u001b[0m\u001b[0;34m\u001b[0m\u001b[0m\n\u001b[0m",
      "\u001b[0;32m/opt/conda/lib/python3.9/site-packages/pm4py/algo/evaluation/replay_fitness/algorithm.py\u001b[0m in \u001b[0;36mapply\u001b[0;34m(log, petri_net, initial_marking, final_marking, parameters, variant)\u001b[0m\n\u001b[1;32m     92\u001b[0m         align_variant = exec_utils.get_param_value(Parameters.ALIGN_VARIANT, parameters,\n\u001b[1;32m     93\u001b[0m                                                    alignments.petri_net.algorithm.DEFAULT_VARIANT)\n\u001b[0;32m---> 94\u001b[0;31m         return exec_utils.get_variant(variant).apply(log,\n\u001b[0m\u001b[1;32m     95\u001b[0m                                                      \u001b[0mpetri_net\u001b[0m\u001b[0;34m,\u001b[0m\u001b[0;34m\u001b[0m\u001b[0;34m\u001b[0m\u001b[0m\n\u001b[1;32m     96\u001b[0m                                                      \u001b[0minitial_marking\u001b[0m\u001b[0;34m,\u001b[0m \u001b[0mfinal_marking\u001b[0m\u001b[0;34m,\u001b[0m \u001b[0malign_variant\u001b[0m\u001b[0;34m=\u001b[0m\u001b[0malign_variant\u001b[0m\u001b[0;34m,\u001b[0m\u001b[0;34m\u001b[0m\u001b[0;34m\u001b[0m\u001b[0m\n",
      "\u001b[0;32m/opt/conda/lib/python3.9/site-packages/pm4py/algo/evaluation/replay_fitness/variants/alignment_based.py\u001b[0m in \u001b[0;36mapply\u001b[0;34m(log, petri_net, initial_marking, final_marking, align_variant, parameters)\u001b[0m\n\u001b[1;32m    122\u001b[0m                                                 parameters=parameters)\n\u001b[1;32m    123\u001b[0m         \u001b[0;32melse\u001b[0m\u001b[0;34m:\u001b[0m\u001b[0;34m\u001b[0m\u001b[0;34m\u001b[0m\u001b[0m\n\u001b[0;32m--> 124\u001b[0;31m             alignment_result = alignments.apply(log, petri_net, initial_marking, final_marking, variant=align_variant,\n\u001b[0m\u001b[1;32m    125\u001b[0m                                                 parameters=parameters)\n\u001b[1;32m    126\u001b[0m     \u001b[0;32mreturn\u001b[0m \u001b[0mevaluate\u001b[0m\u001b[0;34m(\u001b[0m\u001b[0malignment_result\u001b[0m\u001b[0;34m)\u001b[0m\u001b[0;34m\u001b[0m\u001b[0;34m\u001b[0m\u001b[0m\n",
      "\u001b[0;32m/opt/conda/lib/python3.9/site-packages/pm4py/algo/conformance/alignments/petri_net/algorithm.py\u001b[0m in \u001b[0;36mapply\u001b[0;34m(obj, petri_net, initial_marking, final_marking, parameters, variant)\u001b[0m\n\u001b[1;32m     85\u001b[0m         \u001b[0;32mreturn\u001b[0m \u001b[0mapply_trace\u001b[0m\u001b[0;34m(\u001b[0m\u001b[0mobj\u001b[0m\u001b[0;34m,\u001b[0m \u001b[0mpetri_net\u001b[0m\u001b[0;34m,\u001b[0m \u001b[0minitial_marking\u001b[0m\u001b[0;34m,\u001b[0m \u001b[0mfinal_marking\u001b[0m\u001b[0;34m,\u001b[0m \u001b[0mparameters\u001b[0m\u001b[0;34m=\u001b[0m\u001b[0mparameters\u001b[0m\u001b[0;34m,\u001b[0m \u001b[0mvariant\u001b[0m\u001b[0;34m=\u001b[0m\u001b[0mvariant\u001b[0m\u001b[0;34m)\u001b[0m\u001b[0;34m\u001b[0m\u001b[0;34m\u001b[0m\u001b[0m\n\u001b[1;32m     86\u001b[0m     \u001b[0;32melse\u001b[0m\u001b[0;34m:\u001b[0m\u001b[0;34m\u001b[0m\u001b[0;34m\u001b[0m\u001b[0m\n\u001b[0;32m---> 87\u001b[0;31m         return apply_log(obj, petri_net, initial_marking,\n\u001b[0m\u001b[1;32m     88\u001b[0m                          final_marking, parameters=parameters, variant=variant)\n\u001b[1;32m     89\u001b[0m \u001b[0;34m\u001b[0m\u001b[0m\n",
      "\u001b[0;32m/opt/conda/lib/python3.9/site-packages/pm4py/algo/conformance/alignments/petri_net/algorithm.py\u001b[0m in \u001b[0;36mapply_log\u001b[0;34m(log, petri_net, initial_marking, final_marking, parameters, variant)\u001b[0m\n\u001b[1;32m    214\u001b[0m         \u001b[0mthis_max_align_time\u001b[0m \u001b[0;34m=\u001b[0m \u001b[0mmin\u001b[0m\u001b[0;34m(\u001b[0m\u001b[0mmax_align_time_case\u001b[0m\u001b[0;34m,\u001b[0m \u001b[0;34m(\u001b[0m\u001b[0mmax_align_time\u001b[0m \u001b[0;34m-\u001b[0m \u001b[0;34m(\u001b[0m\u001b[0mtime\u001b[0m\u001b[0;34m.\u001b[0m\u001b[0mtime\u001b[0m\u001b[0;34m(\u001b[0m\u001b[0;34m)\u001b[0m \u001b[0;34m-\u001b[0m \u001b[0mstart_time\u001b[0m\u001b[0;34m)\u001b[0m\u001b[0;34m)\u001b[0m \u001b[0;34m*\u001b[0m \u001b[0;36m0.5\u001b[0m\u001b[0;34m)\u001b[0m\u001b[0;34m\u001b[0m\u001b[0;34m\u001b[0m\u001b[0m\n\u001b[1;32m    215\u001b[0m         \u001b[0mparameters\u001b[0m\u001b[0;34m[\u001b[0m\u001b[0mParameters\u001b[0m\u001b[0;34m.\u001b[0m\u001b[0mPARAM_MAX_ALIGN_TIME_TRACE\u001b[0m\u001b[0;34m]\u001b[0m \u001b[0;34m=\u001b[0m \u001b[0mthis_max_align_time\u001b[0m\u001b[0;34m\u001b[0m\u001b[0;34m\u001b[0m\u001b[0m\n\u001b[0;32m--> 216\u001b[0;31m         all_alignments.append(apply_trace(trace, petri_net, initial_marking, final_marking, parameters=copy(parameters),\n\u001b[0m\u001b[1;32m    217\u001b[0m                                           variant=variant))\n\u001b[1;32m    218\u001b[0m         \u001b[0;32mif\u001b[0m \u001b[0mprogress\u001b[0m \u001b[0;32mis\u001b[0m \u001b[0;32mnot\u001b[0m \u001b[0;32mNone\u001b[0m\u001b[0;34m:\u001b[0m\u001b[0;34m\u001b[0m\u001b[0;34m\u001b[0m\u001b[0m\n",
      "\u001b[0;32m/opt/conda/lib/python3.9/site-packages/pm4py/algo/conformance/alignments/petri_net/algorithm.py\u001b[0m in \u001b[0;36mapply_trace\u001b[0;34m(trace, petri_net, initial_marking, final_marking, parameters, variant)\u001b[0m\n\u001b[1;32m    129\u001b[0m                                                  __get_best_worst_cost(petri_net, initial_marking, final_marking, variant, parameters))\n\u001b[1;32m    130\u001b[0m \u001b[0;34m\u001b[0m\u001b[0m\n\u001b[0;32m--> 131\u001b[0;31m     ali = exec_utils.get_variant(variant).apply(trace, petri_net, initial_marking, final_marking,\n\u001b[0m\u001b[1;32m    132\u001b[0m                                                  parameters=parameters)\n\u001b[1;32m    133\u001b[0m \u001b[0;34m\u001b[0m\u001b[0m\n",
      "\u001b[0;32m/opt/conda/lib/python3.9/site-packages/pm4py/algo/conformance/alignments/petri_net/variants/state_equation_a_star.py\u001b[0m in \u001b[0;36mapply\u001b[0;34m(trace, petri_net, initial_marking, final_marking, parameters)\u001b[0m\n\u001b[1;32m    167\u001b[0m                                                                                      activity_key=activity_key)\n\u001b[1;32m    168\u001b[0m \u001b[0;34m\u001b[0m\u001b[0m\n\u001b[0;32m--> 169\u001b[0;31m     \u001b[0malignment\u001b[0m \u001b[0;34m=\u001b[0m \u001b[0mapply_trace_net\u001b[0m\u001b[0;34m(\u001b[0m\u001b[0mpetri_net\u001b[0m\u001b[0;34m,\u001b[0m \u001b[0minitial_marking\u001b[0m\u001b[0;34m,\u001b[0m \u001b[0mfinal_marking\u001b[0m\u001b[0;34m,\u001b[0m \u001b[0mtrace_net\u001b[0m\u001b[0;34m,\u001b[0m \u001b[0mtrace_im\u001b[0m\u001b[0;34m,\u001b[0m \u001b[0mtrace_fm\u001b[0m\u001b[0;34m,\u001b[0m \u001b[0mparameters\u001b[0m\u001b[0;34m)\u001b[0m\u001b[0;34m\u001b[0m\u001b[0;34m\u001b[0m\u001b[0m\n\u001b[0m\u001b[1;32m    170\u001b[0m \u001b[0;34m\u001b[0m\u001b[0m\n\u001b[1;32m    171\u001b[0m     \u001b[0;32mreturn\u001b[0m \u001b[0malignment\u001b[0m\u001b[0;34m\u001b[0m\u001b[0;34m\u001b[0m\u001b[0m\n",
      "\u001b[0;32m/opt/conda/lib/python3.9/site-packages/pm4py/algo/conformance/alignments/petri_net/variants/state_equation_a_star.py\u001b[0m in \u001b[0;36mapply_trace_net\u001b[0;34m(petri_net, initial_marking, final_marking, trace_net, trace_im, trace_fm, parameters)\u001b[0m\n\u001b[1;32m    378\u001b[0m                                                       sys.maxsize)\n\u001b[1;32m    379\u001b[0m \u001b[0;34m\u001b[0m\u001b[0m\n\u001b[0;32m--> 380\u001b[0;31m     alignment = apply_sync_prod(sync_prod, sync_initial_marking, sync_final_marking, cost_function,\n\u001b[0m\u001b[1;32m    381\u001b[0m                            \u001b[0mutils\u001b[0m\u001b[0;34m.\u001b[0m\u001b[0mSKIP\u001b[0m\u001b[0;34m,\u001b[0m \u001b[0mret_tuple_as_trans_desc\u001b[0m\u001b[0;34m=\u001b[0m\u001b[0mret_tuple_as_trans_desc\u001b[0m\u001b[0;34m,\u001b[0m\u001b[0;34m\u001b[0m\u001b[0;34m\u001b[0m\u001b[0m\n\u001b[1;32m    382\u001b[0m                            max_align_time_trace=max_align_time_trace)\n",
      "\u001b[0;32m/opt/conda/lib/python3.9/site-packages/pm4py/algo/conformance/alignments/petri_net/variants/state_equation_a_star.py\u001b[0m in \u001b[0;36mapply_sync_prod\u001b[0;34m(sync_prod, initial_marking, final_marking, cost_function, skip, ret_tuple_as_trans_desc, max_align_time_trace)\u001b[0m\n\u001b[1;32m    408\u001b[0m     \u001b[0;32mand\u001b[0m \u001b[0;34m**\u001b[0m\u001b[0mtraversed_arcs\u001b[0m\u001b[0;34m**\u001b[0m\u001b[0;34m\u001b[0m\u001b[0;34m\u001b[0m\u001b[0m\n\u001b[1;32m    409\u001b[0m     \"\"\"\n\u001b[0;32m--> 410\u001b[0;31m     return __search(sync_prod, initial_marking, final_marking, cost_function, skip,\n\u001b[0m\u001b[1;32m    411\u001b[0m                     ret_tuple_as_trans_desc=ret_tuple_as_trans_desc, max_align_time_trace=max_align_time_trace)\n\u001b[1;32m    412\u001b[0m \u001b[0;34m\u001b[0m\u001b[0m\n",
      "\u001b[0;32m/opt/conda/lib/python3.9/site-packages/pm4py/algo/conformance/alignments/petri_net/variants/state_equation_a_star.py\u001b[0m in \u001b[0;36m__search\u001b[0;34m(sync_net, ini, fin, cost_function, skip, ret_tuple_as_trans_desc, max_align_time_trace)\u001b[0m\n\u001b[1;32m    474\u001b[0m                 \u001b[0;32mcontinue\u001b[0m\u001b[0;34m\u001b[0m\u001b[0;34m\u001b[0m\u001b[0m\n\u001b[1;32m    475\u001b[0m \u001b[0;34m\u001b[0m\u001b[0m\n\u001b[0;32m--> 476\u001b[0;31m             h, x = utils.__compute_exact_heuristic_new_version(sync_net, a_matrix, h_cvx, g_matrix, cost_vec,\n\u001b[0m\u001b[1;32m    477\u001b[0m                                                                \u001b[0mincidence_matrix\u001b[0m\u001b[0;34m,\u001b[0m \u001b[0mcurr\u001b[0m\u001b[0;34m.\u001b[0m\u001b[0mm\u001b[0m\u001b[0;34m,\u001b[0m\u001b[0;34m\u001b[0m\u001b[0;34m\u001b[0m\u001b[0m\n\u001b[1;32m    478\u001b[0m                                                                \u001b[0mfin_vec\u001b[0m\u001b[0;34m,\u001b[0m \u001b[0mlp_solver\u001b[0m\u001b[0;34m.\u001b[0m\u001b[0mDEFAULT_LP_SOLVER_VARIANT\u001b[0m\u001b[0;34m,\u001b[0m\u001b[0;34m\u001b[0m\u001b[0;34m\u001b[0m\u001b[0m\n",
      "\u001b[0;32m/opt/conda/lib/python3.9/site-packages/pm4py/objects/petri_net/utils/align_utils.py\u001b[0m in \u001b[0;36m__compute_exact_heuristic_new_version\u001b[0;34m(sync_net, a_matrix, h_cvx, g_matrix, cost_vec, incidence_matrix, marking, fin_vec, variant, use_cvxopt, strict)\u001b[0m\n\u001b[1;32m    265\u001b[0m     \u001b[0mparameters_solving\u001b[0m \u001b[0;34m=\u001b[0m \u001b[0;34m{\u001b[0m\u001b[0;34m\"solver\"\u001b[0m\u001b[0;34m:\u001b[0m \u001b[0;34m\"glpk\"\u001b[0m\u001b[0;34m}\u001b[0m\u001b[0;34m\u001b[0m\u001b[0;34m\u001b[0m\u001b[0m\n\u001b[1;32m    266\u001b[0m \u001b[0;34m\u001b[0m\u001b[0m\n\u001b[0;32m--> 267\u001b[0;31m     sol = lp_solver.apply(cost_vec, g_matrix, h_cvx, a_matrix, b_term, parameters=parameters_solving,\n\u001b[0m\u001b[1;32m    268\u001b[0m                           variant=variant)\n\u001b[1;32m    269\u001b[0m     \u001b[0mprim_obj\u001b[0m \u001b[0;34m=\u001b[0m \u001b[0mlp_solver\u001b[0m\u001b[0;34m.\u001b[0m\u001b[0mget_prim_obj_from_sol\u001b[0m\u001b[0;34m(\u001b[0m\u001b[0msol\u001b[0m\u001b[0;34m,\u001b[0m \u001b[0mvariant\u001b[0m\u001b[0;34m=\u001b[0m\u001b[0mvariant\u001b[0m\u001b[0;34m)\u001b[0m\u001b[0;34m\u001b[0m\u001b[0;34m\u001b[0m\u001b[0m\n",
      "\u001b[0;32m/opt/conda/lib/python3.9/site-packages/pm4py/util/lp/solver.py\u001b[0m in \u001b[0;36mapply\u001b[0;34m(c, Aub, bub, Aeq, beq, parameters, variant)\u001b[0m\n\u001b[1;32m    113\u001b[0m         \u001b[0mSolution\u001b[0m \u001b[0mof\u001b[0m \u001b[0mthe\u001b[0m \u001b[0mLP\u001b[0m \u001b[0mproblem\u001b[0m \u001b[0mby\u001b[0m \u001b[0mthe\u001b[0m \u001b[0mgiven\u001b[0m \u001b[0malgorithm\u001b[0m\u001b[0;34m\u001b[0m\u001b[0;34m\u001b[0m\u001b[0m\n\u001b[1;32m    114\u001b[0m     \"\"\"\n\u001b[0;32m--> 115\u001b[0;31m     \u001b[0;32mreturn\u001b[0m \u001b[0mVERSIONS_APPLY\u001b[0m\u001b[0;34m[\u001b[0m\u001b[0mvariant\u001b[0m\u001b[0;34m]\u001b[0m\u001b[0;34m(\u001b[0m\u001b[0mc\u001b[0m\u001b[0;34m,\u001b[0m \u001b[0mAub\u001b[0m\u001b[0;34m,\u001b[0m \u001b[0mbub\u001b[0m\u001b[0;34m,\u001b[0m \u001b[0mAeq\u001b[0m\u001b[0;34m,\u001b[0m \u001b[0mbeq\u001b[0m\u001b[0;34m,\u001b[0m \u001b[0mparameters\u001b[0m\u001b[0;34m=\u001b[0m\u001b[0mparameters\u001b[0m\u001b[0;34m)\u001b[0m\u001b[0;34m\u001b[0m\u001b[0;34m\u001b[0m\u001b[0m\n\u001b[0m\u001b[1;32m    116\u001b[0m \u001b[0;34m\u001b[0m\u001b[0m\n\u001b[1;32m    117\u001b[0m \u001b[0;34m\u001b[0m\u001b[0m\n",
      "\u001b[0;32m/opt/conda/lib/python3.9/site-packages/pm4py/util/lp/variants/cvxopt_solver_custom_align.py\u001b[0m in \u001b[0;36mapply\u001b[0;34m(c, Aub, bub, Aeq, beq, parameters)\u001b[0m\n\u001b[1;32m     67\u001b[0m         \u001b[0mSolution\u001b[0m \u001b[0mof\u001b[0m \u001b[0mthe\u001b[0m \u001b[0mLP\u001b[0m \u001b[0mproblem\u001b[0m \u001b[0mby\u001b[0m \u001b[0mthe\u001b[0m \u001b[0mgiven\u001b[0m \u001b[0malgorithm\u001b[0m\u001b[0;34m\u001b[0m\u001b[0;34m\u001b[0m\u001b[0m\n\u001b[1;32m     68\u001b[0m     \"\"\"\n\u001b[0;32m---> 69\u001b[0;31m     \u001b[0msol\u001b[0m \u001b[0;34m=\u001b[0m \u001b[0mcustom_solve_lp\u001b[0m\u001b[0;34m(\u001b[0m\u001b[0mc\u001b[0m\u001b[0;34m,\u001b[0m \u001b[0mAub\u001b[0m\u001b[0;34m,\u001b[0m \u001b[0mbub\u001b[0m\u001b[0;34m,\u001b[0m \u001b[0mAeq\u001b[0m\u001b[0;34m,\u001b[0m \u001b[0mbeq\u001b[0m\u001b[0;34m)\u001b[0m\u001b[0;34m\u001b[0m\u001b[0;34m\u001b[0m\u001b[0m\n\u001b[0m\u001b[1;32m     70\u001b[0m \u001b[0;34m\u001b[0m\u001b[0m\n\u001b[1;32m     71\u001b[0m     \u001b[0;32mreturn\u001b[0m \u001b[0msol\u001b[0m\u001b[0;34m\u001b[0m\u001b[0;34m\u001b[0m\u001b[0m\n",
      "\u001b[0;32m/opt/conda/lib/python3.9/site-packages/pm4py/util/lp/variants/cvxopt_solver_custom_align.py\u001b[0m in \u001b[0;36mcustom_solve_lp\u001b[0;34m(c, G, h, A, b)\u001b[0m\n\u001b[1;32m     33\u001b[0m \u001b[0;34m\u001b[0m\u001b[0m\n\u001b[1;32m     34\u001b[0m \u001b[0;32mdef\u001b[0m \u001b[0mcustom_solve_lp\u001b[0m\u001b[0;34m(\u001b[0m\u001b[0mc\u001b[0m\u001b[0;34m,\u001b[0m \u001b[0mG\u001b[0m\u001b[0;34m,\u001b[0m \u001b[0mh\u001b[0m\u001b[0;34m,\u001b[0m \u001b[0mA\u001b[0m\u001b[0;34m,\u001b[0m \u001b[0mb\u001b[0m\u001b[0;34m)\u001b[0m\u001b[0;34m:\u001b[0m\u001b[0;34m\u001b[0m\u001b[0;34m\u001b[0m\u001b[0m\n\u001b[0;32m---> 35\u001b[0;31m     \u001b[0mstatus\u001b[0m\u001b[0;34m,\u001b[0m \u001b[0mx\u001b[0m\u001b[0;34m,\u001b[0m \u001b[0mz\u001b[0m\u001b[0;34m,\u001b[0m \u001b[0my\u001b[0m \u001b[0;34m=\u001b[0m \u001b[0mglpk\u001b[0m\u001b[0;34m.\u001b[0m\u001b[0mlp\u001b[0m\u001b[0;34m(\u001b[0m\u001b[0mc\u001b[0m\u001b[0;34m,\u001b[0m \u001b[0mG\u001b[0m\u001b[0;34m,\u001b[0m \u001b[0mh\u001b[0m\u001b[0;34m,\u001b[0m \u001b[0mA\u001b[0m\u001b[0;34m,\u001b[0m \u001b[0mb\u001b[0m\u001b[0;34m,\u001b[0m \u001b[0moptions\u001b[0m\u001b[0;34m=\u001b[0m\u001b[0mthis_options\u001b[0m\u001b[0;34m)\u001b[0m\u001b[0;34m\u001b[0m\u001b[0;34m\u001b[0m\u001b[0m\n\u001b[0m\u001b[1;32m     36\u001b[0m \u001b[0;34m\u001b[0m\u001b[0m\n\u001b[1;32m     37\u001b[0m     \u001b[0;32mif\u001b[0m \u001b[0mstatus\u001b[0m \u001b[0;34m==\u001b[0m \u001b[0;34m'optimal'\u001b[0m\u001b[0;34m:\u001b[0m\u001b[0;34m\u001b[0m\u001b[0;34m\u001b[0m\u001b[0m\n",
      "\u001b[0;31mKeyboardInterrupt\u001b[0m: "
     ]
    }
   ],
   "source": [
    "replay_fitness_evaluator.apply(df, net, im, fm)"
   ]
  }
 ],
 "metadata": {
  "kernelspec": {
   "display_name": "Python 3 (ipykernel)",
   "language": "python",
   "name": "python3"
  },
  "language_info": {
   "codemirror_mode": {
    "name": "ipython",
    "version": 3
   },
   "file_extension": ".py",
   "mimetype": "text/x-python",
   "name": "python",
   "nbconvert_exporter": "python",
   "pygments_lexer": "ipython3",
   "version": "3.9.13"
  }
 },
 "nbformat": 4,
 "nbformat_minor": 5
}
