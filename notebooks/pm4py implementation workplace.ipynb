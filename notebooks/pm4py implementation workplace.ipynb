{
 "cells": [
  {
   "cell_type": "code",
   "execution_count": 6,
   "id": "e8db82a6",
   "metadata": {},
   "outputs": [],
   "source": [
    "import pm4py\n",
    "import pandas as pd\n",
    "import re"
   ]
  },
  {
   "cell_type": "code",
   "execution_count": 35,
   "id": "4362302b",
   "metadata": {},
   "outputs": [
    {
     "name": "stderr",
     "output_type": "stream",
     "text": [
      "/tmp/ipykernel_176/395401240.py:1: DtypeWarning: Columns (29) have mixed types. Specify dtype option on import or set low_memory=False.\n",
      "  df = pd.read_csv('BPIC15_1.csv')\n"
     ]
    }
   ],
   "source": [
    "df = pd.read_csv('BPIC15_1.csv')"
   ]
  },
  {
   "cell_type": "code",
   "execution_count": 39,
   "id": "261c8cea",
   "metadata": {},
   "outputs": [
    {
     "name": "stderr",
     "output_type": "stream",
     "text": [
      "/tmp/ipykernel_176/1384693449.py:1: DeprecatedWarning: format_dataframe is deprecated as of 2.3.0 and will be removed in 3.0.0. the format_dataframe function does not need application anymore.\n",
      "  dataframe = pm4py.format_dataframe(dataframe)\n"
     ]
    }
   ],
   "source": [
    "dataframe = pm4py.format_dataframe(dataframe)"
   ]
  },
  {
   "cell_type": "code",
   "execution_count": 41,
   "id": "12b8b651",
   "metadata": {},
   "outputs": [
    {
     "name": "stderr",
     "output_type": "stream",
     "text": [
      "/opt/conda/lib/python3.9/site-packages/pm4py/utils.py:486: UserWarning: the EventLog class has been deprecated and will be removed in a future release.\n",
      "  warnings.warn(\"the EventLog class has been deprecated and will be removed in a future release.\")\n"
     ]
    }
   ],
   "source": [
    "log = pm4py.convert_to_event_log(dataframe)"
   ]
  },
  {
   "cell_type": "code",
   "execution_count": null,
   "id": "4bf2f066",
   "metadata": {},
   "outputs": [],
   "source": [
    "net, im, fm = pm4py.discover_petri_net_inductive(dataframe)"
   ]
  },
  {
   "cell_type": "code",
   "execution_count": null,
   "id": "04a3cf73",
   "metadata": {},
   "outputs": [],
   "source": []
  }
 ],
 "metadata": {
  "kernelspec": {
   "display_name": "Python 3 (ipykernel)",
   "language": "python",
   "name": "python3"
  },
  "language_info": {
   "codemirror_mode": {
    "name": "ipython",
    "version": 3
   },
   "file_extension": ".py",
   "mimetype": "text/x-python",
   "name": "python",
   "nbconvert_exporter": "python",
   "pygments_lexer": "ipython3",
   "version": "3.9.13"
  }
 },
 "nbformat": 4,
 "nbformat_minor": 5
}
