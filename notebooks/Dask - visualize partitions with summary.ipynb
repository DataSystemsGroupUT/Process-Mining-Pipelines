{
 "cells": [
  {
   "cell_type": "code",
   "execution_count": 100,
   "id": "12ae5cf9",
   "metadata": {},
   "outputs": [],
   "source": [
    "import dask.dataframe as dd\n",
    "import dask\n",
    "import re"
   ]
  },
  {
   "cell_type": "code",
   "execution_count": 101,
   "id": "abdef2b0",
   "metadata": {},
   "outputs": [],
   "source": [
    "columnTypes = {\n",
    "    'case:IDofConceptCase': 'string',\n",
    "    'case:Includes_subCases': 'string',\n",
    "    'case:Responsible_actor': 'string',\n",
    "    'case:caseProcedure': 'string',\n",
    "    'case:concept:name': 'int64',\n",
    "    'dueDate': 'object',\n",
    "    'case:termName': 'string',\n",
    "    'dateStop': 'object',\n",
    "    'case:endDate': 'object',\n",
    "    'case:endDatePlanned': 'object',\n",
    "    'case:parts': 'object',\n",
    "    'msgCode': 'string',\n",
    "    'msgType': 'string',\n",
    "    'case:landRegisterID': 'object'\n",
    "}\n",
    "\n",
    "# list of file paths to be loaded\n",
    "\n",
    "file_paths = ['BPIC15_1', 'BPIC15_2', 'BPIC15_3', 'BPIC15_4', 'BPIC15_5']\n",
    "\n",
    "# load the first file as a Dask dataframe\n",
    "df = dd.read_csv('../project/data/{}.csv'.format(file_paths[0]), dtype=columnTypes, encoding=\"ISO-8859-1\", sep=',')\n",
    "\n",
    "# iterate over the remaining files\n",
    "for file_path in file_paths[1:]:\n",
    "    # usecols parameter to load only the columns that are present in both dataframes\n",
    "    df_temp = dd.read_csv('../project/data/{}.csv'.format(file_path), dtype=columnTypes)\n",
    "    # concatenate the dataframes along the rows\n",
    "    df = dd.concat([df, df_temp], interleave_partitions=True)\n",
    "\n",
    "# columnTypes = {\n",
    "#     'OfferID': 'string'\n",
    "# }\n",
    "\n",
    "\n",
    "# BPI 2014 sep=''\n",
    "# df = df.rename(columns={\"Incident ID\": \"case:concept:name\", \"IncidentActivity_Type\": \"concept:name\", \"DateStamp\": \"time:timestamp\"})\n",
    "\n",
    "# df = df.rename(columns={\"case concept:name\": \"case:concept:name\", \"event concept:name\": \"concept:name\", \"event time:timestamp\": \"time:timestamp\"})\n",
    "for column in df.columns:\n",
    "    if re.search(\"[Dd]ate.*|time.*\", column):\n",
    "        df[column] = dask.dataframe.to_datetime(df[column], utc=True)\n",
    "\n",
    "df['case:concept:name'] = df['case:concept:name'].replace(to_replace=\"[a-zA-Z]\", value='', regex=True)\n",
    "df['case:concept:name'] = df['case:concept:name'].astype('int')\n",
    "        \n",
    "df = df.repartition(npartitions=1)"
   ]
  },
  {
   "cell_type": "code",
   "execution_count": 102,
   "id": "25eb7937",
   "metadata": {},
   "outputs": [],
   "source": [
    "indexed_df = df.set_index('case:concept:name', drop=False)\n",
    "indexed_df['case:concept:name'] = indexed_df['case:concept:name'].astype({'case:concept:name': 'string'})\n",
    "del df"
   ]
  },
  {
   "cell_type": "code",
   "execution_count": null,
   "id": "28223934",
   "metadata": {},
   "outputs": [],
   "source": [
    "def getAverageEventsPerCase(partition):\n",
    "    return int(partition.groupby('case:concept:name')['concept:name'].count().mean())"
   ]
  },
  {
   "cell_type": "code",
   "execution_count": 103,
   "id": "1c04cf25",
   "metadata": {},
   "outputs": [],
   "source": [
    "indexed_df.index = indexed_df.index.rename('caseId')\n",
    "indexed_df = indexed_df.repartition(npartitions=6)"
   ]
  },
  {
   "cell_type": "code",
   "execution_count": 104,
   "id": "25479e92",
   "metadata": {},
   "outputs": [],
   "source": [
    "# cases count per partition\n",
    "# partition_1 = indexed_df.repartition(npartitions=1).map_partitions(lambda partition: partition[['case:concept:name']].describe())"
   ]
  },
  {
   "cell_type": "code",
   "execution_count": 105,
   "id": "4fa73cbb",
   "metadata": {},
   "outputs": [],
   "source": [
    "# average events per case per partition\n",
    "# partition_1 = indexed_df.repartition(npartitions=1).map_partitions(getAverageEventsPerCase)"
   ]
  },
  {
   "cell_type": "code",
   "execution_count": 106,
   "id": "ea04b6d1",
   "metadata": {},
   "outputs": [
    {
     "data": {
      "text/plain": [
       "unique        5647\n",
       "count       262628\n",
       "top       11550160\n",
       "freq           154\n",
       "Name: case:concept:name, dtype: object"
      ]
     },
     "execution_count": 106,
     "metadata": {},
     "output_type": "execute_result"
    }
   ],
   "source": [
    "indexed_df['case:concept:name'].describe().compute()"
   ]
  },
  {
   "cell_type": "code",
   "execution_count": null,
   "id": "f0b18cb9",
   "metadata": {},
   "outputs": [],
   "source": []
  },
  {
   "cell_type": "code",
   "execution_count": 107,
   "id": "3affbb64",
   "metadata": {},
   "outputs": [],
   "source": [
    "partition_1 = indexed_df.repartition(npartitions=1).map_partitions(lambda partition: partition[['case:concept:name']].describe())"
   ]
  },
  {
   "cell_type": "code",
   "execution_count": 108,
   "id": "b01190cc",
   "metadata": {},
   "outputs": [],
   "source": [
    "partition_2 = indexed_df.repartition(npartitions=2).map_partitions(lambda partition: partition[['case:concept:name']].describe())"
   ]
  },
  {
   "cell_type": "code",
   "execution_count": 109,
   "id": "4111fcf8",
   "metadata": {},
   "outputs": [],
   "source": [
    "partition_4 = indexed_df.repartition(npartitions=4).map_partitions(lambda partition: partition[['case:concept:name']].describe())"
   ]
  },
  {
   "cell_type": "code",
   "execution_count": 110,
   "id": "d0df71b5",
   "metadata": {},
   "outputs": [],
   "source": [
    "partition_6 = indexed_df.repartition(npartitions=6).map_partitions(lambda partition: partition[['case:concept:name']].describe())"
   ]
  },
  {
   "cell_type": "code",
   "execution_count": 111,
   "id": "77706484",
   "metadata": {},
   "outputs": [
    {
     "data": {
      "text/html": [
       "<div>\n",
       "<style scoped>\n",
       "    .dataframe tbody tr th:only-of-type {\n",
       "        vertical-align: middle;\n",
       "    }\n",
       "\n",
       "    .dataframe tbody tr th {\n",
       "        vertical-align: top;\n",
       "    }\n",
       "\n",
       "    .dataframe thead th {\n",
       "        text-align: right;\n",
       "    }\n",
       "</style>\n",
       "<table border=\"1\" class=\"dataframe\">\n",
       "  <thead>\n",
       "    <tr style=\"text-align: right;\">\n",
       "      <th></th>\n",
       "      <th>case:concept:name</th>\n",
       "    </tr>\n",
       "  </thead>\n",
       "  <tbody>\n",
       "    <tr>\n",
       "      <th>count</th>\n",
       "      <td>128963</td>\n",
       "    </tr>\n",
       "    <tr>\n",
       "      <th>unique</th>\n",
       "      <td>2993</td>\n",
       "    </tr>\n",
       "    <tr>\n",
       "      <th>top</th>\n",
       "      <td>4032873</td>\n",
       "    </tr>\n",
       "    <tr>\n",
       "      <th>freq</th>\n",
       "      <td>124</td>\n",
       "    </tr>\n",
       "    <tr>\n",
       "      <th>count</th>\n",
       "      <td>78699</td>\n",
       "    </tr>\n",
       "    <tr>\n",
       "      <th>unique</th>\n",
       "      <td>1538</td>\n",
       "    </tr>\n",
       "    <tr>\n",
       "      <th>top</th>\n",
       "      <td>9098835</td>\n",
       "    </tr>\n",
       "    <tr>\n",
       "      <th>freq</th>\n",
       "      <td>134</td>\n",
       "    </tr>\n",
       "    <tr>\n",
       "      <th>count</th>\n",
       "      <td>28155</td>\n",
       "    </tr>\n",
       "    <tr>\n",
       "      <th>unique</th>\n",
       "      <td>627</td>\n",
       "    </tr>\n",
       "    <tr>\n",
       "      <th>top</th>\n",
       "      <td>11550160</td>\n",
       "    </tr>\n",
       "    <tr>\n",
       "      <th>freq</th>\n",
       "      <td>154</td>\n",
       "    </tr>\n",
       "    <tr>\n",
       "      <th>count</th>\n",
       "      <td>1128</td>\n",
       "    </tr>\n",
       "    <tr>\n",
       "      <th>unique</th>\n",
       "      <td>30</td>\n",
       "    </tr>\n",
       "    <tr>\n",
       "      <th>top</th>\n",
       "      <td>16589504</td>\n",
       "    </tr>\n",
       "    <tr>\n",
       "      <th>freq</th>\n",
       "      <td>86</td>\n",
       "    </tr>\n",
       "    <tr>\n",
       "      <th>count</th>\n",
       "      <td>10720</td>\n",
       "    </tr>\n",
       "    <tr>\n",
       "      <th>unique</th>\n",
       "      <td>182</td>\n",
       "    </tr>\n",
       "    <tr>\n",
       "      <th>top</th>\n",
       "      <td>20283893</td>\n",
       "    </tr>\n",
       "    <tr>\n",
       "      <th>freq</th>\n",
       "      <td>132</td>\n",
       "    </tr>\n",
       "    <tr>\n",
       "      <th>count</th>\n",
       "      <td>14963</td>\n",
       "    </tr>\n",
       "    <tr>\n",
       "      <th>unique</th>\n",
       "      <td>277</td>\n",
       "    </tr>\n",
       "    <tr>\n",
       "      <th>top</th>\n",
       "      <td>20631577</td>\n",
       "    </tr>\n",
       "    <tr>\n",
       "      <th>freq</th>\n",
       "      <td>110</td>\n",
       "    </tr>\n",
       "  </tbody>\n",
       "</table>\n",
       "</div>"
      ],
      "text/plain": [
       "       case:concept:name\n",
       "count             128963\n",
       "unique              2993\n",
       "top              4032873\n",
       "freq                 124\n",
       "count              78699\n",
       "unique              1538\n",
       "top              9098835\n",
       "freq                 134\n",
       "count              28155\n",
       "unique               627\n",
       "top             11550160\n",
       "freq                 154\n",
       "count               1128\n",
       "unique                30\n",
       "top             16589504\n",
       "freq                  86\n",
       "count              10720\n",
       "unique               182\n",
       "top             20283893\n",
       "freq                 132\n",
       "count              14963\n",
       "unique               277\n",
       "top             20631577\n",
       "freq                 110"
      ]
     },
     "execution_count": 111,
     "metadata": {},
     "output_type": "execute_result"
    }
   ],
   "source": [
    "partition_6.compute()"
   ]
  },
  {
   "cell_type": "code",
   "execution_count": 99,
   "id": "2e5769f6",
   "metadata": {},
   "outputs": [
    {
     "data": {
      "text/plain": [
       "0    64\n",
       "1    64\n",
       "dtype: int64"
      ]
     },
     "execution_count": 99,
     "metadata": {},
     "output_type": "execute_result"
    }
   ],
   "source": [
    "partition_2.memory_usage_per_partition(index=True, deep=False).compute()"
   ]
  },
  {
   "cell_type": "code",
   "execution_count": 64,
   "id": "7c41ad47",
   "metadata": {},
   "outputs": [],
   "source": [
    "# partition_1.to_csv('bpi_2015_cases_count_frequency/1_partition/*.csv')"
   ]
  },
  {
   "cell_type": "code",
   "execution_count": 68,
   "id": "cb1898a4",
   "metadata": {},
   "outputs": [],
   "source": [
    "# partition_2.to_csv('bpi_2015_cases_count_frequency/2_partition/*.csv')"
   ]
  },
  {
   "cell_type": "code",
   "execution_count": 69,
   "id": "494061de",
   "metadata": {},
   "outputs": [],
   "source": [
    "# partition_4.to_csv('bpi_2015_cases_count_frequency/4_partition/*.csv')"
   ]
  },
  {
   "cell_type": "code",
   "execution_count": 70,
   "id": "895a3afa",
   "metadata": {},
   "outputs": [],
   "source": [
    "# partition_6.to_csv('bpi_2015_cases_count_frequency/6_partition/*.csv')"
   ]
  },
  {
   "cell_type": "code",
   "execution_count": 71,
   "id": "d8aeaa7f",
   "metadata": {},
   "outputs": [],
   "source": [
    "# x = df.groupby('case:concept:name')['concept:name'].count().value_counts()"
   ]
  },
  {
   "cell_type": "code",
   "execution_count": 72,
   "id": "faa9143c",
   "metadata": {},
   "outputs": [],
   "source": [
    "# output = x.to_csv('bpi_2015_events_count_frequency.csv', single_file=True)"
   ]
  },
  {
   "cell_type": "code",
   "execution_count": null,
   "id": "6b049b70",
   "metadata": {},
   "outputs": [],
   "source": []
  }
 ],
 "metadata": {
  "kernelspec": {
   "display_name": "Python 3 (ipykernel)",
   "language": "python",
   "name": "python3"
  },
  "language_info": {
   "codemirror_mode": {
    "name": "ipython",
    "version": 3
   },
   "file_extension": ".py",
   "mimetype": "text/x-python",
   "name": "python",
   "nbconvert_exporter": "python",
   "pygments_lexer": "ipython3",
   "version": "3.11.3"
  }
 },
 "nbformat": 4,
 "nbformat_minor": 5
}
